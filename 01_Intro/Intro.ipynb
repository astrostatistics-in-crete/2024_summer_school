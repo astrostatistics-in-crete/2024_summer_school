{
 "cells": [
  {
   "cell_type": "code",
   "execution_count": null,
   "id": "f06f94ee",
   "metadata": {},
   "outputs": [],
   "source": [
    "import numpy as np\n",
    "import scipy.stats as st\n",
    "import matplotlib.pyplot as plt\n",
    "from scipy.optimize import minimize\n",
    "from IPython.display import display, HTML\n",
    "display(HTML(\"<style>.container { width:100% !important; }</style>\"))"
   ]
  },
  {
   "cell_type": "markdown",
   "id": "a620ae9a",
   "metadata": {},
   "source": [
    "<font size=6>**Introduction to Probability**</font>\n",
    "\n",
    "# 1. Probability\n",
    "\n",
    "The fundamental concept in statistics is the probability, denoted as:\n",
    "\n",
    "$$\\Large P(A)$$\n",
    "\n",
    "which represents the probability (or our belief) of the occurance of an event $A$.\n",
    "\n",
    "The basic property of a probability is that\n",
    "\n",
    "$$\\Large  0 \\leq P(A) \\leq 1 $$\n",
    "\n",
    "where 0 is the value of an impossible event, while 1 that of a certain event!\n",
    "\n",
    "## 1.1. Probability calculus\n",
    "\n",
    "1. In most cases, A is not certain. There is a scenario of A not happening. This event is \"complementary\" to A:\n",
    "\n",
    "$$\\Large  P(A^c) = P(\\bar{A}) =  1 - P(A) $$\n",
    "\n",
    "2. This can be extended to a series of alternative scenarios/events: A, B, C, ...\n",
    "\n",
    "$$\\Large  P(A) + P(B) + P(C) + \\cdots = 1 $$\n",
    "\n",
    "> Note that the events are alternatives: when one is true, the others are false!\n",
    "\n",
    "3. Sum rule: the probability of either A or B happening is equal to the sum of the probabilities minus the probability of both happening:\n",
    "\n",
    "$$\\Large  P(A \\cup B) = P(A \\text{ or } B) = P(A) + P(B) - P(A \\cap B) = P(A) + P(B) - P(A \\text{ and } B)$$\n",
    "\n",
    "\n",
    "![AandB](images/A_B.png)"
   ]
  },
  {
   "cell_type": "markdown",
   "id": "08bc3b31",
   "metadata": {},
   "source": [
    "## 1.2. Conditional probability\n",
    "\n",
    "The probability of $A$ given $B$, is the probability of $A$ happening given that $B$ is true as well:\n",
    "\n",
    "$$\\Large  P(A | B) $$\n",
    "\n",
    "> The conditional probability is useful to express dependencies between events.\n",
    "\n",
    "\n",
    "## 1.3. Factoring probabilities\n",
    "\n",
    "The **joint** probability of $A$ and $B$ can be expressed using the conditional probability:\n",
    "\n",
    "$$\\Large P(A \\text{ and } B) =  P(A, B) = P(A|B) P(B)$$\n",
    "\n",
    "which simply states that the probability of both $A$ and $B$ happening is equal to the probability of A given B, times the probability of $B$.\n",
    "\n",
    "> Factorization is a way to **break** the expressions into simpler, or more understood terms!\n",
    "\n",
    "## 1.4. Independence\n",
    "\n",
    "If $A$ and $B$ are completely independent, i.e. whether $A$ is true or false has nothing to do with the state of $B$, then the conditional probability is equal to the probability of the event itself:\n",
    "\n",
    "$$\\Large  P(A | B) = P(A) $$\n",
    "\n",
    "which simplifies the factorization:\n",
    "\n",
    "$$\\Large  P(A, B) = P(A) P(B) $$\n",
    "\n",
    "> Independence is a useful property (or assumption) which simplifies probability terms and conditional probabilities.\n",
    "\n",
    "## 1.5. Marginalization\n",
    "\n",
    "The probability of $A$ can be expressed as the probability of A and B plus the probability of A and not B:\n",
    "\n",
    "$$\\Large  P(A) = P(A, B) + P(A, \\bar{B}).$$\n",
    "\n",
    "Or if $B$ has multiple *mutually exclusive* and *exhaustive* outcomes $B_1$, $B_2$, $\\dots$, $B_k$, such that $P(B_1)+P(B_2)+\\cdots+P(B_k)=1$:\n",
    "\n",
    "$$\\Large  P(A) = \\sum\\limits_{i=1}^k P(A, B_i) $$\n",
    "\n",
    "> Marginalization is a way to **introduce** other events / parameters / models in the probability of interest."
   ]
  },
  {
   "cell_type": "markdown",
   "id": "de7ce957",
   "metadata": {},
   "source": [
    "# 2. Continuous variables\n",
    "\n",
    "## 2.1. Probability density\n",
    "\n",
    "What if we don't have distinct events, and our set is infinite?\n",
    "\n",
    "This is typical of continuous variables, such as magnitudes, colors, luminosities, mass, radii, etc.\n",
    "\n",
    "Let's load SDSS data of white dwarfs of spectral type DB (ie., no hydrogen but helium absoption lines) [1]\n",
    "\n",
    "[1] Kleinman, S. J., “SDSS DR7 White Dwarf Catalog”, <i>The Astrophysical Journal Supplement Series</i>, vol. 204, no. 1, IOP, 2013. doi:10.1088/0067-0049/204/1/5.\n"
   ]
  },
  {
   "cell_type": "code",
   "execution_count": null,
   "id": "e223e787",
   "metadata": {},
   "outputs": [],
   "source": [
    "# let's get the data...\n",
    "DB_WDs = np.load(\"data/DB_kleinman.npz\")['a']\n",
    "# ...and compute the g-r color \n",
    "g_r = DB_WDs[\"g\"] - DB_WDs[\"r\"]\n",
    "\n",
    "plt.figure()\n",
    "plt.hist(g_r, bins=\"fd\", alpha=0.5)\n",
    "plt.xlabel(\"$g-r$ (mag)\")\n",
    "plt.ylabel(\"Number of DB WDs\")\n",
    "plt.show()"
   ]
  },
  {
   "cell_type": "markdown",
   "id": "d1eeed16",
   "metadata": {},
   "source": [
    "Q: What is the probability of a DB WD to have $g-r = -0.3$?"
   ]
  },
  {
   "cell_type": "code",
   "execution_count": null,
   "id": "0fc2cb22",
   "metadata": {},
   "outputs": [],
   "source": [
    "# computing the fraction of values with g-r = -1\n",
    "print(f\"P(g-r = {-0.3:.6f}) = {np.mean(g_r == -0.3):.4f}\")\n",
    "\n",
    "# finding the value closest to -0.3 and computing the fraction of the data having it\n",
    "value_close_to_it = g_r[np.argmin(np.abs(g_r + 0.3))]\n",
    "print(f\"P(g-r = {value_close_to_it:.6f}) = {np.mean(g_r == value_close_to_it):.4f}\")"
   ]
  },
  {
   "cell_type": "code",
   "execution_count": null,
   "id": "0bc08cc1",
   "metadata": {},
   "outputs": [],
   "source": [
    "plt.figure()\n",
    "plt.hist(g_r, bins=400)\n",
    "plt.xlabel(\"$g-r$ (mag)\")\n",
    "plt.ylabel(\"Number of DB WDs\")\n",
    "plt.show()"
   ]
  },
  {
   "cell_type": "markdown",
   "id": "f29d89b1",
   "metadata": {},
   "source": [
    "Consequently, for continuous $x$, the quantity $P(x)$ will always be 0! On the other hand, we can calculate the probabilities in a given range of values. For example, the probability of $g-r < -0.3$?\n",
    "\n",
    "$$\\Large P(g-r < -0.3)$$"
   ]
  },
  {
   "cell_type": "code",
   "execution_count": null,
   "id": "13988cc4",
   "metadata": {},
   "outputs": [],
   "source": [
    "# the fraction of colors less than -0.3\n",
    "np.mean(g_r < -0.3)"
   ]
  },
  {
   "cell_type": "markdown",
   "id": "c2ce6bce",
   "metadata": {},
   "source": [
    "which is complementary to the alternative scenario, $g-r \\geq -0.3$:\n",
    "\n",
    "$$\\Large P(g-r \\geq -0.3)$$"
   ]
  },
  {
   "cell_type": "code",
   "execution_count": null,
   "id": "92f22c11",
   "metadata": {},
   "outputs": [],
   "source": [
    "# the fraction of colors greater or equal to -0.3\n",
    "np.mean(g_r >= -0.3)"
   ]
  },
  {
   "cell_type": "markdown",
   "id": "b1d67e09",
   "metadata": {},
   "source": [
    "Therefore, $P(x)$ can still be used as a **probability density** which is supposed to be multiplied by $dx$:\n",
    "\n",
    "$$\\Large  P(x) \\; dx \\simeq P(x < x' < x+\\Delta x) \\; \\Delta x$$\n",
    "\n",
    "\n",
    "The total probability is therefore:\n",
    "\n",
    "$$\\Large \\int\\limits_{-\\infty}^{+\\infty} P(x)\\,dx = 1 $$\n",
    "\n",
    "\n",
    "From this, it's easy to see that...\n",
    "> ..the probability density $P(x)$ has unit, that of $x^{-1}$"
   ]
  },
  {
   "cell_type": "markdown",
   "id": "f125f708",
   "metadata": {},
   "source": [
    "Probability density functions are functions that describe useful probability distributions. The most famous and useful of all... the **normal** or **Gaussian** distribution:\n",
    "\n",
    "$$\\Large f(x) = \\frac{1}{\\sqrt{2\\pi\\sigma^2}} \\exp \\left[ -\\frac{\\left(x-\\mu\\right)^2}{2\\sigma^2} \\right] $$\n",
    "\n",
    "where $\\mu$ and $\\sigma$ are the mean value and standard deviation. If our data follow the normal distribution, then the sample mean and stadard deviation can be used to express the distribution function with this parametric formula!"
   ]
  },
  {
   "cell_type": "markdown",
   "id": "b2d1a621",
   "metadata": {},
   "source": [
    "## Exercise 1: Draw the sample and the corresponding normal distribution\n",
    "\n",
    "It this exercise you are asked to fill in the missing code in order to plot a histogram of the sample along with a Gaussian distribution that best describes it. For this you need to perform the tasks below:\n",
    "\n",
    "<div class=\"alert alert-block alert-warning\" style=\"margin-top: 20px\">\n",
    "\n",
    "1. Find the mean and the standard deviation of the sample (check [numpy's `np.mean`](https://numpy.org/doc/stable/reference/generated/numpy.mean.html) and [`np.std`](https://numpy.org/doc/stable/reference/generated/numpy.std.html)). \n",
    "\n",
    "2. Restrict the $x$ values within 5 sigmas around the mean.\n",
    "\n",
    "3. Calculate the Gaussian PDF values.\n",
    "    \n",
    "4. Add the necessary quantities in the plot functions.    \n",
    "</div>"
   ]
  },
  {
   "cell_type": "code",
   "execution_count": null,
   "id": "1abac91e",
   "metadata": {},
   "outputs": [],
   "source": [
    "sample_mean = ...\n",
    "sample_std = ... \n",
    "\n",
    "# let's plot 5 sigmas around the mean value...\n",
    "x_values = np.arange(... ,... , sample_std/10.0)\n",
    "# ...the Gaussian PDF\n",
    "y_values = 1 / ( ... )\n",
    "\n",
    "plt.figure()\n",
    "plt.hist(... , bins=30, density=True)\n",
    "plt.plot(..., ..., \"r-\")\n",
    "plt.show()"
   ]
  },
  {
   "cell_type": "markdown",
   "id": "829483ec",
   "metadata": {},
   "source": [
    "## 2.2. Predefined probability density functions\n",
    "\n",
    "In `scipy` we can find most of the popular distributions, providing functions to calculate the PDF, PMF, and even the $\\log$-versions of them (optimized for accuracy when small numbers are expected)."
   ]
  },
  {
   "cell_type": "code",
   "execution_count": null,
   "id": "12a049e4",
   "metadata": {},
   "outputs": [],
   "source": [
    "x_points = np.linspace(-3, 6.0, 1000)\n",
    "\n",
    "# various distributions to try\n",
    "distributions = [\n",
    "    st.norm(),\n",
    "    st.gamma(1.5),\n",
    "    st.cauchy(),\n",
    "    st.weibull_max(1.05),\n",
    "]\n",
    "\n",
    "plt.figure()\n",
    "for distribution in distributions:\n",
    "    pdf = distribution.pdf(x_points)\n",
    "    plt.plot(x_points, pdf, label=distribution.dist.name, lw=2)\n",
    "plt.legend(loc=\"upper right\")\n",
    "plt.ylabel(\"PDF(x)\")\n",
    "plt.xlabel(\"x\")\n",
    "plt.show()"
   ]
  },
  {
   "cell_type": "markdown",
   "id": "3210386a",
   "metadata": {},
   "source": [
    "## 2.3. The cumulative distribution function\n",
    "\n",
    "Simply, the probability of \"less than a value\":\n",
    "\n",
    "$$\\Large F(x) = \\int\\limits_{-\\infty}^{x} f(x')\\,dx'$$\n",
    "\n",
    "where $f(x)$ is the probability density function.\n",
    "\n",
    "Let's see how it looks with our data:"
   ]
  },
  {
   "cell_type": "code",
   "execution_count": null,
   "id": "00614c93",
   "metadata": {},
   "outputs": [],
   "source": [
    "sample_mean = np.mean(g_r)\n",
    "sample_std = np.std(g_r)\n",
    "\n",
    "distribution = st.norm(sample_mean, sample_std)\n",
    "x_values = np.arange(sample_mean-5*sample_std, sample_mean+5*sample_std, sample_std/10.0)\n",
    "\n",
    "plt.figure()\n",
    "plt.hist(g_r, bins=30, density=True, cumulative=1, histtype=\"step\", label=\"Data\")\n",
    "plt.plot(x_values, distribution.cdf(x_values), \"r-\", label=\"Normal approximation\")\n",
    "plt.legend(loc=\"upper left\")\n",
    "plt.show()"
   ]
  },
  {
   "cell_type": "markdown",
   "id": "05da6cb4",
   "metadata": {},
   "source": [
    "# 3. Discrete variables\n",
    "\n",
    "## 3.1. Probability mass function\n",
    "\n",
    "Let's go back to the discrete case! Events A, B, ... do not necessarily have an order. However, there are cases where the events have an order, typically when they are numerical. For example, the numbers of astronomical objects in a certain galaxy/volume/region in Milky Way, or the photon counts in high energy astrophysics, are Poisson-distributed.\n",
    "\n",
    "Let's plot the probability of getting 0, 1, ... counts when the mean photon count is known (assuming Poisson distribution)."
   ]
  },
  {
   "cell_type": "code",
   "execution_count": null,
   "id": "116d924f",
   "metadata": {},
   "outputs": [],
   "source": [
    "mean_photon_count = 4.7\n",
    "distribution = st.poisson(mean_photon_count)\n",
    "\n",
    "photon_counts = np.arange(0, mean_photon_count*3)\n",
    "photon_pmf = distribution.pmf(photon_counts)\n",
    "\n",
    "plt.figure()\n",
    "plt.plot(photon_counts, photon_pmf, \"ks\")\n",
    "plt.show()"
   ]
  },
  {
   "cell_type": "markdown",
   "id": "9c6a8d82",
   "metadata": {},
   "source": [
    "This is not a probability density any more. We have a measurable probability for 0, 1, 2, 3, ... photons! We often use different letters to signify the integer values of such probability mass functions ($k$, $l$, $m$). Thus,\n",
    "\n",
    "$$ \\Large \\sum\\limits_{k=0}^{\\infty} P(k) = 1 $$"
   ]
  },
  {
   "cell_type": "markdown",
   "id": "bb28760f",
   "metadata": {},
   "source": [
    "Let's test this with the values in the plot:"
   ]
  },
  {
   "cell_type": "code",
   "execution_count": null,
   "id": "9b013291",
   "metadata": {},
   "outputs": [],
   "source": [
    "sum(photon_pmf)"
   ]
  },
  {
   "cell_type": "markdown",
   "id": "defb8bf5",
   "metadata": {},
   "source": [
    "## 3.2. CDF of discrete distributions\n",
    "\n",
    "The cumulative distribution function is always an integral even if the variable is discrete.\n",
    "\n",
    "However, because of the discrete nature of the probability mass function, it's a **discontinuous** function:"
   ]
  },
  {
   "cell_type": "code",
   "execution_count": null,
   "id": "eff51295",
   "metadata": {},
   "outputs": [],
   "source": [
    "mean_photon_count = 4.7\n",
    "distribution = st.poisson(mean_photon_count)\n",
    "\n",
    "\n",
    "xx = np.linspace(0, mean_photon_count*3, 100)\n",
    "photon_cdf = distribution.cdf(xx)\n",
    "\n",
    "plt.figure()\n",
    "plt.plot(xx, photon_cdf, \"k-\")\n",
    "plt.show()"
   ]
  },
  {
   "cell_type": "markdown",
   "id": "fb1b4527",
   "metadata": {},
   "source": [
    "## Exercise 2: Working with probability density/mass functions\n",
    "\n",
    "It this exercise you are asked to fill in the missing code in order to plot a sample from a specific distribution and calculate various characteristic properties. \n",
    "\n",
    "<div class=\"alert alert-block alert-warning\" style=\"margin-top: 20px\">\n",
    "    \n",
    "1. Make a sample of 10000 points from the distribution </br>(**hint:** use the [.rvs](https://docs.scipy.org/doc/scipy/reference/generated/scipy.stats.sampling.TransformedDensityRejection.rvs.html#rvs) method, that generates random samples from a distribution). Plot the sample using a histogram.\n",
    "\n",
    "2. Make and plot the pdf and cdf of the distribution.\n",
    "\n",
    "3. Calculate the mean, median, standard deviation of the distribution.\n",
    "\n",
    "4. Calculate the 5% percentile <br>\n",
    "(**hint:** use the [.ppf](https://docs.scipy.org/doc/scipy/reference/generated/scipy.stats.rv_continuous.ppf.html#ppf) method, that finds the point of the distribution that satisfies the given percent).\n",
    "\n",
    "5. Find the 68% confidence interval<br>\n",
    "(**hint:** use the [.interval](https://docs.scipy.org/doc/scipy/reference/generated/scipy.stats.rv_continuous.interval.html#interval) method)\n",
    "\n",
    "</div>\n"
   ]
  },
  {
   "cell_type": "code",
   "execution_count": null,
   "id": "77c64d94",
   "metadata": {},
   "outputs": [],
   "source": [
    "# the plotting range\n",
    "x_points = np.linspace(0.0, 4.0, 300)\n",
    "\n",
    "# Use a normal distribution if you want\n",
    "# dist = st.norm(2.0, 0.35)\n",
    "\n",
    "# ... or the Fisk (or lof-logistic) distribution to use, \n",
    "# check https://docs.scipy.org/doc/scipy/reference/generated/scipy.stats.fisk.html\n",
    "dist = st.fisk(2.5)\n",
    "\n",
    "# draw a (large) sample from the distribution\n",
    "sample = ... \n",
    "\n",
    "# calculate the PDF in the plotting range\n",
    "pdf = ... \n",
    "\n",
    "# calculate the CDF in the plotting range\n",
    "cdf = ...\n",
    "\n",
    "# compute the mean, median, and standard deviation\n",
    "mean = ...\n",
    "median = ...\n",
    "std = ...\n",
    "\n",
    "# find the 5% percentile, and the 68% confidence interval\n",
    "p05 = ...\n",
    "lo68, hi68 = ... \n",
    "\n",
    "# search for the maximum of the distribution (mode)\n",
    "mode = minimize(lambda x: -dist.pdf(x), x0=median).x\n",
    "\n",
    "# report what we found\n",
    "\n",
    "print(f\"Standard deviation: {std:.4f}\")\n",
    "\n",
    "plt.figure()\n",
    "plt.hist(sample, bins=\"fd\", density=True,\n",
    "         histtype=\"step\", color=\"b\", lw=1, label=\"Sample\")\n",
    "plt.plot(x_points, pdf, \"k-\", lw=2, label=\"PDF\")\n",
    "plt.plot(x_points, cdf, \"k:\", lw=2, label=\"CDF\")\n",
    "plt.axvspan(lo68, hi68, color=\"m\", alpha=0.3, ec=\"none\", label=\"68% CI\")\n",
    "plt.axvline(mode, color=\"k\", ls=\"-\", lw=4, label=\"Mode\")\n",
    "plt.axvline(mean, color=\"r\", ls=\"-\", lw=3, label=\"Mean\")\n",
    "plt.axvline(median, color=\"g\", lw=2, label=\"Median\")\n",
    "plt.axvline(p05, color=\"m\", label=\"5% percentile\")\n",
    "plt.legend(loc=\"center right\")\n",
    "plt.xlim(0.0, 4.0)\n",
    "plt.ylim(ymin=0.0)\n",
    "plt.show()"
   ]
  },
  {
   "cell_type": "markdown",
   "id": "f3bde131",
   "metadata": {},
   "source": [
    "Notice that when the distribution is not symmetric:\n",
    "1. The normal CI, has edges with different probability density! It's not selecting regions of high probability necessarily\n",
    "2. The mode... is the most probably value. Typically we search for that in many statistical operations... and it's not given by standard functions (e.g., mean)\n",
    "3. Knowing the distributions of your data, statistics, etc., and knowing how to work with them can make a huge difference!\n"
   ]
  },
  {
   "cell_type": "markdown",
   "id": "d55ed130",
   "metadata": {},
   "source": [
    "# 4. Probability calculus recap and more on continuous variables\n",
    "\n",
    "### Basic properties of probability \n",
    "\n",
    "#### Discrete case\n",
    "\n",
    "$$\\Large  0 \\leq P(A) \\leq 1 $$\n",
    "$$\\Large  \\sum_i P(A_i) = 1 $$\n",
    "\n",
    "#### Continuous case (probability density)\n",
    "\n",
    "$$\\Large  0 \\leq P(A) $$\n",
    "\n",
    "$$\\Large  \\int\\limits_{-\\infty}^{\\infty} P(A) = 1 $$\n",
    "\n",
    "Notice that the density can be larger than 1, since only $P(A)\\, dA \\leq 1$\n",
    "\n",
    "### Conditional probability, factorization and independence\n",
    "\n",
    "* Conditional probability: $ P(A | B) $\n",
    "* Factorization: $ P(A, B) = P(A|B) P(B) $\n",
    "* If A and B independent: $ P(A | B) = P(A) \\quad\\Rightarrow\\quad P(A, B) = P(A) P(B) $\n",
    "\n",
    "### Marginalization\n",
    "\n",
    "* Discrete case: $$\\Large P(A) = \\sum\\limits_k P(A,B_k)$$\n",
    "* Continuous case: $$\\Large P(A) = \\int\\limits_{-\\infty}^{+\\infty} P(A, B)\\,dB $$"
   ]
  }
 ],
 "metadata": {
  "kernelspec": {
   "display_name": "Python (AstroStat24)",
   "language": "python",
   "name": "astrostat24"
  },
  "language_info": {
   "codemirror_mode": {
    "name": "ipython",
    "version": 3
   },
   "file_extension": ".py",
   "mimetype": "text/x-python",
   "name": "python",
   "nbconvert_exporter": "python",
   "pygments_lexer": "ipython3",
   "version": "3.9.16"
  },
  "toc": {
   "base_numbering": 1,
   "nav_menu": {},
   "number_sections": true,
   "sideBar": true,
   "skip_h1_title": false,
   "title_cell": "Table of Contents",
   "title_sidebar": "Contents",
   "toc_cell": false,
   "toc_position": {},
   "toc_section_display": true,
   "toc_window_display": false
  }
 },
 "nbformat": 4,
 "nbformat_minor": 5
}
