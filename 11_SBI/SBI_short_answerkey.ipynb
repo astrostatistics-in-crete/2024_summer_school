{
 "cells": [
  {
   "cell_type": "markdown",
   "metadata": {},
   "source": [
    "<a target=\"_blank\" href=\"https://colab.research.google.com/github/astrostatistics-in-crete/2024_summer_school/blob/main/13_SBI/SBI_short_answerkey.ipynb\">\n",
    "  <img src=\"https://colab.research.google.com/assets/colab-badge.svg\" alt=\"Open In Colab\"/>\n",
    "</a>"
   ]
  },
  {
   "cell_type": "markdown",
   "metadata": {},
   "source": [
    "# **Simulation-Based Inference**"
   ]
  },
  {
   "cell_type": "markdown",
   "metadata": {},
   "source": [
    "**Note:** This notebook is the short one that we will go through in class. The full version of the notebook, with all the methods and more details is the `SBI_full.ipynb`."
   ]
  },
  {
   "cell_type": "code",
   "execution_count": null,
   "metadata": {},
   "outputs": [],
   "source": [
    "# ! pip install --upgrade emcee pytorch-lightning nflows getdist --quiet"
   ]
  },
  {
   "cell_type": "code",
   "execution_count": 1,
   "metadata": {},
   "outputs": [],
   "source": [
    "import torch\n",
    "import torch.nn as nn\n",
    "import torch.nn.functional as F\n",
    "from torch.utils.data import TensorDataset, DataLoader, random_split\n",
    "import numpy as np\n",
    "import emcee\n",
    "from scipy.stats import poisson\n",
    "from scipy.stats import chi2\n",
    "from scipy.optimize import basinhopping\n",
    "from tqdm import tqdm\n",
    "import matplotlib.pyplot as plt\n",
    "import pytorch_lightning as pl\n",
    "from scipy.stats import norm\n",
    "from getdist import plots, MCSamples\n",
    "from scipy.integrate import quad\n",
    "import multiprocessing\n",
    "from multiprocessing import Pool"
   ]
  },
  {
   "cell_type": "code",
   "execution_count": 2,
   "metadata": {},
   "outputs": [],
   "source": [
    "from nflows.flows.base import Flow\n",
    "from nflows.distributions.normal import StandardNormal\n",
    "from nflows.transforms.base import CompositeTransform\n",
    "from nflows.transforms.autoregressive import MaskedAffineAutoregressiveTransform\n",
    "from nflows.transforms.permutations import ReversePermutation"
   ]
  },
  {
   "cell_type": "code",
   "execution_count": 3,
   "metadata": {},
   "outputs": [],
   "source": [
    "%matplotlib inline"
   ]
  },
  {
   "cell_type": "code",
   "execution_count": 4,
   "metadata": {},
   "outputs": [
    {
     "data": {
      "text/plain": [
       "'2.0.1+cu117'"
      ]
     },
     "execution_count": 4,
     "metadata": {},
     "output_type": "execute_result"
    }
   ],
   "source": [
    "torch.__version__"
   ]
  },
  {
   "cell_type": "markdown",
   "metadata": {},
   "source": [
    "# 1. Introduction"
   ]
  },
  {
   "cell_type": "markdown",
   "metadata": {},
   "source": [
    "## 1.1. Revisiting Bayesian Inference\n",
    "\n",
    "The goal of Bayesian inference is given a model and some observed data $x$, to infer the distribution of the model parameters $\\theta$ that are consistent with the data, i.e. the posterior distribution $p(\\theta|x)$. This is achieved using Bayes' theorem: \n",
    "$$ p(\\theta|x) = \\frac{p(x|\\theta)p(\\theta)}{p(x)}$$\n",
    "\n",
    "In astronomy, the observed data $x$ and the respective parameters $\\theta$ can be e.g.:\n",
    "\n",
    "| <center> x </center> | <center> θ </center> |\n",
    "| --- | --- |\n",
    "| observed X-ray photon count of a galaxy cluster | the mass of the cluster |\n",
    "|  gravitational wave signal from a collapsing black hole binary | the mass ratio and ellipticity of the binary |\n",
    "|  2D sky projection of galaxy weak lensing measurements | the cosmological parameters governing dark matter and dark energy |"
   ]
  },
  {
   "cell_type": "markdown",
   "metadata": {},
   "source": [
    "<p float=\"center\">\n",
    "<center>\n",
    "  <img src=\"assets/likelihood_prior_posterior.png\" width=\"500\" />\n",
    "  <img src=\"assets/prior_lh_post.png\" width=\"300\" /> \n",
    " </center> \n",
    "</p>\n",
    "\n",
    "<small> \n",
    "\n",
    "<i>Figure 1 (Left):</i> Example of Bayesian inference with a prior distribution, a posterior distribution, and a likelihood function. Taken from https://doi.org/10.3389/fncom.2019.00002 .\n",
    "\n",
    "<i>Figure 2 (Right):</i> The prior, likelihood and posterior distributions for an arbitrary 1D inference problem. Given an observed data point $x_0$ (in black), we want to infer the posterior constraints on the model parameter $\\theta$. Taken from https://doi.org/10.48550/arXiv.2402.05137 .\n",
    "\n",
    "</small>\n"
   ]
  },
  {
   "cell_type": "markdown",
   "metadata": {},
   "source": [
    "### 1.1.1. Let's first remind ourselves of what the Likelihood function is:\n",
    "The likelihood function quantifies how likely the <span style=\"color:darkorange\">*observed data*</span> is, given a set of <span style=\"color:darkorange\">*model parameters*</span>, that describe our theory. Essentially, the likelihood is what we know about how the data was generated, and it describes this probabilistic process the data went through and how it depends on the model parameters.\n",
    "\n",
    "Given some data/observations $x$, generated through some stochastic process, we can sometimes <span style=\"color:darkorange\">*construct*</span> a likelihood function that describes the probability of observing the data given some parameters $\\theta$. \n",
    "\n",
    "Normally, we derive the analytical form of the likelihood function from the <span style=\"color:darkorange\">theory</span>, combined with some <span style=\"color:darkorange\">assumptions about the noise</span> in the data or <span style=\"color:darkorange\">unknown physics</span> (e.g. assume Gaussian distribution for continuous data, Poisson distribution for count data)."
   ]
  },
  {
   "cell_type": "markdown",
   "metadata": {},
   "source": [
    "### 1.1.2. The limits of traditional inference:\n",
    "What we have described so far is the traditional Bayesian inference, where we write down an *analytical* form of the likelihood. Afterwards, we can sometimes analytically compute the posterior distribution (if the evidence term is tractable)\n",
    "or use sampling methods (e.g. MCMC) to sample from it.\n",
    "\n",
    "However, we often encounter complex systems where the underlying processes are not fully understood or are too complicated to model analytically &rarr; <span style=\"color:darkorange\">for a general inference problem, we may not know which likelihood function to choose or whether this choice is valid.</span>\n",
    "\n",
    "**So, what happens when we cannot write down an analytical form of the likelihood?**\n",
    "\n",
    "<details>\n",
    "<summary><span style=\"color:red\"> <b>[Spoiler]</b> (click here to expand)</span></summary>\n",
    "We can resort to...\n",
    "<img src=assets/sponge_bob.jpg width=400>\n",
    "</details>\n"
   ]
  },
  {
   "cell_type": "markdown",
   "metadata": {},
   "source": [
    "## 1.2. Simulators\n",
    "\n",
    "Simulators are <span style=\"color:darkorange\">computer programs that generate synthetic data from a model</span>. They take as **input** a set of parameters $\\theta$, sample a series of internal states or **latent variables**, $z_i \\sim p(z_i | z_{<i}, \\theta)$, and then **generate** a data vector $x \\sim p(x | z, \\theta)$.\n",
    "\n",
    "In astronomy, some examples of simulators are:\n",
    "- **N-body simulations**: simulate the evolution of a system of particles under the influence of gravity.\n",
    "- **Galaxy formation simulations**: simulate the formation and evolution of galaxies.\n",
    "- **Stellar population synthesis**: simulate the spectral energy distribution of a stellar population.\n",
    "\n",
    "The **latent variables** $z$ can be:\n",
    "- **physical quantities** that are not directly observable (e.g. position of a particle in an N-body simulation).\n",
    "- **non-physical quantities** that are internal to the simulator, and do not have a direct physical interpretation (e.g. some internal state)."
   ]
  },
  {
   "cell_type": "markdown",
   "metadata": {},
   "source": [
    "<center><img src=\"assets/lfi_sim_dark.png\" width=\"800\">\n",
    "\n",
    "<small> <i>Figure 3:</i> The simulator takes as input the model parameters $\\theta$ and generates synthetic data $x$. We can view the simulator as a black box function that can be used to generate data for any set of parameters. </small></center>\n",
    "</center>"
   ]
  },
  {
   "cell_type": "markdown",
   "metadata": {},
   "source": [
    "\n",
    "\n",
    "\n",
    "The question is: \n",
    "\n",
    "***How can we use simulations to perform inference?***"
   ]
  },
  {
   "cell_type": "markdown",
   "metadata": {},
   "source": [
    "## 1.3. Simulation-based inference: The basic idea\n",
    "Instead of trying to analytically evaluate the likelihood, we can build a **forward model** of the data &rarr; the stochastic **simulator** becomes the physical **model**.\n",
    "\n",
    "The <span style=\"color:darkorange\">outputs of the simulator</span> are this way <span style=\"color:darkorange\">samples of the observational data</span> that we would expect to observe given the parameters $\\theta$. \n",
    "\n",
    "So, if we simulate enough examples, we can measure the *frequency* of examples that are similar to the observed data, which is the <span style=\"color:darkorange\">same as sampling from the likelihood function</span>!\n",
    "\n",
    "This way, we can:\n",
    "- bypass the need to evaluate the likelihood analytically\n",
    "- fully exploit the information content of the data\n",
    "- incorporate complex physical models, and systematic effects\n",
    "- combine multiple probes via joint simulations\n",
    "\n",
    "<center>\n",
    "<img src=\"assets/meme_problem_solved.webp\" width=\"400\" />\n",
    "</center>"
   ]
  },
  {
   "cell_type": "markdown",
   "metadata": {},
   "source": [
    "***So why hasn't this been mainstream until now?***\n",
    "\n",
    "### 1.3.1 The challenge of simulation-based inference\n",
    "The probability of a simulation run depends jointly on the observation and the *stochastic latent variables* $z$ of the simulator: $p(x,z | \\theta)$. \n",
    "\n",
    "However, <span style=\"color:darkorange\"> we only observe the data</span> $x$, so the likelihood we need should be marginalized over the latent variables: $$p(x | \\theta) = \\int p(x,z | \\theta) dz = \\int p(x | z, \\theta) p(z | \\theta) dz$$\n",
    "\n",
    "This is an <span style=\"color:darkorange\">integral over all possible trajectories</span> through the latent space (i.e. all possible execution traces of the simulator). For realistic simulators, with large latent spaces, it is not feasible to evaluate this integral explicitly.\n",
    "\n",
    "⮕ **the marginal likelihood is intractable!**"
   ]
  },
  {
   "cell_type": "markdown",
   "metadata": {},
   "source": [
    "\n",
    "<center>\n",
    "<img src=\"assets/sbi.png\" width=\"800\" />\n",
    "\n",
    "<small> <i>Figure 4:</i> The simulation-based inference (SBI) framework. The simulator is used to generate synthetic data $x \\sim p(x | \\theta)$ for a range of parameters $\\theta$. However, doing inference in this setting is challenging because the likelihood function is intractable. Image credit: Siddharth Mishra-Sharma.\n",
    " </small>\n",
    "</center>\n"
   ]
  },
  {
   "cell_type": "markdown",
   "metadata": {},
   "source": [
    "\n",
    "So, how do we deal with this?"
   ]
  },
  {
   "cell_type": "markdown",
   "metadata": {},
   "source": [
    "A variety of algorithms:\n",
    "<center><img src=\"assets/sbi_methods.png\" />\n",
    "\n",
    "<small> <i>Figure 5:</i> Different simulation-based inference methods. Taken from https://doi.org/10.48550/arXiv.2101.04653 .</small>\n",
    "\n",
    "</center>"
   ]
  },
  {
   "cell_type": "markdown",
   "metadata": {},
   "source": [
    "In this version of the notebook, we will cover the first (ABC) and the third (NPE) methods. For the other two methods, you can refer to the extended version of the notebook `SBI_full.ipynb`."
   ]
  },
  {
   "cell_type": "markdown",
   "metadata": {},
   "source": [
    "# 2. **Example**: Supernova Lumonisity Distance"
   ]
  },
  {
   "cell_type": "markdown",
   "metadata": {},
   "source": [
    "<div style=\"border:1px solid black; padding: 10px\">\n",
    "\n",
    "We'll consider a simplified model for the luminosity distance to supernovae, which depends on the cosmological parameters $\\Omega_m$ (matter density parameter) and $H_0$ (Hubble constant).\n",
    "\n",
    "**Key concepts:**\n",
    "- **Luminosity distance $d_L$**: the distance at which an object of a given luminosity would appear as bright as the object being studied. For a flat universe, ($\\Omega_k = 0$), it can be approximated using the cosmological parameters.\n",
    "- **Apparent magnitude $m$**: the brightness of a supernova. It is related to its luminosity distance.\n",
    "\n",
    "For simplicity, we'll assume the following:\n",
    "1. We have a set of supernovae with <span style=\"color:darkorange\">observed apparent magnitudes</span> $m_{\\text{obs}}$ and <span style=\"color:darkorange\">redshifts</span> $z$.\n",
    "\n",
    "2. The <span style=\"color:darkorange\">theoretical apparent magnitude</span> $m_{\\text{th}}$ is given by the <span style=\"color:darkorange\">distance modulus</span> $\\mu$:\n",
    "$$ \\mu = 5 \\log_{10}(d_L) + 25, \\tag{1}$$\n",
    "where $d_L$ is the <span style=\"color:darkorange\">luminosity distance</span>.\n",
    "\n",
    "3. The <span style=\"color:darkorange\">luminosity distance</span> $d_L$ depends on the <span style=\"color:darkorange\">cosmological parameters</span> $\\Omega_m$ and $H_0$.\n",
    "\n",
    "\n",
    "Given the redshift $z$, the <span style=\"color:darkorange\">luminosity distance</span> $d_L$ can be approximated by:\n",
    "$$d_L = \\frac{c(1+z)}{H_0} \\int_0^z \\frac{dz'}{\\sqrt{\\Omega_m(1+z')^3 + (1-\\Omega_m)}}, \\tag{2}$$\n",
    "where $c$ is the speed of light.\n",
    "\n",
    "The problem that we will be solving is to <span style=\"color:red\">*infer the cosmological parameters $\\Omega_m$ and $H_0$ given the observed apparent magnitudes $m_{\\text{obs}}$ and redshifts $z$ of the supernovae.*</span>\n",
    "</div>\n"
   ]
  },
  {
   "cell_type": "markdown",
   "metadata": {},
   "source": [
    "## 3. Standard Bayesian Inference\n",
    "Let's first try to solve this problem using standard Bayesian inference. We'll assume that the observed apparent magnitudes $m_{\\text{obs}}$ have <span style=\"color:darkorange\">Gaussian errors</span>, and therefore, we can write down the likelihood function as a <span style=\"color:darkorange\">Gaussian over the observed data</span> given the parameters $\\Omega_m$ and $H_0$:\n",
    "$$\\mathcal{L}(\\Omega_m, H_0) = \\prod_{i=1}^N \\frac{1}{\\sqrt{2\\pi\\sigma_i^2}} \\exp\\left(-\\frac{(m_{\\text{obs},i} - m_{\\text{th},i})^2}{2\\sigma_i^2}\\right), \\tag{3}$$\n",
    "where $N$ is the number of supernovae, $m_{\\text{obs},i}$ is the observed apparent magnitude of supernova $i$, $m_{\\text{th},i}$ is the theoretical apparent magnitude of supernova $i$, and $\\sigma_i$ is the error in the observed apparent magnitude of supernova $i$."
   ]
  },
  {
   "cell_type": "markdown",
   "metadata": {},
   "source": [
    "First, we need to make up some mock observed data. We'll assume that the redshifts $z$ of the supernovae are known and generate the observed apparent magnitudes $m_{\\text{obs}}$ using the theoretical apparent magnitudes $m_{\\text{th}}$ and adding Gaussian noise:\n",
    "$$ z \\xrightarrow{(2)} d_L \\xrightarrow{(1)} m_{\\text{th}} \\xrightarrow{} m_{\\text{obs}} = m_{\\text{th}} + \\mathcal{N}(0, \\sigma^2).$$"
   ]
  },
  {
   "cell_type": "code",
   "execution_count": 5,
   "metadata": {},
   "outputs": [
    {
     "data": {
      "image/png": "[encoded data removed]",
      "text/plain": [
       "<Figure size 640x480 with 1 Axes>"
      ]
     },
     "metadata": {},
     "output_type": "display_data"
    }
   ],
   "source": [
    "#random seed\n",
    "np.random.seed(1234)\n",
    "torch.manual_seed(1234)\n",
    "\n",
    "# Constants\n",
    "c = 299792.458  # Speed of light in km/s\n",
    "\n",
    "# True cosmological parameters\n",
    "true_Omega_m = 0.3\n",
    "true_H0 = 70.0  # Hubble constant in km/s/Mpc\n",
    "\n",
    "# Redshifts of the supernovae\n",
    "z = np.linspace(0.01, 1.0, 50)\n",
    "\n",
    "# Noise level in the observed magnitudes\n",
    "sigma = 0.5\n",
    "\n",
    "# Luminosity distance function\n",
    "def luminosity_distance(z, Omega_m, H0):\n",
    "    \"\"\" Calculate the luminosity distance for a given redshift, Omega_m and H0 \"\"\"\n",
    "    integrand = lambda z_prime: 1.0 / np.sqrt(Omega_m * (1 + z_prime)**3 + (1 - Omega_m))\n",
    "    d_L = np.array([quad(integrand, 0, z_i)[0] for z_i in z])\n",
    "    return (c * (1 + z) * d_L) / H0\n",
    "\n",
    "# Generate synthetic data\n",
    "d_L_true = luminosity_distance(z, true_Omega_m, true_H0)\n",
    "m_true = 5 * np.log10(d_L_true / 10)\n",
    "m_obs = m_true + np.random.normal(0, sigma, len(m_true))  # Adding Gaussian noise\n",
    "\n",
    "# Plot synthetic data\n",
    "plt.errorbar(z, m_obs, yerr=0.5, fmt='.', label='Observed magnitudes')\n",
    "plt.plot(z, m_true, label='True magnitudes')\n",
    "plt.xlabel('Redshift $z$')\n",
    "plt.ylabel('Apparent magnitude $m$')\n",
    "plt.legend()\n",
    "plt.show()\n"
   ]
  },
  {
   "cell_type": "markdown",
   "metadata": {},
   "source": [
    "We will consider a <span style=\"color:darkorange\">uniform prior</span> for $ 0 < \\Omega_m < 1$ and $50 < H_0 < 100$, the likelihood function in Eq. $(3)$, and the posterior from the Bayes theorem."
   ]
  },
  {
   "cell_type": "code",
   "execution_count": 6,
   "metadata": {},
   "outputs": [],
   "source": [
    "# Log-prior function\n",
    "def log_prior(params):\n",
    "    Omega_m, H0 = params\n",
    "    if 0 < Omega_m < 1 and 50 < H0 < 100:\n",
    "        return 0\n",
    "    else:\n",
    "        return -np.inf\n",
    "    \n",
    "# Define the log-likelihood function\n",
    "def log_like(params, z, m_obs):\n",
    "    Omega_m, H0 = params\n",
    "    d_L = luminosity_distance(z, Omega_m, H0)\n",
    "    m_th = 5 * np.log10(d_L / 10)\n",
    "    sigma_m = 0.5  # Assumed standard deviation of magnitudes\n",
    "    return -0.5 * np.sum(((m_obs - m_th) / sigma_m)**2)    \n",
    "\n",
    "# Log-posterior function\n",
    "def log_post(params, z, m_obs):\n",
    "    lp = log_prior(params)\n",
    "    if not np.isfinite(lp):\n",
    "        return -np.inf\n",
    "    else:\n",
    "        return lp + log_like(params, z, m_obs)"
   ]
  },
  {
   "cell_type": "markdown",
   "metadata": {},
   "source": [
    "Now, we just need to sample from the posterior using MCMC to get the posterior distribution of the parameters $\\Omega_m$ and $H_0$."
   ]
  },
  {
   "cell_type": "code",
   "execution_count": 7,
   "metadata": {},
   "outputs": [
    {
     "name": "stderr",
     "output_type": "stream",
     "text": [
      "100%|██████████| 3000/3000 [00:27<00:00, 108.39it/s]\n"
     ]
    }
   ],
   "source": [
    "# Sampling with `emcee` \n",
    "ndim, nwalkers = 2, 16\n",
    "ncpus = multiprocessing.cpu_count()\n",
    "\n",
    "# Initialize walkers around a random position withing the prior volume\n",
    "pos = np.random.uniform([0, 50], [1, 100], (nwalkers, ndim))\n",
    "\n",
    "with Pool(ncpus) as pool:\n",
    "    sampler = emcee.EnsembleSampler(nwalkers, ndim, log_post, args=(z, m_obs), pool=pool)\n",
    "    sampler.run_mcmc(pos, 3000, progress=True)"
   ]
  },
  {
   "cell_type": "code",
   "execution_count": 8,
   "metadata": {},
   "outputs": [
    {
     "name": "stdout",
     "output_type": "stream",
     "text": [
      "Removed no burn in\n"
     ]
    },
    {
     "name": "stderr",
     "output_type": "stream",
     "text": [
      "WARNING:root:fine_bins_2D not large enough for optimal density: Omega_m, H0\n"
     ]
    },
    {
     "data": {
      "image/png": "[encoded data removed]",
      "text/plain": [
       "<Figure size 600x600 with 3 Axes>"
      ]
     },
     "metadata": {},
     "output_type": "display_data"
    }
   ],
   "source": [
    "# Get samples and convert to GetDist MCSamples\n",
    "flat_samples = sampler.get_chain(discard=1000, flat=True)\n",
    "\n",
    "# GetDist plotting\n",
    "samples = MCSamples(samples=flat_samples, names=['\\Omega_m', 'H_0'], labels=['\\Omega_m', 'H_0'])\n",
    "g = plots.get_subplot_plotter(width_inch=6)\n",
    "g.triangle_plot(samples, filled=True, markers={'\\Omega_m': true_Omega_m, 'H_0': true_H0})\n",
    "plt.show()"
   ]
  },
  {
   "cell_type": "markdown",
   "metadata": {},
   "source": [
    "# 4. Simulation-based Inference"
   ]
  },
  {
   "cell_type": "markdown",
   "metadata": {},
   "source": [
    "Now, let's try to solve the same problem using different simulation-based inference methods. To do this, we'll first need to construct a <span style=\"color:darkorange\">simulator for the luminosity distance to supernovae</span>."
   ]
  },
  {
   "cell_type": "code",
   "execution_count": 9,
   "metadata": {},
   "outputs": [],
   "source": [
    "# noise level\n",
    "sigma = 0.5\n",
    "\n",
    "# Forward model to simulate observed magnitudes\n",
    "def luminosity_distance_simulator(params, z):\n",
    "    Omega_m, H0 = params\n",
    "    d_L = luminosity_distance(z, Omega_m, H0)\n",
    "    m_th = 5 * np.log10(d_L / 10)\n",
    "    m_sim = m_th + np.random.normal(0, sigma, len(m_th))\n",
    "    return m_sim"
   ]
  },
  {
   "cell_type": "markdown",
   "metadata": {},
   "source": [
    "This very simple simulator uses the theoretical model for the luminosity distance given by Eq. $(2)$ and $(1)$ to generate the theoretical apparent magnitudes $m_{\\text{th}}$ for a given set of cosmological parameters $\\Omega_m$ and $H_0$, and adds Gaussian noise to generate the observed apparent magnitudes $m_{\\text{obs}}$."
   ]
  },
  {
   "cell_type": "markdown",
   "metadata": {},
   "source": [
    "## 4.1. Traditional SBI - Approximate Bayesian Computation (ABC)"
   ]
  },
  {
   "cell_type": "markdown",
   "metadata": {},
   "source": [
    "The first simulation-based inference method we'll use is ABC. ABC was one of the first simulation-based inference methods developed and is based on the idea of <span style=\"color:darkorange\">approximating the posterior</span> distribution by <span style=\"color:darkorange\">sampling from the prior</span> distribution and <span style=\"color:darkorange\">accepting samples that are \"close enough\" to the observed data</span>.\n",
    "\n",
    "General procedure:\n",
    "1. **Sample** parameters from the prior distribution $\\theta \\sim p(\\theta)$.\n",
    "2. **Forward simulate** these parameters to generate **synthetic observations** $x \\sim p(x | \\theta)$.\n",
    "3. **Compare** the synthetic observations to the real observed data $x_{\\text{obs}}$ using a distance metric $d(x, x_{\\text{obs}})$.\n",
    "4. If the synthetic observations are \"close enough\" to the real observed data, i.e., $d(x, x_{\\text{obs}}) < \\epsilon$ for some threshold $\\epsilon$, **accept the parameters** $\\theta$ as samples from the posterior $p(\\theta | x_{\\text{obs}})$."
   ]
  },
  {
   "cell_type": "markdown",
   "metadata": {},
   "source": [
    "ABC does not require the likelihood function to be known, instead the likelihood is approximated by the probability that the condition $d(x, x_{\\text{obs}}) < \\epsilon$ is satisfied.\n",
    "\n",
    "As the threshold $\\epsilon \\to 0$, the accepted samples converge to the true posterior. For $\\epsilon > 0$, the inferred posterior will be broader than the true posterior, therefore the inference will be conservative."
   ]
  },
  {
   "cell_type": "markdown",
   "metadata": {},
   "source": [
    "<center><img src=\"assets/abc.png\" width=\"800\" />\n",
    "\n",
    "<small> <i>Figure 6:</i> Approximate Bayesian computation (ABC) algorithm. The simulator is used to generate synthetic data $x \\sim p(x | \\theta)$ for a range of parameters $\\theta$. The distance function $d(x, x_{\\text{obs}})$ is used to compare the synthetic data to the observed data. Image credit: Siddharth Mishra-Sharma.\n",
    " </small>\n",
    "</center>"
   ]
  },
  {
   "cell_type": "markdown",
   "metadata": {},
   "source": [
    "Let's now try to apply ABC to our problem of inferring the cosmological parameters $\\Omega_m$ and $H_0$ from supernova data. As a distance metric, we'll use the mean squared error (MSE), $d(x, x_{\\text{obs}}) = \\frac{1}{N} \\sum_{i=1}^N (x_i - x_{\\text{obs},i})^2$, between the observed apparent magnitudes $m_{\\text{obs}}$ and the synthetic apparent magnitudes $m_{\\text{th}}$."
   ]
  },
  {
   "cell_type": "code",
   "execution_count": 10,
   "metadata": {},
   "outputs": [],
   "source": [
    "# Distance metric: Mean Squared Error\n",
    "def mse(x, x_sim):\n",
    "    return np.sum((x - x_sim) ** 2) / len(x)\n",
    "\n",
    "# ABC Algorithm\n",
    "def abc(y, x, eps_thresh=0.5, num_samples=1000):\n",
    "    \"\"\" Approximate Bayesian Computation (ABC) algorithm \"\"\"\n",
    "    accepted_samples = []\n",
    "    trials = 0\n",
    "    progress_bar = tqdm(total=num_samples, desc=f\"Accepted Samples (eps={eps_thresh})\")\n",
    "\n",
    "    while len(accepted_samples) < num_samples:\n",
    "        params = np.random.uniform(low=[0, 50], high=[1, 100])  # θ ~ p(θ) (Step 1)\n",
    "        x_sim = luminosity_distance_simulator(params, y)  # x ~ p(x|θ) (Step 2)\n",
    "        eps = mse(x, x_sim)  # Distance metric; d(x, x_sim) (Step 3)\n",
    "        trials += 1\n",
    "\n",
    "        # If accepted, add to samples (Step 4)\n",
    "        if eps < eps_thresh:\n",
    "            accepted_samples.append(params) \n",
    "            acceptance_ratio = len(accepted_samples) / trials \n",
    "            progress_bar.update(1)\n",
    "            progress_bar.set_postfix(acceptance_ratio=f\"{acceptance_ratio:.3f}\")\n",
    "\n",
    "    progress_bar.close()\n",
    "    \n",
    "    return np.array(accepted_samples)"
   ]
  },
  {
   "cell_type": "markdown",
   "metadata": {},
   "source": [
    "We will run the ABC algorithm for two different values of $\\epsilon$: $0.4$ and $0.6$."
   ]
  },
  {
   "cell_type": "code",
   "execution_count": 11,
   "metadata": {},
   "outputs": [
    {
     "name": "stderr",
     "output_type": "stream",
     "text": [
      "Accepted Samples (eps=0.4):   0%|          | 5/3000 [00:00<02:04, 24.06it/s, acceptance_ratio=0.049]"
     ]
    },
    {
     "name": "stderr",
     "output_type": "stream",
     "text": [
      "Accepted Samples (eps=0.4): 100%|██████████| 3000/3000 [01:46<00:00, 28.11it/s, acceptance_ratio=0.032]\n",
      "Accepted Samples (eps=0.6): 100%|██████████| 3000/3000 [00:10<00:00, 290.42it/s, acceptance_ratio=0.372]\n"
     ]
    }
   ],
   "source": [
    "# Run ABC\n",
    "eps_thresh = [0.4, 0.6]\n",
    "\n",
    "# Run ABC for each epsilon threshold\n",
    "results = {}\n",
    "for eps in eps_thresh:\n",
    "    results[eps] = abc(z, m_obs, eps_thresh=eps, num_samples=3000)"
   ]
  },
  {
   "cell_type": "code",
   "execution_count": 13,
   "metadata": {},
   "outputs": [
    {
     "name": "stdout",
     "output_type": "stream",
     "text": [
      "Removed no burn in\n",
      "Removed no burn in\n"
     ]
    },
    {
     "data": {
      "image/png": "[encoded data removed]",
      "text/plain": [
       "<Figure size 600x600 with 3 Axes>"
      ]
     },
     "metadata": {},
     "output_type": "display_data"
    }
   ],
   "source": [
    "# GetDist plotting\n",
    "samples1 = MCSamples(samples=results[0.6], names=['Omega_m', 'H0'], labels=['Omega_m', 'H_0'])\n",
    "samples2 = MCSamples(samples=results[0.4], names=['Omega_m', 'H0'], labels=['Omega_m', 'H_0'])\n",
    "\n",
    "g = plots.get_subplot_plotter(width_inch=6)\n",
    "g.triangle_plot([samples1, samples2], filled=True, markers={'Omega_m': true_Omega_m, 'H0': true_H0}, legend_labels=[f\"eps={eps_thresh[1]}\", f\"eps={eps_thresh[0]}\"])\n",
    "plt.show()"
   ]
  },
  {
   "cell_type": "markdown",
   "metadata": {},
   "source": [
    "We see that first of all, the posteriors that we get from ABC are reasonably close to the \"true\" posterior that we got from standard Bayesian inference. However, as expected, the posteriors from ABC are broader than the true posterior, because of the relatively large values of $\\epsilon$ that we used, and indeed, the bigger the $\\epsilon$, the broader the posterior."
   ]
  },
  {
   "cell_type": "markdown",
   "metadata": {},
   "source": [
    "**Drawbacks of ABC:**\n",
    "- We need to <span style=\"color:darkorange\">choose a distance metric</span> that is appropriate for the problem.\n",
    "- We have an <span style=\"color:darkorange\">extra hyperparameter</span> to tune: the threshold $\\epsilon$.\n",
    "- Small values of $\\epsilon$ <span style=\"color:darkorange\">require unfeasibly many simulations</span>, while large values lead reduced accuracy.\n",
    "- The sample efficiency of ABC <span style=\"color:darkorange\">scales poorly to high-dimensional</span> data $x$ and high-dimensional parameters $\\theta$.\n",
    "- Inference for new data or different choice of prior requires <span style=\"color:darkorange\">re-running the entire algorithm</span>."
   ]
  },
  {
   "cell_type": "markdown",
   "metadata": {},
   "source": [
    "## 4.2. Neural Posterior Estimation (NPE)"
   ]
  },
  {
   "cell_type": "markdown",
   "metadata": {},
   "source": [
    "This method is a Deep Learning implementation of ***density estimation***: given a set of points $\\{x\\} \\sim \\mathcal{P}(x)$, we want to learn the distribution $\\mathcal{P}(x)$.\n",
    "\n",
    "The way that we would normally do this for inference is by creating a model for the likelihood via estimating the distribution of the simulated data using <span style=\"color:darkorange\">histograms</span> or <span style=\"color:darkorange\">kernel density estimation</span>. However, these methods are not very flexible and **do not scale well to high-dimensional data** (curse of dimensionality).\n",
    "\n",
    "This is where recent advances in <span style=\"color:darkorange\">density estimation techniques using neural networks</span> come in. \n",
    "\n",
    "<!-- add dashed line --> \n",
    ">To understand how neural networks can be used for density estimation, let's first consider a simple example where we want to estimate the **distribution** over $\\theta$, in the case when this distribution is a 1D Gaussian. Here, we can use a neural network to model the mean and variance of the Gaussian as a function of some input $x$:\n",
    ">$$ p(\\theta | x) = \\mathcal{N}\\big(\\mu = f(x), \\sigma = g(x)\\big),$$\n",
    ">where $f(x)$ and $g(x)$ are the outputs of the neural network. The neural network will be trained to maximize the likelihood of this predicted Gaussian over the training data by tuning the parameters of $f$ and $g$.\n",
    "\n",
    "However, in general, we do not expect the posterior to be Gaussian. In this case, we can use a more general neural network architecture to model the posterior.\n",
    "One class of these neural density estimation methods is **Normalizing Flows**."
   ]
  },
  {
   "cell_type": "markdown",
   "metadata": {},
   "source": [
    "### 4.2.1. Interlude: Normalizing Flows\n",
    "Normalizing Flows are <span style=\"color:darkorange\">invertible transformations</span> of the probabilistic space that allows to <span style=\"color:darkorange\">map a simple distribution to a more complex one</span>."
   ]
  },
  {
   "cell_type": "markdown",
   "metadata": {},
   "source": [
    "<center> <img src=\"assets/normalizing-flow.png\" width=\"800\" /> \n",
    "\n",
    "<small> <i>Figure 7:</i> Illustration of a normalizing flow model, transforming a simple distribution $p_0(z_0)$ (left) to a complex one $p_K(z_K)$ (right) through a series of invertible transformations $f_k$. Image credit: Lilian Weng.\n",
    " </small>\n",
    "</center>"
   ]
  },
  {
   "cell_type": "markdown",
   "metadata": {},
   "source": [
    "The key idea behind Normalizing Flows is to start with a <span style=\"color:darkorange\">simple base distribution</span> $\\pi(\\mathbf{u})$ (e.g. a standard normal) and **transform** it through a series of <span style=\"color:darkorange\">invertible transformations</span> $f$ (bijections) to obtain a more <span style=\"color:darkorange\">complex target distribution</span> $p(\\mathbf{u})$. This is formalized using the change of variables formula:\n",
    "$$ \\mathbf{z} \\sim \\pi(\\mathbf{u}), \\quad \\mathbf{x} = f(\\mathbf{u}), \\quad \\mathbf{u} = f^{-1}(\\mathbf{x}) $$\n",
    "$$ p(\\mathbf{x}) = \\pi(\\mathbf{u}) \\left| \\det \\frac{d\\mathbf{u}}{d\\mathbf{x}} \\right| = \\pi(f^{-1}(\\mathbf{x})) \\left| \\det \\frac{df^{-1}(\\mathbf{x})}{d\\mathbf{x}} \\right|$$\n",
    "\n",
    "where $f^{-1}$ is the inverse transformation of $f$, and the Jacobian determinant $\\left| \\det \\frac{df^{-1}(\\mathbf{x})}{d\\mathbf{x}} \\right|$ accounts for the change in volume when transforming from $\\mathbf{u}$ to $\\mathbf{x}$ space. The Jacobian ensures that the transformation is <span style=\"color:darkorange\">volume-preserving</span>, so that the transformed density $p(\\mathbf{x})$ integrates to 1. So Normalizing Flows allow constructing expressive distributions by composing simple, invertible transformations.\n",
    "\n",
    "The challenge is in designing mappings $f$ that are both: **easy to invert** and **easy to compute the Jacobian of**."
   ]
  },
  {
   "cell_type": "markdown",
   "metadata": {},
   "source": [
    "Miles Cranmer puts it nicely:\n",
    "- There's a crowd of people; each is a sample of the data distribution.\n",
    "- Everybody takes a step in some direction according to a neural net\n",
    "- In steps, the net tries to direct the crowd to form a Gaussian without bumping each other"
   ]
  },
  {
   "cell_type": "markdown",
   "metadata": {},
   "source": [
    "<center> \n",
    "<img src=\"assets/forward.gif\" /> \n",
    "\n",
    "<small> The NF transforms the simple base distribution to the target distribution by applying a series of invertible transformations one after the other. Image credit: Eric Jang.\n",
    "</small> \n",
    "</center> "
   ]
  },
  {
   "cell_type": "markdown",
   "metadata": {},
   "source": [
    "<details>\n",
    "<summary><span style=\"color:red\">Coupling Layers <em>(Open at your own risk)</em></span></summary>\n",
    "\n",
    "#### Coupling layers\n",
    "\n",
    "One of the most popular building blocks for Normalizing Flows are coupling layers. A coupling layer splits the input $x$ into two parts $(x_1, x_2)$, and transforms one part (say $x_2$) as a function of the other:\n",
    "$$x_2' = x_2 \\odot \\exp(s(x_1)) + t(x_1),$$\n",
    "where $s(x_1)$ and $t(x_1)$ are the scale and translation functions, which are implemented as **neural networks**, and $\\odot$ denotes element-wise multiplication. The other part $x_1$ remains unchanged. This transformation is both **invertible** and has a **simple Jacobian determinant**. The inverse transformation is given by:\n",
    "$$x_2 = (x_2' - t(x_1)) \\odot \\exp(-s(x_1)).$$\n",
    "Stacking coupling layers with different partitions of the input allows information to flow between all dimensions. This gives Normalizing Flows the flexibility to model complex distributions while maintaining tractability.\n",
    "\n",
    "</details>"
   ]
  },
  {
   "cell_type": "markdown",
   "metadata": {},
   "source": [
    "<details>\n",
    "<summary><span style=\"color:red\">Training a Normalizing Flow <em>(Open at your own risk)</em> </span></summary>\n",
    "\n",
    "#### Training\n",
    "\n",
    "Normalizing Flows are trained to **maximize the likelihood of training data $x$ under the transformed distribution $p(x)$**. This is equivalent to minimizing the Kullback-Leibler divergence between the data and model distributions.\n",
    "\n",
    "> **Kullback-Leibler (KL) divergence** measures the difference between two probability distributions $p(x)$ and $q(x)$:\n",
    "> $$ D_{KL}(p||q) = \\mathbb{E}_{p(x)}\\left[\\log \\frac{p(x)}{q(x)}\\right] = \\int p(x) \\log \\frac{p(x)}{q(x)} dx.$$\n",
    "> The KL divergence is non-negative and is zero if and only if $p(x) = q(x)$.\n",
    "> Minimizing the KL divergence is equivalent to maximizing the likelihood of the data under the model distribution.\n",
    "\n",
    "So let's see exactly how we would train a Normalizing Flow to estimate the posterior $p(\\theta | x)$. So far, we have the tools to emulate a probability distribution with a neural network. We'll write such a probability distribution $q_\\phi$ where $\\phi$ are the parameters of the neural network. \n",
    "\n",
    "A way to learn the distribution $p(\\theta | x)$ with a Neural Network with weights $\\phi$ is to minimize $D_{KL}\\Big(p(\\theta | x) || q_\\phi(\\theta | x)\\Big)$ w.r.t.the NN parameters $\\phi$. Let's do the math:\n",
    "$$ D_{KL}\\Big(p(\\theta | x) || q_\\phi(\\theta | x)\\Big) = \\mathbb{E}_{p(\\theta | x)}\\left[\\log \\frac{p(\\theta | x)}{q_\\phi(\\theta | x)}\\right] $$\n",
    "However, we want our model to work for different values of $x$, so we need to take the expectation of this expression w.r.t. $p(x)$:\n",
    "\n",
    "\\begin{align*}\n",
    "\\mathbb{E}_{p(x)} \\Big[ D_{KL}\\big(p(\\theta | x) || q_\\phi(\\theta | x)\\big) \\Big] &= \\mathbb{E}_{p(x)}\\mathbb{E}_{p(\\theta | x)}\\left[\\log \\frac{p(\\theta | x)}{q_\\phi(\\theta | x)}\\right] = \\mathbb{E}_{p(\\theta,x)}\\left[\\log \\frac{p(\\theta | x)}{q_\\phi(\\theta | x)}\\right] \\\\\\\\\n",
    "&= \\mathbb{E}_{p(\\theta,x)} \\left[ - \\log q_\\phi(\\theta | x)\\right] + \\mathrm{const}_{w.r.t. \\phi}\n",
    "\\end{align*}\n",
    "\n",
    "where in the second equality we used $p(\\theta,x) = p(\\theta | x)p(x)$.\n",
    "Therefore, to optimize our neural network, we need to minimize:\n",
    "$$ \\min_\\phi \\mathbb{E}_{p(x)} \\Big[ D_{KL}\\big(p(\\theta | x) || q_\\phi(\\theta | x)\\big) \\Big] = \\min_\\phi \\mathbb{E}_{p(\\theta,x)} \\left[ - \\log q_\\phi(\\theta | x)\\right] + \\cancel{\\mathrm{const}_{w.r.t. \\phi}}$$\n",
    "which we can estimate since we have samples from $p(\\theta,x)$ from the simulator!\n",
    "\n",
    "<center>\n",
    "<img src=\"assets/monty_python.gif\" width=\"400px\" />\n",
    "</center>\n",
    "\n",
    "</details>"
   ]
  },
  {
   "cell_type": "markdown",
   "metadata": {},
   "source": [
    "Once we have trained the Normalizing Flow, we can sample the model $q_\\phi(\\theta | x_{\\text{obs}})$ directly to obtain samples from the approximate posterior distribution $p(\\theta | x_{\\text{obs}})$. To do this, we simply sample $z$ from the base distribution (e.g. a standard normal) and apply the inverse transformation $f^{-1}$ to obtain samples from the posterior."
   ]
  },
  {
   "cell_type": "markdown",
   "metadata": {},
   "source": [
    "#### Normalizing Flows summary:\n",
    "1. Start from a <span style=\"color:darkorange\">simple base distribution</span> that is easy to sample from and evaluate the density of, like a standard normal.\n",
    "\n",
    "2. Apply a <span style=\"color:darkorange\">sequence of invertible transformations</span> to this base distribution. Each transformation is designed to be efficient to compute and have a tractable Jacobian.\n",
    "\n",
    "3. The transformed distribution at the end of this sequence of transformations is the <span style=\"color:darkorange\">final Normalizing Flow distribution</span>. It can be much more complex and expressive than the base distribution.\n",
    "\n",
    "4. <span style=\"color:darkorange\">Sampling</span> from the Normalizing Flow is <span style=\"color:darkorange\">efficient</span> - just sample from the base distribution and pass it through the sequence of transformations. <span style=\"color:darkorange\">Evaluating the density of a point</span> is also <span style=\"color:darkorange\">tractable</span> using the change of variables formula.\n",
    "\n",
    "5. The transformations are <span style=\"color:darkorange\">parameterized</span> by <span style=\"color:darkorange\">neural networks</span> and <span style=\"color:darkorange\">trained to maximize the likelihood of observed data</span>. This allows learning complex, data-driven distributions."
   ]
  },
  {
   "cell_type": "markdown",
   "metadata": {},
   "source": [
    "> If you want to learn more about Normalizing Flows, you can check out the paper by [Papamakarios et al. (2019)](https://arxiv.org/abs/1912.02762) and the blog post by [Lilian Weng](https://lilianweng.github.io/lil-log/2018/10/13/flow-based-deep-generative-models.html)."
   ]
  },
  {
   "cell_type": "markdown",
   "metadata": {},
   "source": [
    "### 4.2.2. Back to NPE\n",
    "\n",
    "Now that we are OK with Normalizing Flows, let's see the specifics of how we can use them for Neural Posterior Estimation.\n",
    "The steps of the algorithm are:\n",
    "1. **Generate training data**: Sample a large number of parameter values $\\theta$ from the prior, run the simulator to generate corresponding data $x$, and store the $(\\theta, x)$ pairs as training data.\n",
    "\n",
    "2. [Optional] **Feature extraction**: Extract features from the data $x$ using a neural network $s_\\varphi(x)$. This is useful when the data $x$ is high-dimensional or complex, and we want to reduce its dimensionality or complexity. What the NN does is essentially to learn a compressed representation of the data that is useful for the inference task. For now, you can forget about this and just consider $s_\\varphi(x) = x$.\n",
    "\n",
    "3. **Training the conditional density estimator**: \n",
    "    - evaluate the log-density of the NF, $\\log q_\\phi(\\theta | x)$, at the training data points $(\\theta, x)$.\n",
    "    - wiggle the parameters $\\phi$ of the NF until the log-likelihood of the training data is maximized.\n",
    "    - the exact loss function is: $$\\mathcal{L}(\\phi, \\varphi) = -\\frac{1}{N} \\sum_{i=1}^N \\log q_\\phi(\\theta_i | s_\\varphi(x_i)),$$ where $N$ is the number of training samples, and $\\{ \\phi, \\varphi \\}$ are the parameters of the NF and the feature extractor, respectively.\n",
    "    \n",
    "4. **Inference**: To perform inference for new data $x_{\\text{obs}}$, just sample from the NF model $q_\\phi(\\theta | x_{\\text{obs}})$ to obtain samples from the posterior distribution $p(\\theta | x_{\\text{obs}})$!"
   ]
  },
  {
   "cell_type": "markdown",
   "metadata": {},
   "source": [
    "<center>\n",
    "<img src=\"assets/npe.png\" width=\"800\" />\n",
    "\n",
    "<small> <i>Figure 8:</i> Neural Posterior Estimation (NPE) algorithm. The simulator is used to generate synthetic data $x$ for a range of parameters $\\theta$. The NF is trained to model the posterior distribution $p(\\theta | x)$ conditioned on the training data. Image credit: Siddharth Mishra-Sharma.\n",
    " </small>\n",
    "\n",
    "</center>"
   ]
  },
  {
   "cell_type": "markdown",
   "metadata": {},
   "source": [
    "### 4.2.3. Applying NPE to our problem"
   ]
  },
  {
   "cell_type": "markdown",
   "metadata": {},
   "source": [
    "#### Sample generation & normalization"
   ]
  },
  {
   "cell_type": "markdown",
   "metadata": {},
   "source": [
    "This method (as well as the others covered in the extended version of the notebook) is based on Neural Networks, and to train them, we need to generate a large number of samples from the simulator. So let's sample from the prior distribution of the parameters $\\theta$ and then simulate the data $x$ for each of these parameters:"
   ]
  },
  {
   "cell_type": "code",
   "execution_count": null,
   "metadata": {},
   "outputs": [
    {
     "name": "stderr",
     "output_type": "stream",
     "text": [
      "  0%|          | 0/50000 [00:00<?, ?it/s]"
     ]
    },
    {
     "name": "stderr",
     "output_type": "stream",
     "text": [
      "100%|██████████| 50000/50000 [00:56<00:00, 890.13it/s]\n"
     ]
    }
   ],
   "source": [
    "np.random.seed(1234) # use random seed for reproducibility\n",
    "\n",
    "# Generate training data\n",
    "n_train = 50_000\n",
    "param_samples = np.random.uniform(low=[0, 50], high=[1, 100], size=(n_train, 2)) # Parameter proposal\n",
    "x_samples = np.array([luminosity_distance_simulator(theta, z) for theta in tqdm(param_samples)])\n",
    "\n",
    "# Convert to tensors\n",
    "param_samples = torch.tensor(param_samples, dtype=torch.float32)\n",
    "x_samples = torch.tensor(x_samples, dtype=torch.float32)"
   ]
  },
  {
   "cell_type": "markdown",
   "metadata": {},
   "source": [
    "In machine learning, it is common to normalize the input data to have zero mean and unit variance. This helps the neural network to learn more efficiently:"
   ]
  },
  {
   "cell_type": "code",
   "execution_count": null,
   "metadata": {},
   "outputs": [],
   "source": [
    "def normalize(data):\n",
    "    \"\"\" Normalizes the data to have mean 0 and standard deviation 1. \"\"\"\n",
    "    mean = data.mean(dim=0)\n",
    "    std = data.std(dim=0)\n",
    "    return (data - mean) / std, mean, std"
   ]
  },
  {
   "cell_type": "code",
   "execution_count": null,
   "metadata": {},
   "outputs": [],
   "source": [
    "# Normalize the training data\n",
    "x_norm, x_mean, x_std = normalize(x_samples)\n",
    "param_norm, param_mean, param_std = normalize(param_samples)"
   ]
  },
  {
   "cell_type": "markdown",
   "metadata": {},
   "source": [
    "Check one of the generated samples:"
   ]
  },
  {
   "cell_type": "code",
   "execution_count": null,
   "metadata": {},
   "outputs": [
    {
     "data": {
      "image/png": "[encoded data removed]",
      "text/plain": [
       "<Figure size 640x480 with 1 Axes>"
      ]
     },
     "metadata": {},
     "output_type": "display_data"
    }
   ],
   "source": [
    "# plot the training data\n",
    "plt.errorbar(z, x_samples[49999], yerr=sigma, fmt='.', label='Simulated data')\n",
    "plt.xlabel('Redshift $z$')\n",
    "plt.ylabel('Apparent magnitude $m$')\n",
    "plt.legend()\n",
    "plt.show()"
   ]
  },
  {
   "cell_type": "markdown",
   "metadata": {},
   "source": [
    "#### Featurizer\n",
    "We will first define a simple MLP, which we will use as the feature extractor $s_\\phi(x)$ in the NPE algorithm, to reduce the dimensionality of the data $x$. Again, don't worry too much about this for now, just consider $s_\\phi(x) = x$."
   ]
  },
  {
   "cell_type": "code",
   "execution_count": 18,
   "metadata": {},
   "outputs": [],
   "source": [
    "def build_mlp(input_dim, hidden_dim, output_dim, num_layers, activation=nn.GELU()):\n",
    "    \"\"\"Builds a multi-layer perceptron (MLP) neural network.\"\"\"\n",
    "    layers = [nn.Linear(input_dim, hidden_dim), activation]  # First layer and activation\n",
    "    \n",
    "    for _ in range(num_layers):\n",
    "        layers += [nn.Linear(hidden_dim, hidden_dim), activation] # Hidden layers and activations\n",
    "        \n",
    "    layers += [nn.Linear(hidden_dim, output_dim)] # Output layer\n",
    "    \n",
    "    return nn.Sequential(*layers)"
   ]
  },
  {
   "cell_type": "markdown",
   "metadata": {},
   "source": [
    "#### NPE class\n",
    "\n",
    "Now the important part: we will define our conditional Normalizing Flow model that will learn the posterior distribution $p(\\theta | x)$.\n",
    "> The NF will be trying to model the distribution of the *parameters* $\\theta$ given the **context** (condition) of the *data* $x$."
   ]
  },
  {
   "cell_type": "code",
   "execution_count": 19,
   "metadata": {},
   "outputs": [],
   "source": [
    "class NeuralPosteriorEstimator(pl.LightningModule):\n",
    "    \"\"\"\n",
    "    Neural Posterior Estimator using a normalizing flow as the posterior density estimator.\n",
    "\n",
    "    Parameters:\n",
    "        featurizer (nn.Module): Neural network for feature extraction.\n",
    "        d_context (int): Dimension of the context vector.\n",
    "    \"\"\"\n",
    "    \n",
    "    def __init__(self, featurizer, d_context=16):\n",
    "        super().__init__()\n",
    "        self.featurizer = featurizer # Featurizer network for context extraction\n",
    "        self.flow = self._build_flow(d_in=2, d_hidden=32, d_context=d_context, n_layers=4) # Normalizing flow\n",
    "    \n",
    "    def _build_flow(self, d_in, d_hidden, d_context, n_layers):\n",
    "        \"\"\" Instantiate a normalizing flow with Masked Autoregressive Transformations. \"\"\"\n",
    "        base_dist = StandardNormal(shape=[d_in]) # base distribution of NF = standard normal \n",
    "        transforms = [] # List to hold the series of transformations\n",
    "        \n",
    "        for _ in range(n_layers):\n",
    "            # Reverse permutation to shuffle the features\n",
    "            transforms.append(ReversePermutation(features=d_in))\n",
    "            \n",
    "            # Masked Autoregressive Transform for flexible and expressive transformations\n",
    "            transforms.append(MaskedAffineAutoregressiveTransform(features=d_in, hidden_features=d_hidden, context_features=d_context))\n",
    "            \n",
    "        # Combine all transformations into a composite transform\n",
    "        transform = CompositeTransform(transforms)\n",
    "        \n",
    "        return Flow(transform, base_dist)    \n",
    "\n",
    "    def forward(self, x):\n",
    "        return self.featurizer(x) # Extract features using the featurizer\n",
    "    \n",
    "    def loss(self, x, params):\n",
    "        context = self(x)  # Extract context from x using the featurizer\n",
    "        return -self.flow.log_prob(inputs=params, context=context) # Compute negative log probability\n",
    "\n",
    "    def training_step(self, batch):\n",
    "        x, params = batch \n",
    "        loss = self.loss(x, params).mean()  # Compute mean loss\n",
    "        self.log(\"train_loss\", loss) # Log the training loss\n",
    "        return loss\n",
    "\n",
    "    def validation_step(self, batch):\n",
    "        x, params = batch\n",
    "        loss = self.loss(x, params).mean() # Compute mean validation loss\n",
    "        self.log(\"val_loss\", loss) # Log the validation loss\n",
    "        return loss\n",
    "\n",
    "    def configure_optimizers(self):\n",
    "        return torch.optim.Adam(self.parameters(), lr=3e-4) "
   ]
  },
  {
   "cell_type": "markdown",
   "metadata": {},
   "source": [
    "Instantiate the featurizer and NeuralPosteriorEstimator"
   ]
  },
  {
   "cell_type": "code",
   "execution_count": 20,
   "metadata": {},
   "outputs": [],
   "source": [
    "featurizer = build_mlp(input_dim=50, hidden_dim=128, output_dim=16, num_layers=4)\n",
    "npe = NeuralPosteriorEstimator(featurizer=featurizer, d_context=16)"
   ]
  },
  {
   "cell_type": "markdown",
   "metadata": {},
   "source": [
    "Create the dataset and dataloader, using the PyTorch DataLoader class:"
   ]
  },
  {
   "cell_type": "code",
   "execution_count": 21,
   "metadata": {},
   "outputs": [],
   "source": [
    "val_fraction = 0.1 # Fraction of data to use for validation\n",
    "batch_size = 128 \n",
    "n_samples_val = int(val_fraction * len(x_norm)) \n",
    "\n",
    "dataset = TensorDataset(x_norm, param_norm) \n",
    "dataset_train, dataset_val = random_split(dataset, [len(x_samples) - n_samples_val, n_samples_val]) \n",
    "\n",
    "train_loader = DataLoader(dataset_train, batch_size=batch_size, num_workers=8, pin_memory=True, shuffle=True)\n",
    "val_loader = DataLoader(dataset_val, batch_size=batch_size, num_workers=8, pin_memory=True, shuffle=False)"
   ]
  },
  {
   "cell_type": "markdown",
   "metadata": {},
   "source": [
    "Train the model:"
   ]
  },
  {
   "cell_type": "code",
   "execution_count": null,
   "metadata": {},
   "outputs": [
    {
     "name": "stderr",
     "output_type": "stream",
     "text": [
      "Trainer will use only 1 of 4 GPUs because it is running inside an interactive / notebook environment. You may try to set `Trainer(devices=4)` but please note that multi-GPU inside interactive / notebook environments is considered experimental and unstable. Your mileage may vary.\n",
      "/home/tersenov/anaconda3/envs/astrostat24/lib/python3.9/site-packages/lightning_fabric/plugins/environments/slurm.py:204: The `srun` command is available on your system but is not used. HINT: If your intention is to run Lightning on SLURM, prepend your python command with `srun` like so: srun python /home/tersenov/anaconda3/envs/astrostat24/lib/python ...\n",
      "GPU available: True (cuda), used: True\n",
      "TPU available: False, using: 0 TPU cores\n",
      "HPU available: False, using: 0 HPUs\n",
      "LOCAL_RANK: 0 - CUDA_VISIBLE_DEVICES: [0,1,2,3]\n",
      "\n",
      "  | Name       | Type       | Params | Mode \n",
      "--------------------------------------------------\n",
      "0 | featurizer | Sequential | 74.6 K | train\n",
      "1 | flow       | Flow       | 24.3 K | train\n",
      "--------------------------------------------------\n",
      "99.0 K    Trainable params\n",
      "0         Non-trainable params\n",
      "99.0 K    Total params\n",
      "0.396     Total estimated model params size (MB)\n"
     ]
    },
    {
     "data": {
      "application/vnd.jupyter.widget-view+json": {
       "model_id": "925710d5f7dd45b4b6a341eb5cbb2b8f",
       "version_major": 2,
       "version_minor": 0
      },
      "text/plain": [
       "Sanity Checking: |          | 0/? [00:00<?, ?it/s]"
      ]
     },
     "metadata": {},
     "output_type": "display_data"
    },
    {
     "data": {
      "application/vnd.jupyter.widget-view+json": {
       "model_id": "85dd12b003b140bab5e4c020a93411c2",
       "version_major": 2,
       "version_minor": 0
      },
      "text/plain": [
       "Training: |          | 0/? [00:00<?, ?it/s]"
      ]
     },
     "metadata": {},
     "output_type": "display_data"
    },
    {
     "data": {
      "application/vnd.jupyter.widget-view+json": {
       "model_id": "1f17c2c30980475bb250065e4a960edf",
       "version_major": 2,
       "version_minor": 0
      },
      "text/plain": [
       "Validation: |          | 0/? [00:00<?, ?it/s]"
      ]
     },
     "metadata": {},
     "output_type": "display_data"
    },
    {
     "data": {
      "application/vnd.jupyter.widget-view+json": {
       "model_id": "8ea0aa1d312b437281fa45d867935400",
       "version_major": 2,
       "version_minor": 0
      },
      "text/plain": [
       "Validation: |          | 0/? [00:00<?, ?it/s]"
      ]
     },
     "metadata": {},
     "output_type": "display_data"
    },
    {
     "data": {
      "application/vnd.jupyter.widget-view+json": {
       "model_id": "50a0a0e35e6e4743a9aa1e95b22e4ce3",
       "version_major": 2,
       "version_minor": 0
      },
      "text/plain": [
       "Validation: |          | 0/? [00:00<?, ?it/s]"
      ]
     },
     "metadata": {},
     "output_type": "display_data"
    },
    {
     "data": {
      "application/vnd.jupyter.widget-view+json": {
       "model_id": "53568c6f536646d9b2e0e074909163d8",
       "version_major": 2,
       "version_minor": 0
      },
      "text/plain": [
       "Validation: |          | 0/? [00:00<?, ?it/s]"
      ]
     },
     "metadata": {},
     "output_type": "display_data"
    },
    {
     "data": {
      "application/vnd.jupyter.widget-view+json": {
       "model_id": "8b0b97ed8a59484db790310165d9a5d5",
       "version_major": 2,
       "version_minor": 0
      },
      "text/plain": [
       "Validation: |          | 0/? [00:00<?, ?it/s]"
      ]
     },
     "metadata": {},
     "output_type": "display_data"
    },
    {
     "data": {
      "application/vnd.jupyter.widget-view+json": {
       "model_id": "d596b8709a544098843970addbff5830",
       "version_major": 2,
       "version_minor": 0
      },
      "text/plain": [
       "Validation: |          | 0/? [00:00<?, ?it/s]"
      ]
     },
     "metadata": {},
     "output_type": "display_data"
    },
    {
     "data": {
      "application/vnd.jupyter.widget-view+json": {
       "model_id": "11c7a26006f94abeaa504841ac916208",
       "version_major": 2,
       "version_minor": 0
      },
      "text/plain": [
       "Validation: |          | 0/? [00:00<?, ?it/s]"
      ]
     },
     "metadata": {},
     "output_type": "display_data"
    },
    {
     "data": {
      "application/vnd.jupyter.widget-view+json": {
       "model_id": "3111bb4c40714fb79a708c3568e0ceb6",
       "version_major": 2,
       "version_minor": 0
      },
      "text/plain": [
       "Validation: |          | 0/? [00:00<?, ?it/s]"
      ]
     },
     "metadata": {},
     "output_type": "display_data"
    },
    {
     "data": {
      "application/vnd.jupyter.widget-view+json": {
       "model_id": "000d13e82d60461e9806b7d802182cfc",
       "version_major": 2,
       "version_minor": 0
      },
      "text/plain": [
       "Validation: |          | 0/? [00:00<?, ?it/s]"
      ]
     },
     "metadata": {},
     "output_type": "display_data"
    },
    {
     "data": {
      "application/vnd.jupyter.widget-view+json": {
       "model_id": "65361fa7982e4aaf91f54b234ead1a40",
       "version_major": 2,
       "version_minor": 0
      },
      "text/plain": [
       "Validation: |          | 0/? [00:00<?, ?it/s]"
      ]
     },
     "metadata": {},
     "output_type": "display_data"
    },
    {
     "data": {
      "application/vnd.jupyter.widget-view+json": {
       "model_id": "57287f1336814be99da89c28b17b3851",
       "version_major": 2,
       "version_minor": 0
      },
      "text/plain": [
       "Validation: |          | 0/? [00:00<?, ?it/s]"
      ]
     },
     "metadata": {},
     "output_type": "display_data"
    },
    {
     "data": {
      "application/vnd.jupyter.widget-view+json": {
       "model_id": "60b9dfabf22c4d9a81cd43bfc2658f2c",
       "version_major": 2,
       "version_minor": 0
      },
      "text/plain": [
       "Validation: |          | 0/? [00:00<?, ?it/s]"
      ]
     },
     "metadata": {},
     "output_type": "display_data"
    },
    {
     "data": {
      "application/vnd.jupyter.widget-view+json": {
       "model_id": "d5c39aeee7674359842cf2aa1d75ae8b",
       "version_major": 2,
       "version_minor": 0
      },
      "text/plain": [
       "Validation: |          | 0/? [00:00<?, ?it/s]"
      ]
     },
     "metadata": {},
     "output_type": "display_data"
    },
    {
     "data": {
      "application/vnd.jupyter.widget-view+json": {
       "model_id": "dd1f2a6b0085493194543f8e7ab33548",
       "version_major": 2,
       "version_minor": 0
      },
      "text/plain": [
       "Validation: |          | 0/? [00:00<?, ?it/s]"
      ]
     },
     "metadata": {},
     "output_type": "display_data"
    },
    {
     "data": {
      "application/vnd.jupyter.widget-view+json": {
       "model_id": "6319a38566bd44ff881cc9059982974f",
       "version_major": 2,
       "version_minor": 0
      },
      "text/plain": [
       "Validation: |          | 0/? [00:00<?, ?it/s]"
      ]
     },
     "metadata": {},
     "output_type": "display_data"
    },
    {
     "data": {
      "application/vnd.jupyter.widget-view+json": {
       "model_id": "84ce6dd4a2c843d590e7d4426522c1e8",
       "version_major": 2,
       "version_minor": 0
      },
      "text/plain": [
       "Validation: |          | 0/? [00:00<?, ?it/s]"
      ]
     },
     "metadata": {},
     "output_type": "display_data"
    },
    {
     "data": {
      "application/vnd.jupyter.widget-view+json": {
       "model_id": "f0e4f58b02364cf78bd40c2a62576ee9",
       "version_major": 2,
       "version_minor": 0
      },
      "text/plain": [
       "Validation: |          | 0/? [00:00<?, ?it/s]"
      ]
     },
     "metadata": {},
     "output_type": "display_data"
    },
    {
     "data": {
      "application/vnd.jupyter.widget-view+json": {
       "model_id": "b0036a3be3a44ac7b2aa474aa3df2fdd",
       "version_major": 2,
       "version_minor": 0
      },
      "text/plain": [
       "Validation: |          | 0/? [00:00<?, ?it/s]"
      ]
     },
     "metadata": {},
     "output_type": "display_data"
    },
    {
     "data": {
      "application/vnd.jupyter.widget-view+json": {
       "model_id": "e46f4eb365ef40368fbc4a90683c4eda",
       "version_major": 2,
       "version_minor": 0
      },
      "text/plain": [
       "Validation: |          | 0/? [00:00<?, ?it/s]"
      ]
     },
     "metadata": {},
     "output_type": "display_data"
    },
    {
     "data": {
      "application/vnd.jupyter.widget-view+json": {
       "model_id": "10d72b81107c421480813004def727a3",
       "version_major": 2,
       "version_minor": 0
      },
      "text/plain": [
       "Validation: |          | 0/? [00:00<?, ?it/s]"
      ]
     },
     "metadata": {},
     "output_type": "display_data"
    },
    {
     "name": "stderr",
     "output_type": "stream",
     "text": [
      "`Trainer.fit` stopped: `max_epochs=20` reached.\n"
     ]
    }
   ],
   "source": [
    "trainer = pl.Trainer(max_epochs=20)\n",
    "trainer.fit(model=npe, train_dataloaders=train_loader, val_dataloaders=val_loader)"
   ]
  },
  {
   "cell_type": "markdown",
   "metadata": {},
   "source": [
    "We have trained the Normalizing Flow model to estimate the posterior distribution $p(\\theta | x)$ given **any** observed data $x$! We can now sample from this model to obtain samples from the posterior distribution for $\\Omega_m$ and $H_0$.\n",
    "\n",
    "#### Inference\n",
    "\n",
    "So let's generate a mock observed data $x_{test} = x_{\\text{obs}}$ and sample from the model to obtain samples from the posterior distribution $p(\\theta | x_{\\text{obs}})$. Don't get confused - in a real application, $x_{\\text{obs}}$ would be the actual observed data, and we would use the model to infer the posterior distribution of the parameters $\\theta$ given this data."
   ]
  },
  {
   "cell_type": "code",
   "execution_count": null,
   "metadata": {},
   "outputs": [],
   "source": [
    "# Test the trained model\n",
    "param_test = np.array([0.3, 70.0])\n",
    "x_test = luminosity_distance_simulator(param_test, z) # assume that the observed data \"comes from\" the above parameters\n",
    "\n",
    "x_test_norm = (torch.Tensor(x_test) - x_mean) / x_std # normalize the test data\n",
    "context = npe.featurizer(x_test_norm).unsqueeze(0)"
   ]
  },
  {
   "cell_type": "code",
   "execution_count": null,
   "metadata": {},
   "outputs": [],
   "source": [
    "# Sample from the trained normalizing flow\n",
    "test_samples = npe.flow.sample(num_samples=10000, context=context) * param_std + param_mean\n",
    "test_samples = test_samples.detach().numpy().squeeze(0)"
   ]
  },
  {
   "cell_type": "code",
   "execution_count": null,
   "metadata": {},
   "outputs": [
    {
     "name": "stdout",
     "output_type": "stream",
     "text": [
      "Removed no burn in\n"
     ]
    },
    {
     "data": {
      "image/png": "[encoded data removed]",
      "text/plain": [
       "<Figure size 600x600 with 3 Axes>"
      ]
     },
     "metadata": {},
     "output_type": "display_data"
    }
   ],
   "source": [
    "# Create a MCSamples instance\n",
    "samples = MCSamples(samples=test_samples, labels=['\\Omega_m', 'H_0'], names=['Omega_m', 'H_0'])\n",
    "\n",
    "true_Omega_m = 0.3\n",
    "true_H0 = 70\n",
    "\n",
    "# Create a GetDist plot\n",
    "g = plots.get_subplot_plotter(width_inch=6)\n",
    "g.triangle_plot([samples], filled=True, markers={'Omega_m': true_Omega_m, 'H_0': true_H0})\n",
    "plt.show()"
   ]
  },
  {
   "cell_type": "markdown",
   "metadata": {},
   "source": [
    "We see that the posteriors that we get from NPE are very similar to the \"true\" posterior that we got from standard Bayesian inference!"
   ]
  },
  {
   "cell_type": "markdown",
   "metadata": {},
   "source": [
    "**Advantages of NPE:**\n",
    "- No need for a <span style=\"color:darkorange\">likelihood</span> function.\n",
    "- Get direct samples from the <span style=\"color:darkorange\">posterior</span>.\n",
    "- <span style=\"color:darkorange\">Flexible posterior modeling</span> with Normalizing Flows.\n",
    "- <span style=\"color:darkorange\">Scalable to high-dimensional</span> data and parameters: Normalizing Flows allow NPE to scale to high-dimensional parameter and data spaces.\n",
    "- <span style=\"color:darkorange\">Amortized inference</span>: Once the NF model is trained on simulated data, it can quickly produce posterior samples for any new observed data $x_{obs}$ through a simple forward pass. This means that we don't need to re-run the inference algorithm for new data.\n",
    "\n",
    "**Drawbacks of NPE:**\n",
    "- We must <span style=\"color:darkorange\">retrain</span> the model if we want to change the prior.\n",
    "- If the prior and the posterior are <span style=\"color:darkorange\">very different</span>, the model may not be able to capture the posterior distribution well.\n",
    "- Still, in <span style=\"color:darkorange\">high-dimensional spaces</span>, the model may struggle to capture the posterior distribution accurately if we don't have a huge amount of training data.\n"
   ]
  },
  {
   "cell_type": "markdown",
   "metadata": {},
   "source": [
    "### 4.2.4. Coverage Test"
   ]
  },
  {
   "cell_type": "markdown",
   "metadata": {},
   "source": [
    "To check the accuracy of our approximate SBI methods it is important to have additional tests, that <span style=\"color:darkorange\">don't require having a ground-truth</span> against which to compare the results. Fortunately, SBI allows us to perform tests like this, with the most common one being the **coverage test**.\n",
    "\n",
    "Coverage is defined as the <span style=\"color:darkorange\">proportion of times the true parameter values fall within the specified credible intervals</span> of the posterior distributions. Ideally, a $95\\%$ credible interval should contain the true parameter value $95\\%$ of the time. If our intervals are too narrow, we might be overconfident, whereas if they're too wide, we might be conservative.\n",
    "\n",
    "This test uses the fact that once the inference network is trained, it can <span style=\"color:darkorange\">generate the posteriors for *any* mock observed data</span> simulated from the prior, (as opposed to standard Bayesian inference with MCMC, where we can only generate posteriors for a single set of observed data). Therefore, we can perform the following test:\n",
    "1. Generate a large number of mock observed data $x_{\\text{test}}$ from the prior.\n",
    "2. For each $x_{\\text{test}}$, generate samples from the posterior $p(\\theta | x_{\\text{test}})$ using the trained inference network.\n",
    "3. Check if the true parameter values $\\theta_{\\text{true}}$ are within the e.g. 95% credible interval of the posterior samples for each $x_{\\text{test}}$.\n",
    "4. The coverage is the fraction of $x_{\\text{test}}$ for which $\\theta_{\\text{true}}$ is within the 95% credible interval.\n",
    "\n",
    "> High Posterior Density (HPD) credible intervals are the shortest credible intervals that contain a certain percentage of the posterior probability. In other words, the HPD interval is the shortest interval that contains the true parameter value with a certain probability."
   ]
  },
  {
   "cell_type": "code",
   "execution_count": null,
   "metadata": {},
   "outputs": [
    {
     "name": "stderr",
     "output_type": "stream",
     "text": [
      "100%|██████████| 1000/1000 [00:01<00:00, 825.86it/s]\n"
     ]
    }
   ],
   "source": [
    "# Generate test samples\n",
    "n_test = 1000\n",
    "param_test_samples = np.random.uniform(low=[0, 50], high=[1, 100], size=(n_test, 2))\n",
    "x_test_samples = np.array([luminosity_distance_simulator(params, z) for params in tqdm(param_test_samples)])\n",
    "\n",
    "# Normalize test data\n",
    "x_test_samples_norm = (torch.tensor(x_test_samples, dtype=torch.float32) - x_mean) / x_std\n",
    "\n",
    "# Featurize test data to get the context for the normalizing flow\n",
    "context = npe.featurizer(x_test_samples_norm)\n",
    "\n",
    "# Sample `num_samples`(1000) parameter values from the posterior for each test data point\n",
    "samples_test = npe.flow.sample(num_samples=1000, context=context) * param_std + param_mean # denormalize the samples\n",
    "samples_test = samples_test.detach().numpy()"
   ]
  },
  {
   "cell_type": "markdown",
   "metadata": {},
   "source": [
    "Now, let's define our High Posterior Density (HPD) function. The way we will calculate the HPD is by sorting the posterior samples and finding the shortest interval that contains `credible_mass` ratio of the samples."
   ]
  },
  {
   "cell_type": "code",
   "execution_count": null,
   "metadata": {},
   "outputs": [],
   "source": [
    "def HPD(samples, credible_mass=0.95):\n",
    "    \"\"\"\n",
    "    Compute the highest posterior density (HPD) interval of the given samples for a given credible mass.\n",
    "    \n",
    "    Args:\n",
    "        samples (np.ndarray): Array of samples.\n",
    "        credible_mass (float): The desired credible mass for the HPD interval.\n",
    "        \n",
    "    Returns:\n",
    "        (float, float): The lower and upper bounds of the HPD interval.\n",
    "    \"\"\"\n",
    "    sorted_samples = np.sort(samples) # Sort the samples in ascending order\n",
    "    interval_idx_inc = int(np.floor(credible_mass * len(sorted_samples))) # Number of samples to include in the interval\n",
    "    n_intervals = len(sorted_samples) - interval_idx_inc # Number of intervals\n",
    "    interval_width = sorted_samples[interval_idx_inc:] - sorted_samples[:n_intervals] # Width of each interval\n",
    "    min_idx = np.argmin(interval_width) # Index of the interval with the smallest width\n",
    "    hdi_min = sorted_samples[min_idx] # Lower bound of the HPD interval\n",
    "    hdi_max = sorted_samples[min_idx + interval_idx_inc] # Upper bound of the HPD interval\n",
    "    return hdi_min, hdi_max"
   ]
  },
  {
   "cell_type": "markdown",
   "metadata": {},
   "source": [
    "Assess empirical coverage"
   ]
  },
  {
   "cell_type": "code",
   "execution_count": null,
   "metadata": {},
   "outputs": [],
   "source": [
    "p_nominals = np.linspace(0.01, 0.99, 50) # Use 50 different nominal coverage values, ranging from 1% to 99%\n",
    "contains_true = np.zeros((2, len(p_nominals)))\n",
    "\n",
    "# For each parameter and test sample, compute the HPD interval for different nominal coverages \n",
    "# and check if the true parameter value falls within the interval.\n",
    "for i_param in range(2): \n",
    "    for i, sample in enumerate(samples_test[:, :, i_param]):\n",
    "        for j, p_nominal in enumerate(p_nominals):\n",
    "            hdi_min, hdi_max = HPD(sample, credible_mass=p_nominal)\n",
    "            if hdi_min < param_test_samples[i, i_param] < hdi_max:\n",
    "                contains_true[i_param, j] += 1\n",
    "\n",
    "# Calculate the empirical coverage \n",
    "# (count the number of times the true parameter value is contained within the HPD interval for each nominal coverage)\n",
    "empirical_coverage = contains_true / n_test"
   ]
  },
  {
   "cell_type": "code",
   "execution_count": null,
   "metadata": {},
   "outputs": [
    {
     "data": {
      "image/png": "[encoded data removed]",
      "text/plain": [
       "<Figure size 1200x400 with 2 Axes>"
      ]
     },
     "metadata": {},
     "output_type": "display_data"
    }
   ],
   "source": [
    "# Plot the coverage\n",
    "fig, ax = plt.subplots(1, 2, figsize=(12, 4))\n",
    "\n",
    "param_names = [\"$\\Omega_m$\", \"$H_0$\"]\n",
    "for i in range(2):\n",
    "    ax[i].plot(p_nominals, empirical_coverage[i], label='Empirical coverage')\n",
    "    ax[i].plot([0, 1], [0, 1], color=\"black\", linestyle=\"--\", label='Ideal coverage')\n",
    "    ax[i].text(0.1, 0.8, \"Conservative\")\n",
    "    ax[i].text(0.6, 0.1, \"Overconfident\")\n",
    "    ax[i].set_xlabel(\"Nominal coverage\")\n",
    "    ax[i].set_ylabel(\"Empirical coverage\")\n",
    "    ax[i].set_title(f\"Coverage for {param_names[i]}\")\n",
    "    ax[i].legend()\n",
    "\n",
    "plt.show()"
   ]
  },
  {
   "cell_type": "markdown",
   "metadata": {},
   "source": [
    "We see that the empirical coverage is quite close to the ideal coverage (diagonal line), which means that the posteriors that we get from NPE are quite accurate, if slightly overconfident."
   ]
  },
  {
   "cell_type": "markdown",
   "metadata": {},
   "source": [
    "<center>\n",
    "<img src=\"assets/meme_chad_sbi.jpeg\" width=\"800\" />\n",
    "</center>"
   ]
  },
  {
   "cell_type": "markdown",
   "metadata": {},
   "source": [
    "# Sources & Further Reading\n"
   ]
  },
  {
   "cell_type": "markdown",
   "metadata": {},
   "source": [
    "**This notebook is based on the following sources:**\n",
    "- https://github.com/smsharma/sbi-lecture-mit\n",
    "- https://astroautomata.com/blog/simulation-based-inference/\n",
    "- https://github.com/maho3/ltu-ili/tree/main\n",
    "- https://indico.mitp.uni-mainz.de/event/332/contributions/4532/\n",
    "- https://indico.cern.ch/event/768915/contributions/3474655/\n",
    "- https://github.com/glouppe/ssi2023\n",
    "- https://lilianweng.github.io/posts/2018-10-13-flow-models/\n",
    "- https://gebob19.github.io/normalizing-flows/\n",
    "- https://arxiv.org/abs/1911.01429\n",
    "- https://arxiv.org/abs/2402.05137\n",
    "- https://arxiv.org/abs/2101.\n",
    "- https://arxiv.org/abs/2403.14750"
   ]
  },
  {
   "cell_type": "markdown",
   "metadata": {},
   "source": [
    "**Suggestions for further reading:**\n",
    "\n",
    "- Blogs and general papers:\n",
    "    - [Awesome Neural SBI (great list of resources on SBI that is frequently updated)](https://github.com/smsharma/awesome-neural-sbi)\n",
    "    - [This blog post on Normalizing Flows](https://gebob19.github.io/normalizing-flows/)\n",
    "    - [This other blog post on Normalizing Flows](https://lilianweng.github.io/lil-log/2018/10/13/flow-based-deep-generative-models.html)\n",
    "    - [This review paper on SBI](https://arxiv.org/abs/1911.01429)\n",
    "    - [This paper on benchmarking SBI methods](https://arxiv.org/abs/2101.04653)\n",
    "\n",
    "- Some indicative papers on SBI applications in cosmology and astrophysics:\n",
    "    - [Fast likelihood-free cosmology with neural density estimators and active learning](https://arxiv.org/abs/1903.00007)\n",
    "    - [Fast likelihood-free inference in the LSS Stage IV era](https://arxiv.org/abs/2403.14750)\n",
    "    - [SimBIG: Cosmological Constraints using Simulation-Based Inference of Galaxy Clustering with Marked Power Spectra](https://arxiv.org/abs/2404.04228)\n",
    "    - [Real-time gravitational-wave science with neural posterior estimation](https://arxiv.org/abs/2106.12594)\n",
    "    - [Constraining the X-ray heating and reionization using 21-cm power spectra with Marginal Neural Ratio Estimation](https://arxiv.org/abs/2303.07339)\n",
    "    - [Neural posterior estimation for exoplanetary atmospheric retrieval](https://arxiv.org/abs/2301.06575)\n",
    "\n",
    "- Some nice SBI libraries:\n",
    "    - [`sbi`](https://github.com/mackelab/sbi)\n",
    "    - [`pydelfi`](https://github.com/justinalsing/pydelfi)\n",
    "    - [`ltu-ili`](https://github.com/maho3/ltu-ili)\n",
    "\n",
    "    "
   ]
  }
 ],
 "metadata": {
  "kernelspec": {
   "display_name": "astrostat24",
   "language": "python",
   "name": "python3"
  },
  "language_info": {
   "codemirror_mode": {
    "name": "ipython",
    "version": 3
   },
   "file_extension": ".py",
   "mimetype": "text/x-python",
   "name": "python",
   "nbconvert_exporter": "python",
   "pygments_lexer": "ipython3",
   "version": "3.9.16"
  }
 },
 "nbformat": 4,
 "nbformat_minor": 2
}
