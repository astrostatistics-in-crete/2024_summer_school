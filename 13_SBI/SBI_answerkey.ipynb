{
 "cells": [
  {
   "cell_type": "code",
   "execution_count": 4,
   "metadata": {
    "tags": []
   },
   "outputs": [
    {
     "name": "stdout",
     "output_type": "stream",
     "text": [
      "\u001b[33mWARNING: The directory '/home/jovyan/.cache/pip' or its parent directory is not owned or is not writable by the current user. The cache has been disabled. Check the permissions and owner of that directory. If executing pip with sudo, you should use sudo's -H flag.\u001b[0m\u001b[33m\n",
      "\u001b[0m\u001b[33mWARNING: Running pip as the 'root' user can result in broken permissions and conflicting behaviour with the system package manager. It is recommended to use a virtual environment instead: https://pip.pypa.io/warnings/venv\u001b[0m\u001b[33m\n",
      "\u001b[0m"
     ]
    }
   ],
   "source": [
    "! pip install --upgrade emcee corner pytorch-lightning tqdm nflows getdist astropy --quiet"
   ]
  },
  {
   "cell_type": "code",
   "execution_count": 5,
   "metadata": {
    "tags": []
   },
   "outputs": [],
   "source": [
    "import torch\n",
    "import torch.nn as nn\n",
    "import torch.nn.functional as F\n",
    "from torch.utils.data import TensorDataset, DataLoader, random_split\n",
    "import numpy as np\n",
    "import emcee\n",
    "from scipy.stats import poisson\n",
    "from scipy.stats import chi2\n",
    "from scipy.optimize import basinhopping\n",
    "from tqdm import tqdm\n",
    "import matplotlib.pyplot as plt\n",
    "import pytorch_lightning as pl\n",
    "import corner\n",
    "from scipy.stats import norm\n",
    "from getdist import plots, MCSamples\n",
    "from scipy.integrate import quad"
   ]
  },
  {
   "cell_type": "code",
   "execution_count": 6,
   "metadata": {
    "tags": []
   },
   "outputs": [],
   "source": [
    "%matplotlib inline"
   ]
  },
  {
   "cell_type": "markdown",
   "metadata": {},
   "source": [
    "## Gaussian Signal with Unknown Mean and Standard Deviation"
   ]
  },
  {
   "cell_type": "markdown",
   "metadata": {},
   "source": [
    "Forward Model: The signal $x$ is modeled as a Gaussian distribution with mean $\\mu$ and standard deviation $\\sigma$, with observations $y$ being the true signal plus some Gaussian noise."
   ]
  },
  {
   "cell_type": "code",
   "execution_count": 7,
   "metadata": {
    "tags": []
   },
   "outputs": [],
   "source": [
    "# Forward model for a Gaussian signal\n",
    "def gaussian_forward_model(y, mu, sigma):\n",
    "    \"\"\" Forward model for a Gaussian signal with mean mu and standard deviation sigma. \"\"\"\n",
    "    return mu + sigma * y"
   ]
  },
  {
   "cell_type": "code",
   "execution_count": 8,
   "metadata": {
    "tags": []
   },
   "outputs": [],
   "source": [
    "# Generate data\n",
    "np.random.seed(42)\n",
    "true_mu = 5.0\n",
    "true_sigma = 1.0\n",
    "y = np.linspace(-3, 3, 50)  # Independent variable\n",
    "x = gaussian_forward_model(y, true_mu, true_sigma) + np.random.normal(0, 0.5, size=y.shape)  # Observations with noise"
   ]
  },
  {
   "cell_type": "code",
   "execution_count": 9,
   "metadata": {
    "tags": []
   },
   "outputs": [
    {
     "data": {
      "image/png": "[encoded data removed]",
      "text/plain": [
       "<Figure size 640x480 with 1 Axes>"
      ]
     },
     "metadata": {},
     "output_type": "display_data"
    }
   ],
   "source": [
    "# Plot the generated data\n",
    "plt.errorbar(y, x, yerr=0.5, fmt='o', label=\"Observed data\")\n",
    "plt.xlabel(\"$y$\")\n",
    "plt.ylabel(\"$x$\")\n",
    "plt.legend()\n",
    "plt.show()"
   ]
  },
  {
   "cell_type": "markdown",
   "metadata": {},
   "source": [
    "We can write down the likelihood function as a Gaussian over the observed data given the parameters $\\mu$ and $\\sigma$:"
   ]
  },
  {
   "cell_type": "code",
   "execution_count": 10,
   "metadata": {
    "tags": []
   },
   "outputs": [
    {
     "data": {
      "text/plain": [
       "-33.918095840468524"
      ]
     },
     "execution_count": 10,
     "metadata": {},
     "output_type": "execute_result"
    }
   ],
   "source": [
    "def log_like(params, y, x):\n",
    "    \"\"\" Log-likelihood function for a Gaussian signal with mean mu and std sigma. \"\"\"\n",
    "    mu, sigma = params\n",
    "    model = gaussian_forward_model(y, mu, sigma)\n",
    "    return norm.logpdf(x, model, 0.5).sum()\n",
    "\n",
    "# Test the log-likelihood function with true parameters\n",
    "log_like([true_mu, true_sigma], y, x)"
   ]
  },
  {
   "cell_type": "code",
   "execution_count": 11,
   "metadata": {
    "tags": []
   },
   "outputs": [
    {
     "name": "stdout",
     "output_type": "stream",
     "text": [
      "MLE parameters: [4.88726304 0.9516805 ]; true parameters: (5.0, 1.0)\n"
     ]
    }
   ],
   "source": [
    "# Initial guess for the parameters\n",
    "initial_guess = [0.0, 1.0]\n",
    "\n",
    "# Set up the minimizer_kwargs for the basinhopping algorithm\n",
    "minimizer_kwargs = {\"method\": \"L-BFGS-B\", \"bounds\": ((-10, 10), (0.1, 5))}\n",
    "\n",
    "# Perform the optimization using basinhopping\n",
    "opt = basinhopping(lambda params: -log_like(params, y, x), initial_guess, minimizer_kwargs=minimizer_kwargs)\n",
    "\n",
    "print(\"MLE parameters: {}; true parameters: {}\".format(opt.x, (true_mu, true_sigma)))\n"
   ]
  },
  {
   "cell_type": "code",
   "execution_count": 12,
   "metadata": {
    "tags": []
   },
   "outputs": [],
   "source": [
    "# Log-prior function\n",
    "def log_prior(params):\n",
    "    mu, sigma = params\n",
    "    if -10 < mu < 10 and 0.1 < sigma < 5:\n",
    "        return 0\n",
    "    else:\n",
    "        return -np.inf\n",
    "    \n",
    "# Log-posterior function\n",
    "def log_post(params, y, x):\n",
    "    lp = log_prior(params)\n",
    "    if not np.isfinite(lp):\n",
    "        return -np.inf\n",
    "    else:\n",
    "        return lp + log_like(params, y, x)"
   ]
  },
  {
   "cell_type": "code",
   "execution_count": null,
   "metadata": {
    "tags": []
   },
   "outputs": [],
   "source": [
    "samples = MCSamples(samples=flat_samples, names=['mu', 'sigma'], labels=['\\mu', '\\sigma'])\n",
    "# Create the plotter\n",
    "g = plots.get_subplot_plotter()\n",
    "# Create the triangle plot\n",
    "g.triangle_plot(samples, filled=True, markers={'mu': true_mu, 'sigma': true_sigma})\n",
    "plt.show()"
   ]
  },
  {
   "cell_type": "markdown",
   "metadata": {},
   "source": [
    "## Supernova Light Curve Model"
   ]
  },
  {
   "cell_type": "code",
   "execution_count": 14,
   "metadata": {
    "tags": []
   },
   "outputs": [],
   "source": [
    "# Supernova light curve model\n",
    "def sn_light_curve(t, t_peak, M_peak, sigma_rise=10, sigma_decay=20):\n",
    "    \"\"\" Light curve model for a supernova. \"\"\"\n",
    "    rise = np.exp(-(t - t_peak) / sigma_rise)\n",
    "    decay = np.exp(-(t - t_peak) / sigma_decay)\n",
    "    return M_peak - 2.5 * np.log10(rise + decay)"
   ]
  },
  {
   "cell_type": "code",
   "execution_count": 15,
   "metadata": {
    "tags": []
   },
   "outputs": [],
   "source": [
    "# Generate synthetic data\n",
    "np.random.seed(4)\n",
    "true_t_peak = 30.0\n",
    "true_M_peak = -19.0\n",
    "t = np.linspace(0, 100, 50)\n",
    "y_true = sn_light_curve(t, true_t_peak, true_M_peak)\n",
    "y_obs = y_true + np.random.normal(0, 0.1, size=t.shape)"
   ]
  },
  {
   "cell_type": "code",
   "execution_count": 16,
   "metadata": {
    "tags": []
   },
   "outputs": [
    {
     "data": {
      "image/png": "[encoded data removed]",
      "text/plain": [
       "<Figure size 640x480 with 1 Axes>"
      ]
     },
     "metadata": {},
     "output_type": "display_data"
    }
   ],
   "source": [
    "# Plot the generated data\n",
    "plt.errorbar(t, y_obs, yerr=0.1, fmt='o', color='k', label=\"Observed data\")\n",
    "plt.plot(t, y_true, label=\"True light curve\", color='r')\n",
    "plt.xlabel(\"Time (days)\")\n",
    "plt.ylabel(\"Magnitude\")\n",
    "plt.legend()\n",
    "plt.show()"
   ]
  },
  {
   "cell_type": "code",
   "execution_count": 17,
   "metadata": {
    "tags": []
   },
   "outputs": [],
   "source": [
    "# Log-Likelihood Function\n",
    "def log_like(params, t, y):\n",
    "    \"\"\" Log-likelihood function for the supernova light curve model. \"\"\"\n",
    "    t_peak, M_peak = params\n",
    "    model = sn_light_curve(t, t_peak, M_peak)\n",
    "    return norm.logpdf(y, model, 0.1).sum()"
   ]
  },
  {
   "cell_type": "code",
   "execution_count": 18,
   "metadata": {
    "tags": []
   },
   "outputs": [
    {
     "name": "stdout",
     "output_type": "stream",
     "text": [
      "MLE parameters: [ 30.70578418 -18.94445441]; true parameters: (30.0, -19.0)\n"
     ]
    }
   ],
   "source": [
    "# Initial guess for the parameters\n",
    "initial_guess = [25.0, -18.0]\n",
    "\n",
    "# Set up the minimizer_kwargs for the basinhopping algorithm\n",
    "minimizer_kwargs = {\"method\": \"L-BFGS-B\", \"bounds\": ((0, 100), (-20, -15))}\n",
    "\n",
    "# Perform the optimization using basinhopping\n",
    "opt = basinhopping(lambda params: -log_like(params, t, y_obs), initial_guess, minimizer_kwargs=minimizer_kwargs)\n",
    "print(\"MLE parameters: {}; true parameters: {}\".format(opt.x, (true_t_peak, true_M_peak)))"
   ]
  },
  {
   "cell_type": "code",
   "execution_count": 19,
   "metadata": {
    "tags": []
   },
   "outputs": [],
   "source": [
    "# Log-prior function\n",
    "def log_prior(params):\n",
    "    t_peak, M_peak = params\n",
    "    if 0 < t_peak < 100 and -20 < M_peak < -15:\n",
    "        return 0\n",
    "    else:\n",
    "        return -np.inf\n",
    "\n",
    "# Log-posterior function\n",
    "def log_post(params, t, y):\n",
    "    lp = log_prior(params)\n",
    "    if not np.isfinite(lp):\n",
    "        return -np.inf\n",
    "    else:\n",
    "        return lp + log_like(params, t, y)"
   ]
  },
  {
   "cell_type": "code",
   "execution_count": 20,
   "metadata": {
    "tags": []
   },
   "outputs": [
    {
     "name": "stderr",
     "output_type": "stream",
     "text": [
      "100%|██████████| 5000/5000 [00:15<00:00, 326.66it/s]\n"
     ]
    }
   ],
   "source": [
    "# Sampling with `emcee`\n",
    "ndim, nwalkers = 2, 32\n",
    "sampler = emcee.EnsembleSampler(nwalkers, ndim, log_post, args=(t, y_obs))\n",
    "\n",
    "# Initialize walkers around the MLE result\n",
    "pos = opt.x + 1e-3 * np.random.randn(nwalkers, ndim)\n",
    "sampler.run_mcmc(pos, 5000, progress=True);\n",
    "\n",
    "# Get samples and convert to GetDist MCSamples\n",
    "flat_samples = sampler.get_chain(discard=1000, flat=True)"
   ]
  },
  {
   "cell_type": "code",
   "execution_count": 21,
   "metadata": {
    "tags": []
   },
   "outputs": [
    {
     "name": "stdout",
     "output_type": "stream",
     "text": [
      "Removed no burn in\n"
     ]
    },
    {
     "data": {
      "image/png": "[encoded data removed]",
      "text/plain": [
       "<Figure size 600x600 with 3 Axes>"
      ]
     },
     "metadata": {},
     "output_type": "display_data"
    }
   ],
   "source": [
    "# GetDist plotting\n",
    "samples = MCSamples(samples=flat_samples, names=['t_peak', 'M_peak'])\n",
    "g = plots.get_subplot_plotter(width_inch=6)\n",
    "g.triangle_plot(samples, filled=True, markers={'t_peak': true_t_peak, 'M_peak': true_M_peak})\n",
    "\n",
    "plt.show()"
   ]
  },
  {
   "cell_type": "markdown",
   "metadata": {},
   "source": [
    "## Supernova Lumonisity Distance"
   ]
  },
  {
   "cell_type": "markdown",
   "metadata": {},
   "source": [
    "We'll consider a simplified model for the luminosity distance to supernovae, which depends on the cosmological parameters $\\Omega_m$ (matter density parameter) and $H_0$ (Hubble constant).\n",
    "\n",
    "The luminosity distance $d_L$ for a flat universe ($\\Omega_k = 0$) can be approximated using the cosmological parameters. The apparent magnitude $m$ of a supernova is related to its luminosity distance.\n",
    "\n"
   ]
  },
  {
   "cell_type": "markdown",
   "metadata": {},
   "source": [
    "For simplicity, we'll assume the following:\n",
    "1. We have a set of supernovae with observed apparent magnitudes $m_{\\text{obs}}$ and redshifts $z$.\n",
    "2. The theoretical apparent magnitude $m_{\\text{th}}$ is given by the distance modulus $\\mu$\n",
    "$$\\mu = 5 \\log_{10}(d_L) + 25,$$ \n",
    "where $d_L$ is the luminosity distance.\n",
    "3. The luminosity distance $d_L$ depends on the cosmological parameters $\\Omega_m$ and $H_0$.\n",
    "\n",
    "Given the redshift $z$, the luminosity distance $d_L$ can be approximated by:\n",
    "$$d_L = \\frac{c(1+z)}{H_0} \\int_0^z \\frac{dz'}{\\sqrt{\\Omega_m(1+z')^3 + (1-\\Omega_m)}},$$\n",
    "where $c$ is the speed of light.\n",
    "​\t"
   ]
  },
  {
   "cell_type": "markdown",
   "metadata": {},
   "source": [
    "\n",
    "### Analytical Likelihood\n",
    "We'll assume the observed magnitudes $m_{\\text{obs}}$ have Gaussian errors, and write down the likelihood function as a Gaussian over the observed data given the parameters $\\Omega_m$ and $H_0$:\n",
    "$$\\mathcal{L}(\\Omega_m, H_0) = \\prod_{i=1}^N \\frac{1}{\\sqrt{2\\pi\\sigma_i^2}} \\exp\\left(-\\frac{(m_{\\text{obs},i} - m_{\\text{th},i})^2}{2\\sigma_i^2}\\right),$$\n",
    "where $N$ is the number of supernovae, $m_{\\text{obs},i}$ is the observed apparent magnitude of supernova $i$, $m_{\\text{th},i}$ is the theoretical apparent magnitude of supernova $i$, and $\\sigma_i$ is the error in the observed apparent magnitude of supernova $i$."
   ]
  },
  {
   "cell_type": "code",
   "execution_count": 7,
   "metadata": {
    "tags": []
   },
   "outputs": [
    {
     "data": {
      "image/png": "[encoded data removed]",
      "text/plain": [
       "<Figure size 640x480 with 1 Axes>"
      ]
     },
     "metadata": {},
     "output_type": "display_data"
    }
   ],
   "source": [
    "# Constants\n",
    "c = 299792.458  # Speed of light in km/s\n",
    "\n",
    "# True cosmological parameters\n",
    "true_Omega_m = 0.3\n",
    "true_H0 = 70.0  # Hubble constant in km/s/Mpc\n",
    "\n",
    "# Redshifts of the supernovae\n",
    "z = np.linspace(0.01, 1.0, 50)\n",
    "\n",
    "# Luminosity distance function\n",
    "def luminosity_distance(z, Omega_m, H0):\n",
    "    integrand = lambda z_prime: 1.0 / np.sqrt(Omega_m * (1 + z_prime)**3 + (1 - Omega_m))\n",
    "    d_L = np.array([quad(integrand, 0, z_i)[0] for z_i in z])\n",
    "    return (c * (1 + z) * d_L) / H0\n",
    "\n",
    "# Generate synthetic data\n",
    "d_L_true = luminosity_distance(z, true_Omega_m, true_H0)\n",
    "m_true = 5 * np.log10(d_L_true / 10)\n",
    "m_obs = m_true + np.random.normal(0, 0.5, len(m_true))  # Adding Gaussian noise\n",
    "\n",
    "# Plot synthetic data\n",
    "plt.errorbar(z, m_obs, yerr=0.5, fmt='.', label='Observed magnitudes')\n",
    "plt.plot(z, m_true, label='True magnitudes')\n",
    "plt.xlabel('Redshift $z$')\n",
    "plt.ylabel('Apparent magnitude $m$')\n",
    "plt.legend()\n",
    "plt.show()\n"
   ]
  },
  {
   "cell_type": "code",
   "execution_count": 8,
   "metadata": {
    "tags": []
   },
   "outputs": [
    {
     "name": "stdout",
     "output_type": "stream",
     "text": [
      "MLE parameters: [ 0.17813615 75.71848708]; true parameters: (0.3, 70.0)\n"
     ]
    }
   ],
   "source": [
    "# Define the log-likelihood function\n",
    "def log_like(params, z, m_obs):\n",
    "    Omega_m, H0 = params\n",
    "    d_L = luminosity_distance(z, Omega_m, H0)\n",
    "    m_th = 5 * np.log10(d_L / 10)\n",
    "    sigma_m = 0.5  # Assumed standard deviation of magnitudes\n",
    "    return -0.5 * np.sum(((m_obs - m_th) / sigma_m)**2)\n",
    "\n",
    "# Initial guess for the parameters\n",
    "initial_guess = [0.5, 60.0]\n",
    "\n",
    "# Perform the optimization using basinhopping\n",
    "minimizer_kwargs = {\"method\": \"L-BFGS-B\", \"bounds\": ((0, 1), (50, 100))}\n",
    "opt = basinhopping(lambda params: -log_like(params, z, m_obs), initial_guess, minimizer_kwargs=minimizer_kwargs)\n",
    "print(\"MLE parameters: {}; true parameters: {}\".format(opt.x, (true_Omega_m, true_H0)))\n"
   ]
  },
  {
   "cell_type": "code",
   "execution_count": 9,
   "metadata": {
    "tags": []
   },
   "outputs": [],
   "source": [
    "# Log-prior function\n",
    "def log_prior(params):\n",
    "    Omega_m, H0 = params\n",
    "    if 0 < Omega_m < 1 and 50 < H0 < 100:\n",
    "        return 0\n",
    "    else:\n",
    "        return -np.inf\n",
    "\n",
    "# Log-posterior function\n",
    "def log_post(params, z, m_obs):\n",
    "    lp = log_prior(params)\n",
    "    if not np.isfinite(lp):\n",
    "        return -np.inf\n",
    "    else:\n",
    "        return lp + log_like(params, z, m_obs)"
   ]
  },
  {
   "cell_type": "code",
   "execution_count": 25,
   "metadata": {
    "tags": []
   },
   "outputs": [
    {
     "name": "stderr",
     "output_type": "stream",
     "text": [
      "100%|██████████| 5000/5000 [02:51<00:00, 29.22it/s]\n"
     ]
    }
   ],
   "source": [
    "# Sampling with `emcee`\n",
    "ndim, nwalkers = 2, 32\n",
    "sampler = emcee.EnsembleSampler(nwalkers, ndim, log_post, args=(z, m_obs))\n",
    "\n",
    "# Initialize walkers around the MLE result\n",
    "pos = opt.x + 1e-3 * np.random.randn(nwalkers, ndim)\n",
    "sampler.run_mcmc(pos, 5000, progress=True)\n",
    "\n",
    "# Get samples and convert to GetDist MCSamples\n",
    "flat_samples = sampler.get_chain(discard=1000, flat=True)"
   ]
  },
  {
   "cell_type": "code",
   "execution_count": 26,
   "metadata": {
    "tags": []
   },
   "outputs": [
    {
     "name": "stdout",
     "output_type": "stream",
     "text": [
      "Removed no burn in\n"
     ]
    },
    {
     "name": "stderr",
     "output_type": "stream",
     "text": [
      "WARNING:root:fine_bins_2D not large enough for optimal density: Omega_m, H0\n"
     ]
    },
    {
     "data": {
      "image/png": "[encoded data removed]",
      "text/plain": [
       "<Figure size 600x600 with 3 Axes>"
      ]
     },
     "metadata": {},
     "output_type": "display_data"
    }
   ],
   "source": [
    "# GetDist plotting\n",
    "samples = MCSamples(samples=flat_samples, names=['Omega_m', 'H0'], labels=['Omega_m', 'H_0'])\n",
    "g = plots.get_subplot_plotter(width_inch=6)\n",
    "g.triangle_plot(samples, filled=True, markers={'Omega_m': true_Omega_m, 'H0': true_H0})\n",
    "\n",
    "plt.show()"
   ]
  },
  {
   "cell_type": "markdown",
   "metadata": {},
   "source": [
    "# ABC"
   ]
  },
  {
   "cell_type": "code",
   "execution_count": 10,
   "metadata": {
    "tags": []
   },
   "outputs": [],
   "source": [
    "# noise level\n",
    "sigma = 0.5\n",
    "# Forward model to simulate observed magnitudes\n",
    "def luminosity_distance_simulator(params, z):\n",
    "    Omega_m, H0 = params\n",
    "    d_L = luminosity_distance(z, Omega_m, H0)\n",
    "    m_th = 5 * np.log10(d_L / 10)\n",
    "    m_sim = m_th + np.random.normal(0, sigma, len(m_th))\n",
    "    return m_sim\n",
    "\n",
    "# Distance metric: Mean Squared Error\n",
    "def mse(x, x_fwd):\n",
    "    return np.sum((x - x_fwd) ** 2) / len(x)"
   ]
  },
  {
   "cell_type": "code",
   "execution_count": 11,
   "metadata": {
    "tags": []
   },
   "outputs": [],
   "source": [
    "# ABC Algorithm\n",
    "def abc(y, x, eps_thresh=0.5, n_samples=1000):\n",
    "    samples = []\n",
    "    total_attempts = 0\n",
    "    progress_bar = tqdm(total=n_samples, desc=\"Accepted Samples\", unit=\"samples\")\n",
    "\n",
    "    while len(samples) < n_samples:\n",
    "        params = np.random.uniform(low=[0, 50], high=[1, 100])  # Priors; theta ~ p(theta)\n",
    "        x_fwd = luminosity_distance_simulator(params, y)  # x ~ p(x|theta)\n",
    "        eps = mse(x, x_fwd)  # Distance metric; d(x, x_fwd)\n",
    "        total_attempts += 1\n",
    "\n",
    "        # If accepted, add to samples\n",
    "        if eps < eps_thresh:\n",
    "            samples.append(params)\n",
    "            progress_bar.update(1)\n",
    "            acceptance_ratio = len(samples) / total_attempts\n",
    "            progress_bar.set_postfix(acceptance_ratio=f\"{acceptance_ratio:.3f}\")\n",
    "\n",
    "    progress_bar.close()\n",
    "    return np.array(samples)"
   ]
  },
  {
   "cell_type": "code",
   "execution_count": 29,
   "metadata": {
    "tags": []
   },
   "outputs": [
    {
     "name": "stderr",
     "output_type": "stream",
     "text": [
      "Accepted Samples: 100%|██████████| 5000/5000 [06:35<00:00, 12.63samples/s, acceptance_ratio=0.015]\n"
     ]
    }
   ],
   "source": [
    "# Run ABC\n",
    "n_samples = 5000\n",
    "eps_thresh = 0.35\n",
    "post_samples = abc(z, m_obs, eps_thresh=eps_thresh, n_samples=n_samples)"
   ]
  },
  {
   "cell_type": "code",
   "execution_count": 30,
   "metadata": {
    "tags": []
   },
   "outputs": [
    {
     "name": "stdout",
     "output_type": "stream",
     "text": [
      "Removed no burn in\n"
     ]
    },
    {
     "data": {
      "image/png": "[encoded data removed]",
      "text/plain": [
       "<Figure size 600x600 with 3 Axes>"
      ]
     },
     "metadata": {},
     "output_type": "display_data"
    }
   ],
   "source": [
    "# GetDist plotting\n",
    "samples = MCSamples(samples=post_samples, names=['Omega_m', 'H0'], labels=['Omega_m', 'H_0'])\n",
    "g = plots.get_subplot_plotter(width_inch=6)\n",
    "g.triangle_plot(samples, filled=True, markers={'Omega_m': true_Omega_m, 'H0': true_H0})\n",
    "\n",
    "plt.show()"
   ]
  },
  {
   "cell_type": "markdown",
   "metadata": {},
   "source": [
    "# NRE"
   ]
  },
  {
   "cell_type": "code",
   "execution_count": null,
   "metadata": {
    "tags": []
   },
   "outputs": [],
   "source": [
    "# Generate training data\n",
    "n_train = 50_000\n",
    "theta_samples = np.random.uniform(low=[0, 50], high=[1, 100], size=(n_train, 2))  # Parameter proposal\n",
    "x_samples = np.array([luminosity_distance_simulator(theta, z) for theta in tqdm(theta_samples)])\n",
    "\n",
    "# Convert to torch tensors\n",
    "theta_samples = torch.tensor(theta_samples, dtype=torch.float32)\n",
    "x_samples = torch.tensor(x_samples, dtype=torch.float32)"
   ]
  },
  {
   "cell_type": "code",
   "execution_count": 10,
   "metadata": {
    "tags": []
   },
   "outputs": [
    {
     "data": {
      "image/png": "[encoded data removed]",
      "text/plain": [
       "<Figure size 640x480 with 1 Axes>"
      ]
     },
     "metadata": {},
     "output_type": "display_data"
    }
   ],
   "source": [
    "# plot the training data\n",
    "plt.errorbar(z, x_samples[19], yerr=sigma, fmt='.', label='Simulated data')\n",
    "plt.xlabel('Redshift $z$')\n",
    "plt.ylabel('Apparent magnitude $m$')\n",
    "plt.legend()\n",
    "plt.show()"
   ]
  },
  {
   "cell_type": "code",
   "execution_count": 11,
   "metadata": {
    "tags": []
   },
   "outputs": [],
   "source": [
    "# Normalize the data\n",
    "x_mean = x_samples.mean(dim=0)\n",
    "x_std = x_samples.std(dim=0)\n",
    "x_samples = (x_samples - x_mean) / x_std\n",
    "\n",
    "theta_mean = theta_samples.mean(dim=0)\n",
    "theta_std = theta_samples.std(dim=0)\n",
    "theta_samples = (theta_samples - theta_mean) / theta_std"
   ]
  },
  {
   "cell_type": "code",
   "execution_count": 12,
   "metadata": {
    "tags": []
   },
   "outputs": [],
   "source": [
    "def build_mlp(input_dim, hidden_dim, output_dim, layers, activation=nn.GELU()):\n",
    "    \"\"\"Create an MLP from the configuration.\"\"\"\n",
    "    seq = [nn.Linear(input_dim, hidden_dim), activation]\n",
    "    for _ in range(layers):\n",
    "        seq += [nn.Linear(hidden_dim, hidden_dim), activation]\n",
    "    seq += [nn.Linear(hidden_dim, output_dim)]\n",
    "    return nn.Sequential(*seq)"
   ]
  },
  {
   "cell_type": "code",
   "execution_count": 21,
   "metadata": {
    "tags": []
   },
   "outputs": [],
   "source": [
    "class NeuralRatioEstimator(pl.LightningModule):\n",
    "    \"\"\" Simple neural likelihood-to-evidence ratio estimator, using an MLP as a parameterized classifier. \"\"\"\n",
    "    def __init__(self, x_dim, theta_dim):\n",
    "        super().__init__()\n",
    "        self.classifier = build_mlp(input_dim=x_dim + theta_dim, hidden_dim=128, output_dim=1, layers=4)\n",
    "\n",
    "    def forward(self, x):\n",
    "        return self.classifier(x)\n",
    "    \n",
    "    def loss(self, x, theta):\n",
    "        # Repeat x in groups of 2 along batch axis\n",
    "        x = x.repeat_interleave(2, dim=0)\n",
    "\n",
    "        # Get a shuffled version of theta\n",
    "        theta_shuffled = theta[torch.randperm(theta.shape[0])]\n",
    "\n",
    "        # Interleave theta and shuffled theta\n",
    "        theta = torch.stack([theta, theta_shuffled], dim=1).reshape(-1, theta.shape[1])\n",
    "\n",
    "        # Get labels; ones for pairs from joint, zeros for pairs from marginals\n",
    "        labels = torch.ones(x.shape[0], device=x.device) \n",
    "        labels[1::2] = 0.0\n",
    "\n",
    "        # Pass through parameterized classifier to get logits\n",
    "        logits = self(torch.cat([x, theta], dim=1))\n",
    "        probs = torch.sigmoid(logits).squeeze()\n",
    "\n",
    "        return nn.BCELoss(reduction='none')(probs, labels)\n",
    "\n",
    "    def training_step(self, batch, batch_idx):\n",
    "        x, theta = batch\n",
    "        loss = self.loss(x, theta).mean()\n",
    "        self.log(\"train_loss\", loss)\n",
    "        return loss\n",
    "\n",
    "    def validation_step(self, batch, batch_idx):\n",
    "        x, theta = batch\n",
    "        loss = self.loss(x, theta).mean()\n",
    "        self.log(\"val_loss\", loss)\n",
    "        return loss\n",
    "\n",
    "    def configure_optimizers(self):\n",
    "        return torch.optim.Adam(self.parameters(), lr=3e-4)"
   ]
  },
  {
   "cell_type": "code",
   "execution_count": 22,
   "metadata": {
    "tags": []
   },
   "outputs": [
    {
     "data": {
      "text/plain": [
       "tensor([0.7409, 0.6472, 0.7406, 0.6482, 0.7390, 0.6493, 0.7407, 0.6478, 0.7411,\n",
       "        0.6475, 0.7401, 0.6483, 0.7400, 0.6484, 0.7394, 0.6491, 0.7392, 0.6491,\n",
       "        0.7407, 0.6475, 0.7414, 0.6470, 0.7387, 0.6497, 0.7403, 0.6482, 0.7402,\n",
       "        0.6480, 0.7395, 0.6488, 0.7400, 0.6481, 0.7396, 0.6487, 0.7406, 0.6479,\n",
       "        0.7407, 0.6478, 0.7399, 0.6485, 0.7413, 0.6469, 0.7398, 0.6485, 0.7393,\n",
       "        0.6490, 0.7393, 0.6488, 0.7404, 0.6479, 0.7392, 0.6491, 0.7396, 0.6486,\n",
       "        0.7399, 0.6483, 0.7395, 0.6488, 0.7398, 0.6486, 0.7396, 0.6488, 0.7405,\n",
       "        0.6481, 0.7404, 0.6480, 0.7392, 0.6490, 0.7404, 0.6479, 0.7401, 0.6481,\n",
       "        0.7393, 0.6489, 0.7399, 0.6485, 0.7395, 0.6487, 0.7396, 0.6488, 0.7402,\n",
       "        0.6482, 0.7403, 0.6482, 0.7408, 0.6475, 0.7396, 0.6486, 0.7394, 0.6488,\n",
       "        0.7387, 0.6497, 0.7407, 0.6475, 0.7395, 0.6488, 0.7389, 0.6493, 0.7392,\n",
       "        0.6489, 0.7394, 0.6488, 0.7404, 0.6481, 0.7398, 0.6483, 0.7393, 0.6489,\n",
       "        0.7402, 0.6481, 0.7397, 0.6486, 0.7398, 0.6488, 0.7385, 0.6497, 0.7406,\n",
       "        0.6479, 0.7391, 0.6494, 0.7412, 0.6472, 0.7401, 0.6484, 0.7403, 0.6481,\n",
       "        0.7415, 0.6474], grad_fn=<BinaryCrossEntropyBackward0>)"
      ]
     },
     "execution_count": 22,
     "metadata": {},
     "output_type": "execute_result"
    }
   ],
   "source": [
    "# Initialize the model\n",
    "nre = NeuralRatioEstimator(x_dim=50, theta_dim=2)\n",
    "\n",
    "# Evaluate initial loss\n",
    "nre.loss(x_samples[:64], theta_samples[:64])"
   ]
  },
  {
   "cell_type": "code",
   "execution_count": 23,
   "metadata": {
    "tags": []
   },
   "outputs": [
    {
     "name": "stderr",
     "output_type": "stream",
     "text": [
      "Trainer will use only 1 of 4 GPUs because it is running inside an interactive / notebook environment. You may try to set `Trainer(devices=4)` but please note that multi-GPU inside interactive / notebook environments is considered experimental and unstable. Your mileage may vary.\n",
      "GPU available: True (cuda), used: True\n",
      "TPU available: False, using: 0 TPU cores\n",
      "IPU available: False, using: 0 IPUs\n",
      "HPU available: False, using: 0 HPUs\n",
      "You are using a CUDA device ('NVIDIA A100-SXM4-40GB') that has Tensor Cores. To properly utilize them, you should set `torch.set_float32_matmul_precision('medium' | 'high')` which will trade-off precision for performance. For more details, read https://pytorch.org/docs/stable/generated/torch.set_float32_matmul_precision.html#torch.set_float32_matmul_precision\n",
      "  0%|          | 0/50000 [04:44<?, ?it/s]\n",
      "LOCAL_RANK: 0 - CUDA_VISIBLE_DEVICES: [0,1,2,3]\n",
      "\n",
      "  | Name       | Type       | Params\n",
      "------------------------------------------\n",
      "0 | classifier | Sequential | 73.0 K\n",
      "------------------------------------------\n",
      "73.0 K    Trainable params\n",
      "0         Non-trainable params\n",
      "73.0 K    Total params\n",
      "0.292     Total estimated model params size (MB)\n"
     ]
    },
    {
     "data": {
      "application/vnd.jupyter.widget-view+json": {
       "model_id": "",
       "version_major": 2,
       "version_minor": 0
      },
      "text/plain": [
       "Sanity Checking: |          | 0/? [00:00<?, ?it/s]"
      ]
     },
     "metadata": {},
     "output_type": "display_data"
    },
    {
     "data": {
      "application/vnd.jupyter.widget-view+json": {
       "model_id": "70431d52fd85461e83910663e5780ed2",
       "version_major": 2,
       "version_minor": 0
      },
      "text/plain": [
       "Training: |          | 0/? [00:00<?, ?it/s]"
      ]
     },
     "metadata": {},
     "output_type": "display_data"
    },
    {
     "data": {
      "application/vnd.jupyter.widget-view+json": {
       "model_id": "",
       "version_major": 2,
       "version_minor": 0
      },
      "text/plain": [
       "Validation: |          | 0/? [00:00<?, ?it/s]"
      ]
     },
     "metadata": {},
     "output_type": "display_data"
    },
    {
     "data": {
      "application/vnd.jupyter.widget-view+json": {
       "model_id": "",
       "version_major": 2,
       "version_minor": 0
      },
      "text/plain": [
       "Validation: |          | 0/? [00:00<?, ?it/s]"
      ]
     },
     "metadata": {},
     "output_type": "display_data"
    },
    {
     "data": {
      "application/vnd.jupyter.widget-view+json": {
       "model_id": "",
       "version_major": 2,
       "version_minor": 0
      },
      "text/plain": [
       "Validation: |          | 0/? [00:00<?, ?it/s]"
      ]
     },
     "metadata": {},
     "output_type": "display_data"
    },
    {
     "data": {
      "application/vnd.jupyter.widget-view+json": {
       "model_id": "",
       "version_major": 2,
       "version_minor": 0
      },
      "text/plain": [
       "Validation: |          | 0/? [00:00<?, ?it/s]"
      ]
     },
     "metadata": {},
     "output_type": "display_data"
    },
    {
     "data": {
      "application/vnd.jupyter.widget-view+json": {
       "model_id": "",
       "version_major": 2,
       "version_minor": 0
      },
      "text/plain": [
       "Validation: |          | 0/? [00:00<?, ?it/s]"
      ]
     },
     "metadata": {},
     "output_type": "display_data"
    },
    {
     "data": {
      "application/vnd.jupyter.widget-view+json": {
       "model_id": "",
       "version_major": 2,
       "version_minor": 0
      },
      "text/plain": [
       "Validation: |          | 0/? [00:00<?, ?it/s]"
      ]
     },
     "metadata": {},
     "output_type": "display_data"
    },
    {
     "data": {
      "application/vnd.jupyter.widget-view+json": {
       "model_id": "",
       "version_major": 2,
       "version_minor": 0
      },
      "text/plain": [
       "Validation: |          | 0/? [00:00<?, ?it/s]"
      ]
     },
     "metadata": {},
     "output_type": "display_data"
    },
    {
     "data": {
      "application/vnd.jupyter.widget-view+json": {
       "model_id": "",
       "version_major": 2,
       "version_minor": 0
      },
      "text/plain": [
       "Validation: |          | 0/? [00:00<?, ?it/s]"
      ]
     },
     "metadata": {},
     "output_type": "display_data"
    },
    {
     "data": {
      "application/vnd.jupyter.widget-view+json": {
       "model_id": "",
       "version_major": 2,
       "version_minor": 0
      },
      "text/plain": [
       "Validation: |          | 0/? [00:00<?, ?it/s]"
      ]
     },
     "metadata": {},
     "output_type": "display_data"
    },
    {
     "data": {
      "application/vnd.jupyter.widget-view+json": {
       "model_id": "",
       "version_major": 2,
       "version_minor": 0
      },
      "text/plain": [
       "Validation: |          | 0/? [00:00<?, ?it/s]"
      ]
     },
     "metadata": {},
     "output_type": "display_data"
    },
    {
     "data": {
      "application/vnd.jupyter.widget-view+json": {
       "model_id": "",
       "version_major": 2,
       "version_minor": 0
      },
      "text/plain": [
       "Validation: |          | 0/? [00:00<?, ?it/s]"
      ]
     },
     "metadata": {},
     "output_type": "display_data"
    },
    {
     "data": {
      "application/vnd.jupyter.widget-view+json": {
       "model_id": "",
       "version_major": 2,
       "version_minor": 0
      },
      "text/plain": [
       "Validation: |          | 0/? [00:00<?, ?it/s]"
      ]
     },
     "metadata": {},
     "output_type": "display_data"
    },
    {
     "data": {
      "application/vnd.jupyter.widget-view+json": {
       "model_id": "",
       "version_major": 2,
       "version_minor": 0
      },
      "text/plain": [
       "Validation: |          | 0/? [00:00<?, ?it/s]"
      ]
     },
     "metadata": {},
     "output_type": "display_data"
    },
    {
     "data": {
      "application/vnd.jupyter.widget-view+json": {
       "model_id": "",
       "version_major": 2,
       "version_minor": 0
      },
      "text/plain": [
       "Validation: |          | 0/? [00:00<?, ?it/s]"
      ]
     },
     "metadata": {},
     "output_type": "display_data"
    },
    {
     "data": {
      "application/vnd.jupyter.widget-view+json": {
       "model_id": "",
       "version_major": 2,
       "version_minor": 0
      },
      "text/plain": [
       "Validation: |          | 0/? [00:00<?, ?it/s]"
      ]
     },
     "metadata": {},
     "output_type": "display_data"
    },
    {
     "data": {
      "application/vnd.jupyter.widget-view+json": {
       "model_id": "",
       "version_major": 2,
       "version_minor": 0
      },
      "text/plain": [
       "Validation: |          | 0/? [00:00<?, ?it/s]"
      ]
     },
     "metadata": {},
     "output_type": "display_data"
    },
    {
     "data": {
      "application/vnd.jupyter.widget-view+json": {
       "model_id": "",
       "version_major": 2,
       "version_minor": 0
      },
      "text/plain": [
       "Validation: |          | 0/? [00:00<?, ?it/s]"
      ]
     },
     "metadata": {},
     "output_type": "display_data"
    },
    {
     "data": {
      "application/vnd.jupyter.widget-view+json": {
       "model_id": "",
       "version_major": 2,
       "version_minor": 0
      },
      "text/plain": [
       "Validation: |          | 0/? [00:00<?, ?it/s]"
      ]
     },
     "metadata": {},
     "output_type": "display_data"
    },
    {
     "data": {
      "application/vnd.jupyter.widget-view+json": {
       "model_id": "",
       "version_major": 2,
       "version_minor": 0
      },
      "text/plain": [
       "Validation: |          | 0/? [00:00<?, ?it/s]"
      ]
     },
     "metadata": {},
     "output_type": "display_data"
    },
    {
     "data": {
      "application/vnd.jupyter.widget-view+json": {
       "model_id": "",
       "version_major": 2,
       "version_minor": 0
      },
      "text/plain": [
       "Validation: |          | 0/? [00:00<?, ?it/s]"
      ]
     },
     "metadata": {},
     "output_type": "display_data"
    },
    {
     "name": "stderr",
     "output_type": "stream",
     "text": [
      "`Trainer.fit` stopped: `max_epochs=20` reached.\n"
     ]
    }
   ],
   "source": [
    "from torch.utils.data import DataLoader, random_split, TensorDataset\n",
    "\n",
    "# Create dataset\n",
    "val_fraction = 0.1\n",
    "batch_size = 128\n",
    "n_samples_val = int(val_fraction * len(x_samples))\n",
    "\n",
    "dataset = TensorDataset(x_samples, theta_samples)\n",
    "dataset_train, dataset_val = random_split(dataset, [len(x_samples) - n_samples_val, n_samples_val])\n",
    "\n",
    "train_loader = DataLoader(dataset_train, batch_size=batch_size, num_workers=8, pin_memory=True, shuffle=True)\n",
    "val_loader = DataLoader(dataset_val, batch_size=batch_size, num_workers=8, pin_memory=True, shuffle=False)\n",
    "\n",
    "# Train the model\n",
    "trainer = pl.Trainer(max_epochs=20)\n",
    "trainer.fit(model=nre, train_dataloaders=train_loader, val_dataloaders=val_loader)\n"
   ]
  },
  {
   "cell_type": "code",
   "execution_count": null,
   "metadata": {
    "tags": []
   },
   "outputs": [],
   "source": [
    "def log_like(theta, x):\n",
    "    \"\"\" Log-likelihood ratio estimator using trained classifier logits. \"\"\"\n",
    "    x = torch.Tensor(x)\n",
    "    theta = torch.Tensor(theta)\n",
    "\n",
    "    # Normalize\n",
    "    x = (x - x_mean) / x_std\n",
    "    theta = (theta - theta_mean) / theta_std\n",
    "\n",
    "    x = torch.atleast_1d(x)\n",
    "    theta = torch.atleast_1d(theta)\n",
    "\n",
    "    return nre.classifier(torch.cat([x, theta], dim=-1)).squeeze()\n",
    "\n",
    "# Generate synthetic data for testing\n",
    "theta_test = np.array([0.3, 70.0])\n",
    "x_test = luminosity_distance_simulator(theta_test, z)\n",
    "\n",
    "log_like(theta_test, x_test)"
   ]
  },
  {
   "cell_type": "code",
   "execution_count": null,
   "metadata": {
    "tags": []
   },
   "outputs": [],
   "source": [
    "def log_prior(theta):\n",
    "    Omega_m, H0 = theta\n",
    "    if 0 < Omega_m < 1 and 50 < H0 < 100:\n",
    "        return 0.0  # Uniform prior\n",
    "    else:\n",
    "        return -np.inf  # Log(0) for invalid values\n",
    "    \n",
    "def log_post(theta, x):\n",
    "    \"\"\" Log-posterior distribution, for sampling. \"\"\"\n",
    "    lp = log_prior(theta)\n",
    "    if not np.isfinite(lp):\n",
    "        return -np.inf\n",
    "    else:\n",
    "        #return torch.tensor().detach().numpy( lp + log_like(theta, x) )\n",
    "        return (lp + log_like(theta, x)).detach().numpy()"
   ]
  },
  {
   "cell_type": "code",
   "execution_count": null,
   "metadata": {
    "tags": []
   },
   "outputs": [],
   "source": [
    "# Run MCMC sampling\n",
    "ndim, nwalkers = 2, 32\n",
    "sampler = emcee.EnsembleSampler(nwalkers, ndim, log_post, args=(x_test,))\n",
    "\n",
    "pos = theta_test + 1e-3 * np.random.randn(nwalkers, ndim)\n",
    "sampler.run_mcmc(pos, 10000, progress=True)"
   ]
  },
  {
   "cell_type": "code",
   "execution_count": null,
   "metadata": {
    "tags": []
   },
   "outputs": [],
   "source": [
    "# Get samples and convert to GetDist MCSamples\n",
    "flat_samples = sampler.get_chain(discard=1000, flat=True)"
   ]
  },
  {
   "cell_type": "code",
   "execution_count": null,
   "metadata": {
    "tags": []
   },
   "outputs": [],
   "source": [
    "# GetDist plotting\n",
    "samples = MCSamples(samples=flat_samples, names=['Omega_m', 'H0'], labels=['Omega_m', 'H_0'])\n",
    "g = plots.get_subplot_plotter(width_inch=6)\n",
    "g.triangle_plot(samples, filled=True, markers={'Omega_m': true_Omega_m, 'H0': true_H0})\n",
    "\n",
    "plt.show()"
   ]
  },
  {
   "cell_type": "markdown",
   "metadata": {},
   "source": [
    "# NPE"
   ]
  },
  {
   "cell_type": "code",
   "execution_count": 17,
   "metadata": {
    "tags": []
   },
   "outputs": [],
   "source": [
    "from nflows.flows.base import Flow\n",
    "from nflows.distributions.normal import StandardNormal\n",
    "from nflows.transforms.base import CompositeTransform\n",
    "from nflows.transforms.autoregressive import MaskedAffineAutoregressiveTransform\n",
    "from nflows.transforms.permutations import ReversePermutation"
   ]
  },
  {
   "cell_type": "code",
   "execution_count": 11,
   "metadata": {
    "tags": []
   },
   "outputs": [
    {
     "name": "stderr",
     "output_type": "stream",
     "text": [
      "100%|██████████| 50000/50000 [00:56<00:00, 878.26it/s]\n"
     ]
    }
   ],
   "source": [
    "# Generate training data\n",
    "n_train = 50_000\n",
    "theta_samples = np.random.uniform(low=[0, 50], high=[1, 100], size=(n_train, 2))  # Parameter proposal\n",
    "x_samples = np.array([luminosity_distance_simulator(theta, z) for theta in tqdm(theta_samples)])\n",
    "\n",
    "# Convert to torch tensors\n",
    "theta_samples = torch.tensor(theta_samples, dtype=torch.float32)\n",
    "x_samples = torch.tensor(x_samples, dtype=torch.float32)"
   ]
  },
  {
   "cell_type": "code",
   "execution_count": 12,
   "metadata": {
    "tags": []
   },
   "outputs": [
    {
     "data": {
      "image/png": "[encoded data removed]",
      "text/plain": [
       "<Figure size 640x480 with 1 Axes>"
      ]
     },
     "metadata": {},
     "output_type": "display_data"
    }
   ],
   "source": [
    "# plot the training data\n",
    "plt.errorbar(z, x_samples[19], yerr=sigma, fmt='.', label='Simulated data')\n",
    "plt.xlabel('Redshift $z$')\n",
    "plt.ylabel('Apparent magnitude $m$')\n",
    "plt.legend()\n",
    "plt.show()"
   ]
  },
  {
   "cell_type": "code",
   "execution_count": 13,
   "metadata": {
    "tags": []
   },
   "outputs": [],
   "source": [
    "# Normalize the data\n",
    "x_mean = x_samples.mean(dim=0)\n",
    "x_std = x_samples.std(dim=0)\n",
    "x_samples = (x_samples - x_mean) / x_std\n",
    "\n",
    "theta_mean = theta_samples.mean(dim=0)\n",
    "theta_std = theta_samples.std(dim=0)\n",
    "theta_samples = (theta_samples - theta_mean) / theta_std"
   ]
  },
  {
   "cell_type": "code",
   "execution_count": 14,
   "metadata": {
    "tags": []
   },
   "outputs": [],
   "source": [
    "def build_mlp(input_dim, hidden_dim, output_dim, layers, activation=nn.GELU()):\n",
    "    \"\"\"Create an MLP from the configuration.\"\"\"\n",
    "    seq = [nn.Linear(input_dim, hidden_dim), activation]\n",
    "    for _ in range(layers):\n",
    "        seq += [nn.Linear(hidden_dim, hidden_dim), activation]\n",
    "    seq += [nn.Linear(hidden_dim, output_dim)]\n",
    "    return nn.Sequential(*seq)"
   ]
  },
  {
   "cell_type": "code",
   "execution_count": 15,
   "metadata": {
    "tags": []
   },
   "outputs": [],
   "source": [
    "def get_flow(d_in=2, d_hidden=32, d_context=16, n_layers=4):\n",
    "    \"\"\"Instantiate a simple (Masked Autoregressive) normalizing flow.\"\"\"\n",
    "    base_dist = StandardNormal(shape=[d_in])\n",
    "    transforms = []\n",
    "    for _ in range(n_layers):\n",
    "        transforms.append(ReversePermutation(features=d_in))\n",
    "        transforms.append(MaskedAffineAutoregressiveTransform(features=d_in, hidden_features=d_hidden, context_features=d_context))\n",
    "    transform = CompositeTransform(transforms)\n",
    "    flow = Flow(transform, base_dist)\n",
    "    return flow\n",
    "\n",
    "# Instantiate the flow\n",
    "flow = get_flow()"
   ]
  },
  {
   "cell_type": "code",
   "execution_count": 16,
   "metadata": {
    "tags": []
   },
   "outputs": [
    {
     "name": "stdout",
     "output_type": "stream",
     "text": [
      "torch.Size([2, 100, 2]) torch.Size([2, 100])\n"
     ]
    }
   ],
   "source": [
    "# Make sure sampling and log-prob calculation makes sense\n",
    "samples, log_prob = flow.sample_and_log_prob(num_samples=100, context=torch.randn(2, 16))\n",
    "print(samples.shape, log_prob.shape)"
   ]
  },
  {
   "cell_type": "code",
   "execution_count": 17,
   "metadata": {
    "tags": []
   },
   "outputs": [],
   "source": [
    "class NeuralPosteriorEstimator(pl.LightningModule):\n",
    "    \"\"\"Simple neural posterior estimator class using a normalizing flow as the posterior density estimator.\"\"\"\n",
    "    def __init__(self, featurizer, d_context=16):\n",
    "        super().__init__()\n",
    "        self.featurizer = featurizer\n",
    "        self.flow = get_flow(d_in=2, d_hidden=32, d_context=d_context, n_layers=4)\n",
    "\n",
    "    def forward(self, x):\n",
    "        return self.featurizer(x)\n",
    "    \n",
    "    def loss(self, x, theta):\n",
    "        context = self(x)\n",
    "        return -self.flow.log_prob(inputs=theta, context=context)\n",
    "\n",
    "    def training_step(self, batch, batch_idx):\n",
    "        x, theta = batch\n",
    "        loss = self.loss(x, theta).mean()\n",
    "        self.log(\"train_loss\", loss)\n",
    "        return loss\n",
    "\n",
    "    def validation_step(self, batch, batch_idx):\n",
    "        x, theta = batch\n",
    "        loss = self.loss(x, theta).mean()\n",
    "        self.log(\"val_loss\", loss)\n",
    "        return loss\n",
    "\n",
    "    def configure_optimizers(self):\n",
    "        return torch.optim.Adam(self.parameters(), lr=3e-4)"
   ]
  },
  {
   "cell_type": "code",
   "execution_count": 18,
   "metadata": {
    "tags": []
   },
   "outputs": [
    {
     "data": {
      "text/plain": [
       "tensor([5.0980, 4.4856, 4.6300, 4.5182, 4.5965, 4.5449, 4.6996, 4.4949, 4.5147,\n",
       "        4.6736, 4.5026, 4.4826, 4.5486, 4.7940, 4.6087, 4.9230, 4.6736, 4.7260,\n",
       "        4.7849, 4.9806, 4.5968, 4.5415, 4.4674, 4.4638, 4.8631, 4.9757, 4.6535,\n",
       "        4.7045, 4.5688, 4.6070, 5.0542, 4.9883, 4.6724, 4.5840, 4.5927, 4.9876,\n",
       "        4.5579, 4.4828, 4.4755, 4.9395, 4.6012, 4.6401, 4.5811, 4.6390, 4.5845,\n",
       "        4.6023, 4.9300, 4.6981, 4.6749, 4.9968, 4.6646, 5.1592, 4.6903, 4.9363,\n",
       "        4.7597, 4.9360, 4.6060, 4.5670, 4.5307, 4.8310, 4.5488, 4.6653, 5.1350,\n",
       "        4.7935], grad_fn=<NegBackward0>)"
      ]
     },
     "execution_count": 18,
     "metadata": {},
     "output_type": "execute_result"
    }
   ],
   "source": [
    "npe = NeuralPosteriorEstimator(featurizer=build_mlp(input_dim=50, hidden_dim=128, output_dim=16, layers=4))\n",
    "npe.loss(x_samples[:64], theta_samples[:64])"
   ]
  },
  {
   "cell_type": "code",
   "execution_count": 19,
   "metadata": {
    "tags": []
   },
   "outputs": [],
   "source": [
    "# Create dataset\n",
    "val_fraction = 0.1\n",
    "batch_size = 128\n",
    "n_samples_val = int(val_fraction * len(x_samples))\n",
    "\n",
    "dataset = TensorDataset(x_samples, theta_samples)\n",
    "dataset_train, dataset_val = random_split(dataset, [len(x_samples) - n_samples_val, n_samples_val])\n",
    "\n",
    "train_loader = DataLoader(dataset_train, batch_size=batch_size, num_workers=8, pin_memory=True, shuffle=True)\n",
    "val_loader = DataLoader(dataset_val, batch_size=batch_size, num_workers=8, pin_memory=True, shuffle=False)"
   ]
  },
  {
   "cell_type": "code",
   "execution_count": 20,
   "metadata": {
    "tags": []
   },
   "outputs": [
    {
     "name": "stderr",
     "output_type": "stream",
     "text": [
      "Trainer will use only 1 of 4 GPUs because it is running inside an interactive / notebook environment. You may try to set `Trainer(devices=4)` but please note that multi-GPU inside interactive / notebook environments is considered experimental and unstable. Your mileage may vary.\n",
      "GPU available: True (cuda), used: True\n",
      "TPU available: False, using: 0 TPU cores\n",
      "IPU available: False, using: 0 IPUs\n",
      "HPU available: False, using: 0 HPUs\n",
      "You are using a CUDA device ('NVIDIA A100-SXM4-40GB') that has Tensor Cores. To properly utilize them, you should set `torch.set_float32_matmul_precision('medium' | 'high')` which will trade-off precision for performance. For more details, read https://pytorch.org/docs/stable/generated/torch.set_float32_matmul_precision.html#torch.set_float32_matmul_precision\n",
      "LOCAL_RANK: 0 - CUDA_VISIBLE_DEVICES: [0,1,2,3]\n",
      "\n",
      "  | Name       | Type       | Params\n",
      "------------------------------------------\n",
      "0 | featurizer | Sequential | 74.6 K\n",
      "1 | flow       | Flow       | 24.3 K\n",
      "------------------------------------------\n",
      "99.0 K    Trainable params\n",
      "0         Non-trainable params\n",
      "99.0 K    Total params\n",
      "0.396     Total estimated model params size (MB)\n"
     ]
    },
    {
     "data": {
      "application/vnd.jupyter.widget-view+json": {
       "model_id": "",
       "version_major": 2,
       "version_minor": 0
      },
      "text/plain": [
       "Sanity Checking: |          | 0/? [00:00<?, ?it/s]"
      ]
     },
     "metadata": {},
     "output_type": "display_data"
    },
    {
     "data": {
      "application/vnd.jupyter.widget-view+json": {
       "model_id": "f9d82053657c4213a117e5fc688ac875",
       "version_major": 2,
       "version_minor": 0
      },
      "text/plain": [
       "Training: |          | 0/? [00:00<?, ?it/s]"
      ]
     },
     "metadata": {},
     "output_type": "display_data"
    },
    {
     "data": {
      "application/vnd.jupyter.widget-view+json": {
       "model_id": "",
       "version_major": 2,
       "version_minor": 0
      },
      "text/plain": [
       "Validation: |          | 0/? [00:00<?, ?it/s]"
      ]
     },
     "metadata": {},
     "output_type": "display_data"
    },
    {
     "data": {
      "application/vnd.jupyter.widget-view+json": {
       "model_id": "",
       "version_major": 2,
       "version_minor": 0
      },
      "text/plain": [
       "Validation: |          | 0/? [00:00<?, ?it/s]"
      ]
     },
     "metadata": {},
     "output_type": "display_data"
    },
    {
     "data": {
      "application/vnd.jupyter.widget-view+json": {
       "model_id": "",
       "version_major": 2,
       "version_minor": 0
      },
      "text/plain": [
       "Validation: |          | 0/? [00:00<?, ?it/s]"
      ]
     },
     "metadata": {},
     "output_type": "display_data"
    },
    {
     "data": {
      "application/vnd.jupyter.widget-view+json": {
       "model_id": "",
       "version_major": 2,
       "version_minor": 0
      },
      "text/plain": [
       "Validation: |          | 0/? [00:00<?, ?it/s]"
      ]
     },
     "metadata": {},
     "output_type": "display_data"
    },
    {
     "data": {
      "application/vnd.jupyter.widget-view+json": {
       "model_id": "",
       "version_major": 2,
       "version_minor": 0
      },
      "text/plain": [
       "Validation: |          | 0/? [00:00<?, ?it/s]"
      ]
     },
     "metadata": {},
     "output_type": "display_data"
    },
    {
     "data": {
      "application/vnd.jupyter.widget-view+json": {
       "model_id": "",
       "version_major": 2,
       "version_minor": 0
      },
      "text/plain": [
       "Validation: |          | 0/? [00:00<?, ?it/s]"
      ]
     },
     "metadata": {},
     "output_type": "display_data"
    },
    {
     "data": {
      "application/vnd.jupyter.widget-view+json": {
       "model_id": "",
       "version_major": 2,
       "version_minor": 0
      },
      "text/plain": [
       "Validation: |          | 0/? [00:00<?, ?it/s]"
      ]
     },
     "metadata": {},
     "output_type": "display_data"
    },
    {
     "data": {
      "application/vnd.jupyter.widget-view+json": {
       "model_id": "",
       "version_major": 2,
       "version_minor": 0
      },
      "text/plain": [
       "Validation: |          | 0/? [00:00<?, ?it/s]"
      ]
     },
     "metadata": {},
     "output_type": "display_data"
    },
    {
     "data": {
      "application/vnd.jupyter.widget-view+json": {
       "model_id": "",
       "version_major": 2,
       "version_minor": 0
      },
      "text/plain": [
       "Validation: |          | 0/? [00:00<?, ?it/s]"
      ]
     },
     "metadata": {},
     "output_type": "display_data"
    },
    {
     "data": {
      "application/vnd.jupyter.widget-view+json": {
       "model_id": "",
       "version_major": 2,
       "version_minor": 0
      },
      "text/plain": [
       "Validation: |          | 0/? [00:00<?, ?it/s]"
      ]
     },
     "metadata": {},
     "output_type": "display_data"
    },
    {
     "data": {
      "application/vnd.jupyter.widget-view+json": {
       "model_id": "",
       "version_major": 2,
       "version_minor": 0
      },
      "text/plain": [
       "Validation: |          | 0/? [00:00<?, ?it/s]"
      ]
     },
     "metadata": {},
     "output_type": "display_data"
    },
    {
     "data": {
      "application/vnd.jupyter.widget-view+json": {
       "model_id": "",
       "version_major": 2,
       "version_minor": 0
      },
      "text/plain": [
       "Validation: |          | 0/? [00:00<?, ?it/s]"
      ]
     },
     "metadata": {},
     "output_type": "display_data"
    },
    {
     "data": {
      "application/vnd.jupyter.widget-view+json": {
       "model_id": "",
       "version_major": 2,
       "version_minor": 0
      },
      "text/plain": [
       "Validation: |          | 0/? [00:00<?, ?it/s]"
      ]
     },
     "metadata": {},
     "output_type": "display_data"
    },
    {
     "data": {
      "application/vnd.jupyter.widget-view+json": {
       "model_id": "",
       "version_major": 2,
       "version_minor": 0
      },
      "text/plain": [
       "Validation: |          | 0/? [00:00<?, ?it/s]"
      ]
     },
     "metadata": {},
     "output_type": "display_data"
    },
    {
     "data": {
      "application/vnd.jupyter.widget-view+json": {
       "model_id": "",
       "version_major": 2,
       "version_minor": 0
      },
      "text/plain": [
       "Validation: |          | 0/? [00:00<?, ?it/s]"
      ]
     },
     "metadata": {},
     "output_type": "display_data"
    },
    {
     "data": {
      "application/vnd.jupyter.widget-view+json": {
       "model_id": "",
       "version_major": 2,
       "version_minor": 0
      },
      "text/plain": [
       "Validation: |          | 0/? [00:00<?, ?it/s]"
      ]
     },
     "metadata": {},
     "output_type": "display_data"
    },
    {
     "data": {
      "application/vnd.jupyter.widget-view+json": {
       "model_id": "",
       "version_major": 2,
       "version_minor": 0
      },
      "text/plain": [
       "Validation: |          | 0/? [00:00<?, ?it/s]"
      ]
     },
     "metadata": {},
     "output_type": "display_data"
    },
    {
     "data": {
      "application/vnd.jupyter.widget-view+json": {
       "model_id": "",
       "version_major": 2,
       "version_minor": 0
      },
      "text/plain": [
       "Validation: |          | 0/? [00:00<?, ?it/s]"
      ]
     },
     "metadata": {},
     "output_type": "display_data"
    },
    {
     "data": {
      "application/vnd.jupyter.widget-view+json": {
       "model_id": "",
       "version_major": 2,
       "version_minor": 0
      },
      "text/plain": [
       "Validation: |          | 0/? [00:00<?, ?it/s]"
      ]
     },
     "metadata": {},
     "output_type": "display_data"
    },
    {
     "data": {
      "application/vnd.jupyter.widget-view+json": {
       "model_id": "",
       "version_major": 2,
       "version_minor": 0
      },
      "text/plain": [
       "Validation: |          | 0/? [00:00<?, ?it/s]"
      ]
     },
     "metadata": {},
     "output_type": "display_data"
    },
    {
     "name": "stderr",
     "output_type": "stream",
     "text": [
      "`Trainer.fit` stopped: `max_epochs=20` reached.\n"
     ]
    }
   ],
   "source": [
    "trainer = pl.Trainer(max_epochs=20)\n",
    "trainer.fit(model=npe, train_dataloaders=train_loader, val_dataloaders=val_loader)"
   ]
  },
  {
   "cell_type": "code",
   "execution_count": 22,
   "metadata": {
    "tags": []
   },
   "outputs": [],
   "source": [
    "theta_test = np.array([0.3, 70.0])\n",
    "x_test = luminosity_distance_simulator(theta_test, z)"
   ]
  },
  {
   "cell_type": "code",
   "execution_count": 23,
   "metadata": {
    "tags": []
   },
   "outputs": [],
   "source": [
    "x_test_norm = (torch.Tensor(x_test) - x_mean) / x_std\n",
    "context = npe.featurizer(x_test_norm).unsqueeze(0)"
   ]
  },
  {
   "cell_type": "code",
   "execution_count": 24,
   "metadata": {
    "tags": []
   },
   "outputs": [
    {
     "data": {
      "image/png": "[encoded data removed]",
      "text/plain": [
       "<Figure size 550x550 with 4 Axes>"
      ]
     },
     "metadata": {},
     "output_type": "display_data"
    }
   ],
   "source": [
    "samples_test = npe.flow.sample(num_samples=10000, context=context) * theta_std + theta_mean\n",
    "samples_test = samples_test.detach().numpy()\n",
    "samples_test_squeezed = samples_test.squeeze(0)\n",
    "corner.corner(samples_test_squeezed, labels=[r'\\Omega_m', 'H_0'], truths=[0.3, 70.0]);"
   ]
  },
  {
   "cell_type": "code",
   "execution_count": 25,
   "metadata": {
    "tags": []
   },
   "outputs": [
    {
     "name": "stdout",
     "output_type": "stream",
     "text": [
      "Removed no burn in\n"
     ]
    },
    {
     "data": {
      "image/png": "[encoded data removed]",
      "text/plain": [
       "<Figure size 400x400 with 3 Axes>"
      ]
     },
     "metadata": {},
     "output_type": "display_data"
    }
   ],
   "source": [
    "# Create a MCSamples instance\n",
    "samples = MCSamples(samples=samples_test_squeezed, labels=['Omega_m', 'H_0'], names=['Omega_m', 'H_0'])\n",
    "\n",
    "true_Omega_m = 0.3\n",
    "true_H0 = 70\n",
    "\n",
    "# Create a GetDist plot\n",
    "g = plots.get_subplot_plotter()\n",
    "g.triangle_plot([samples], filled=True, markers={'Omega_m': true_Omega_m, 'H_0': true_H0})\n",
    "\n",
    "plt.show()"
   ]
  },
  {
   "cell_type": "markdown",
   "metadata": {},
   "source": [
    "# NLE"
   ]
  },
  {
   "cell_type": "code",
   "execution_count": 26,
   "metadata": {
    "tags": []
   },
   "outputs": [
    {
     "name": "stderr",
     "output_type": "stream",
     "text": [
      "100%|██████████| 50000/50000 [00:56<00:00, 879.34it/s]\n"
     ]
    }
   ],
   "source": [
    "# Generate training data\n",
    "n_train = 50_000\n",
    "theta_samples = np.random.uniform(low=[0, 50], high=[1, 100], size=(n_train, 2))  # Parameter proposal\n",
    "x_samples = np.array([luminosity_distance_simulator(theta, z) for theta in tqdm(theta_samples)])\n",
    "\n",
    "# Convert to torch tensors\n",
    "theta_samples = torch.tensor(theta_samples, dtype=torch.float32)\n",
    "x_samples = torch.tensor(x_samples, dtype=torch.float32)"
   ]
  },
  {
   "cell_type": "code",
   "execution_count": 27,
   "metadata": {
    "tags": []
   },
   "outputs": [],
   "source": [
    "# Normalize the data\n",
    "x_mean = x_samples.mean(dim=0)\n",
    "x_std = x_samples.std(dim=0)\n",
    "x_samples = (x_samples - x_mean) / x_std\n",
    "\n",
    "theta_mean = theta_samples.mean(dim=0)\n",
    "theta_std = theta_samples.std(dim=0)\n",
    "theta_samples = (theta_samples - theta_mean) / theta_std"
   ]
  },
  {
   "cell_type": "code",
   "execution_count": 28,
   "metadata": {
    "tags": []
   },
   "outputs": [],
   "source": [
    "# Define the normalizing flow model\n",
    "def get_flow(d_in=50, d_hidden=128, d_context=2, n_layers=4):\n",
    "    \"\"\"Instantiate a simple (Masked Autoregressive) normalizing flow.\"\"\"\n",
    "    base_dist = StandardNormal(shape=[d_in])\n",
    "    transforms = []\n",
    "    for _ in range(n_layers):\n",
    "        transforms.append(ReversePermutation(features=d_in))\n",
    "        transforms.append(MaskedAffineAutoregressiveTransform(features=d_in, hidden_features=d_hidden, context_features=d_context))\n",
    "    transform = CompositeTransform(transforms)\n",
    "    flow = Flow(transform, base_dist)\n",
    "    return flow"
   ]
  },
  {
   "cell_type": "code",
   "execution_count": 29,
   "metadata": {
    "tags": []
   },
   "outputs": [],
   "source": [
    "# Define the neural likelihood estimator\n",
    "class NeuralLikelihoodEstimator(pl.LightningModule):\n",
    "    \"\"\"Simple neural likelihood estimator class using a normalizing flow as the likelihood density estimator.\"\"\"\n",
    "    def __init__(self, d_context=2):\n",
    "        super().__init__()\n",
    "        self.flow = get_flow(d_in=50, d_hidden=128, d_context=d_context, n_layers=4)\n",
    "\n",
    "    def loss(self, theta, x):\n",
    "        return -self.flow.log_prob(inputs=x, context=theta)\n",
    "\n",
    "    def training_step(self, batch, batch_idx):\n",
    "        theta, x = batch\n",
    "        loss = self.loss(theta, x).mean()\n",
    "        self.log(\"train_loss\", loss)\n",
    "        return loss\n",
    "\n",
    "    def validation_step(self, batch, batch_idx):\n",
    "        theta, x = batch\n",
    "        loss = self.loss(theta, x).mean()\n",
    "        self.log(\"val_loss\", loss)\n",
    "        return loss\n",
    "\n",
    "    def configure_optimizers(self):\n",
    "        return torch.optim.Adam(self.parameters(), lr=3e-4)"
   ]
  },
  {
   "cell_type": "code",
   "execution_count": 30,
   "metadata": {
    "tags": []
   },
   "outputs": [],
   "source": [
    "nle = NeuralLikelihoodEstimator()"
   ]
  },
  {
   "cell_type": "code",
   "execution_count": 31,
   "metadata": {
    "tags": []
   },
   "outputs": [],
   "source": [
    "# Create data loaders\n",
    "val_fraction = 0.1\n",
    "batch_size = 128\n",
    "n_samples_val = int(val_fraction * len(x_samples))\n",
    "\n",
    "dataset = TensorDataset(theta_samples, x_samples)\n",
    "dataset_train, dataset_val = random_split(dataset, [len(x_samples) - n_samples_val, n_samples_val])\n",
    "\n",
    "train_loader = DataLoader(dataset_train, batch_size=batch_size, num_workers=8, pin_memory=True, shuffle=True)\n",
    "val_loader = DataLoader(dataset_val, batch_size=batch_size, num_workers=8, pin_memory=True, shuffle=False)"
   ]
  },
  {
   "cell_type": "code",
   "execution_count": 32,
   "metadata": {
    "tags": []
   },
   "outputs": [
    {
     "name": "stderr",
     "output_type": "stream",
     "text": [
      "Trainer will use only 1 of 4 GPUs because it is running inside an interactive / notebook environment. You may try to set `Trainer(devices=4)` but please note that multi-GPU inside interactive / notebook environments is considered experimental and unstable. Your mileage may vary.\n",
      "GPU available: True (cuda), used: True\n",
      "TPU available: False, using: 0 TPU cores\n",
      "IPU available: False, using: 0 IPUs\n",
      "HPU available: False, using: 0 HPUs\n",
      "LOCAL_RANK: 0 - CUDA_VISIBLE_DEVICES: [0,1,2,3]\n",
      "\n",
      "  | Name | Type | Params\n",
      "------------------------------\n",
      "0 | flow | Flow | 346 K \n",
      "------------------------------\n",
      "346 K     Trainable params\n",
      "0         Non-trainable params\n",
      "346 K     Total params\n",
      "1.386     Total estimated model params size (MB)\n"
     ]
    },
    {
     "data": {
      "application/vnd.jupyter.widget-view+json": {
       "model_id": "",
       "version_major": 2,
       "version_minor": 0
      },
      "text/plain": [
       "Sanity Checking: |          | 0/? [00:00<?, ?it/s]"
      ]
     },
     "metadata": {},
     "output_type": "display_data"
    },
    {
     "data": {
      "application/vnd.jupyter.widget-view+json": {
       "model_id": "2ea96e8018b74e98952bf727fc466c69",
       "version_major": 2,
       "version_minor": 0
      },
      "text/plain": [
       "Training: |          | 0/? [00:00<?, ?it/s]"
      ]
     },
     "metadata": {},
     "output_type": "display_data"
    },
    {
     "data": {
      "application/vnd.jupyter.widget-view+json": {
       "model_id": "",
       "version_major": 2,
       "version_minor": 0
      },
      "text/plain": [
       "Validation: |          | 0/? [00:00<?, ?it/s]"
      ]
     },
     "metadata": {},
     "output_type": "display_data"
    },
    {
     "data": {
      "application/vnd.jupyter.widget-view+json": {
       "model_id": "",
       "version_major": 2,
       "version_minor": 0
      },
      "text/plain": [
       "Validation: |          | 0/? [00:00<?, ?it/s]"
      ]
     },
     "metadata": {},
     "output_type": "display_data"
    },
    {
     "data": {
      "application/vnd.jupyter.widget-view+json": {
       "model_id": "",
       "version_major": 2,
       "version_minor": 0
      },
      "text/plain": [
       "Validation: |          | 0/? [00:00<?, ?it/s]"
      ]
     },
     "metadata": {},
     "output_type": "display_data"
    },
    {
     "data": {
      "application/vnd.jupyter.widget-view+json": {
       "model_id": "",
       "version_major": 2,
       "version_minor": 0
      },
      "text/plain": [
       "Validation: |          | 0/? [00:00<?, ?it/s]"
      ]
     },
     "metadata": {},
     "output_type": "display_data"
    },
    {
     "data": {
      "application/vnd.jupyter.widget-view+json": {
       "model_id": "",
       "version_major": 2,
       "version_minor": 0
      },
      "text/plain": [
       "Validation: |          | 0/? [00:00<?, ?it/s]"
      ]
     },
     "metadata": {},
     "output_type": "display_data"
    },
    {
     "data": {
      "application/vnd.jupyter.widget-view+json": {
       "model_id": "",
       "version_major": 2,
       "version_minor": 0
      },
      "text/plain": [
       "Validation: |          | 0/? [00:00<?, ?it/s]"
      ]
     },
     "metadata": {},
     "output_type": "display_data"
    },
    {
     "data": {
      "application/vnd.jupyter.widget-view+json": {
       "model_id": "",
       "version_major": 2,
       "version_minor": 0
      },
      "text/plain": [
       "Validation: |          | 0/? [00:00<?, ?it/s]"
      ]
     },
     "metadata": {},
     "output_type": "display_data"
    },
    {
     "data": {
      "application/vnd.jupyter.widget-view+json": {
       "model_id": "",
       "version_major": 2,
       "version_minor": 0
      },
      "text/plain": [
       "Validation: |          | 0/? [00:00<?, ?it/s]"
      ]
     },
     "metadata": {},
     "output_type": "display_data"
    },
    {
     "data": {
      "application/vnd.jupyter.widget-view+json": {
       "model_id": "",
       "version_major": 2,
       "version_minor": 0
      },
      "text/plain": [
       "Validation: |          | 0/? [00:00<?, ?it/s]"
      ]
     },
     "metadata": {},
     "output_type": "display_data"
    },
    {
     "data": {
      "application/vnd.jupyter.widget-view+json": {
       "model_id": "",
       "version_major": 2,
       "version_minor": 0
      },
      "text/plain": [
       "Validation: |          | 0/? [00:00<?, ?it/s]"
      ]
     },
     "metadata": {},
     "output_type": "display_data"
    },
    {
     "data": {
      "application/vnd.jupyter.widget-view+json": {
       "model_id": "",
       "version_major": 2,
       "version_minor": 0
      },
      "text/plain": [
       "Validation: |          | 0/? [00:00<?, ?it/s]"
      ]
     },
     "metadata": {},
     "output_type": "display_data"
    },
    {
     "data": {
      "application/vnd.jupyter.widget-view+json": {
       "model_id": "",
       "version_major": 2,
       "version_minor": 0
      },
      "text/plain": [
       "Validation: |          | 0/? [00:00<?, ?it/s]"
      ]
     },
     "metadata": {},
     "output_type": "display_data"
    },
    {
     "data": {
      "application/vnd.jupyter.widget-view+json": {
       "model_id": "",
       "version_major": 2,
       "version_minor": 0
      },
      "text/plain": [
       "Validation: |          | 0/? [00:00<?, ?it/s]"
      ]
     },
     "metadata": {},
     "output_type": "display_data"
    },
    {
     "data": {
      "application/vnd.jupyter.widget-view+json": {
       "model_id": "",
       "version_major": 2,
       "version_minor": 0
      },
      "text/plain": [
       "Validation: |          | 0/? [00:00<?, ?it/s]"
      ]
     },
     "metadata": {},
     "output_type": "display_data"
    },
    {
     "data": {
      "application/vnd.jupyter.widget-view+json": {
       "model_id": "",
       "version_major": 2,
       "version_minor": 0
      },
      "text/plain": [
       "Validation: |          | 0/? [00:00<?, ?it/s]"
      ]
     },
     "metadata": {},
     "output_type": "display_data"
    },
    {
     "data": {
      "application/vnd.jupyter.widget-view+json": {
       "model_id": "",
       "version_major": 2,
       "version_minor": 0
      },
      "text/plain": [
       "Validation: |          | 0/? [00:00<?, ?it/s]"
      ]
     },
     "metadata": {},
     "output_type": "display_data"
    },
    {
     "data": {
      "application/vnd.jupyter.widget-view+json": {
       "model_id": "",
       "version_major": 2,
       "version_minor": 0
      },
      "text/plain": [
       "Validation: |          | 0/? [00:00<?, ?it/s]"
      ]
     },
     "metadata": {},
     "output_type": "display_data"
    },
    {
     "data": {
      "application/vnd.jupyter.widget-view+json": {
       "model_id": "",
       "version_major": 2,
       "version_minor": 0
      },
      "text/plain": [
       "Validation: |          | 0/? [00:00<?, ?it/s]"
      ]
     },
     "metadata": {},
     "output_type": "display_data"
    },
    {
     "data": {
      "application/vnd.jupyter.widget-view+json": {
       "model_id": "",
       "version_major": 2,
       "version_minor": 0
      },
      "text/plain": [
       "Validation: |          | 0/? [00:00<?, ?it/s]"
      ]
     },
     "metadata": {},
     "output_type": "display_data"
    },
    {
     "data": {
      "application/vnd.jupyter.widget-view+json": {
       "model_id": "",
       "version_major": 2,
       "version_minor": 0
      },
      "text/plain": [
       "Validation: |          | 0/? [00:00<?, ?it/s]"
      ]
     },
     "metadata": {},
     "output_type": "display_data"
    },
    {
     "name": "stderr",
     "output_type": "stream",
     "text": [
      "`Trainer.fit` stopped: `max_epochs=20` reached.\n"
     ]
    }
   ],
   "source": [
    "# Train the model\n",
    "trainer = pl.Trainer(max_epochs=20)\n",
    "trainer.fit(model=nle, train_dataloaders=train_loader, val_dataloaders=val_loader)"
   ]
  },
  {
   "cell_type": "code",
   "execution_count": 33,
   "metadata": {
    "tags": []
   },
   "outputs": [],
   "source": [
    "# # Generate synthetic data for testing\n",
    "# theta_test = np.array([0.3, 70.0])\n",
    "# x_test = luminosity_distance_simulator(theta_test, z)\n",
    "\n",
    "# # Normalize test data\n",
    "# x_test_norm = (torch.Tensor(x_test) - x_mean) / x_std\n",
    "\n",
    "# context = (( torch.Tensor(theta_test) - theta_mean )/ theta_std).unsqueeze(0)"
   ]
  },
  {
   "cell_type": "code",
   "execution_count": 34,
   "metadata": {
    "tags": []
   },
   "outputs": [],
   "source": [
    "# Define the prior distribution\n",
    "def log_prior(theta):\n",
    "    Omega_m, H0 = theta\n",
    "    if 0 < Omega_m < 1 and 50 < H0 < 100:\n",
    "        return 0.0  # Uniform prior\n",
    "    else:\n",
    "        return -np.inf  # Log(0) for invalid values\n",
    "\n",
    "\n",
    "# Define the log-posterior function\n",
    "def log_posterior(theta, x_obs, nle, x_mean, x_std, theta_mean, theta_std):\n",
    "    theta = torch.tensor(theta, dtype=torch.float32)\n",
    "    context = (theta - theta_mean) / theta_std\n",
    "    context = context.unsqueeze(0)\n",
    "    \n",
    "    with torch.no_grad():\n",
    "        log_likelihood = nle.flow.log_prob(x_obs.unsqueeze(0), context).item()\n",
    "    \n",
    "    lp = log_prior(theta)\n",
    "    \n",
    "    return log_likelihood + lp\n"
   ]
  },
  {
   "cell_type": "code",
   "execution_count": 35,
   "metadata": {
    "tags": []
   },
   "outputs": [],
   "source": [
    "theta_test = np.array([0.3, 70.0])\n",
    "x_test = luminosity_distance_simulator(theta_test, z)\n",
    "\n",
    "x_test_norm = (torch.tensor(x_test, dtype=torch.float32) - x_mean) / x_std"
   ]
  },
  {
   "cell_type": "code",
   "execution_count": 36,
   "metadata": {
    "tags": []
   },
   "outputs": [
    {
     "name": "stderr",
     "output_type": "stream",
     "text": [
      "100%|██████████| 5000/5000 [04:11<00:00, 19.91it/s]\n"
     ]
    }
   ],
   "source": [
    "# Set up the MCMC sampler\n",
    "ndim = 2\n",
    "nwalkers = 50\n",
    "nsteps = 5000\n",
    "\n",
    "# Initial positions of the walkers\n",
    "initial_pos = [theta_test + 1e-4*np.random.randn(ndim) for i in range(nwalkers)]\n",
    "\n",
    "# Observed data\n",
    "x_obs = (torch.tensor(luminosity_distance_simulator(theta_test, z), dtype=torch.float32) - x_mean) / x_std\n",
    "\n",
    "# MCMC sampler\n",
    "sampler = emcee.EnsembleSampler(nwalkers, ndim, log_posterior, args=(x_obs, nle, x_mean, x_std, theta_mean, theta_std))\n",
    "\n",
    "# Run MCMC\n",
    "sampler.run_mcmc(initial_pos, nsteps, progress=True)\n",
    "\n",
    "# Get the samples\n",
    "samples = sampler.get_chain(discard=1000, thin=15, flat=True)\n",
    "\n",
    "# Rescale the samples to the original parameter space\n",
    "samples = samples * theta_std.numpy() + theta_mean.numpy()"
   ]
  },
  {
   "cell_type": "code",
   "execution_count": 37,
   "metadata": {
    "tags": []
   },
   "outputs": [],
   "source": [
    "# unrescale\n",
    "samples = (samples - theta_mean.numpy()) / theta_std.numpy()"
   ]
  },
  {
   "cell_type": "code",
   "execution_count": 38,
   "metadata": {
    "tags": []
   },
   "outputs": [
    {
     "name": "stdout",
     "output_type": "stream",
     "text": [
      "Removed no burn in\n"
     ]
    },
    {
     "data": {
      "image/png": "[encoded data removed]",
      "text/plain": [
       "<Figure size 400x400 with 3 Axes>"
      ]
     },
     "metadata": {},
     "output_type": "display_data"
    }
   ],
   "source": [
    "\n",
    "# Create a MCSamples instance\n",
    "samples_mcs = MCSamples(samples=samples, labels=['Omega_m', 'H_0'], names=['Omega_m', 'H_0'])\n",
    "\n",
    "# Create a GetDist plot\n",
    "g = plots.get_subplot_plotter()\n",
    "g.triangle_plot([samples_mcs], filled=True, markers={'Omega_m': 0.3, 'H_0': 70})\n",
    "\n",
    "plt.show()"
   ]
  }
 ],
 "metadata": {
  "kernelspec": {
   "display_name": "Python 3 (ipykernel)",
   "language": "python",
   "name": "python3"
  },
  "language_info": {
   "codemirror_mode": {
    "name": "ipython",
    "version": 3
   },
   "file_extension": ".py",
   "mimetype": "text/x-python",
   "name": "python",
   "nbconvert_exporter": "python",
   "pygments_lexer": "ipython3",
   "version": "3.10.9"
  }
 },
 "nbformat": 4,
 "nbformat_minor": 4
}
