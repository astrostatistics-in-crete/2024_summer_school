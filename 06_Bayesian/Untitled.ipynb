{
 "cells": [
  {
   "cell_type": "markdown",
   "id": "edc8374f",
   "metadata": {},
   "source": [
    "# Section 1: Bayesball\n",
    "\n",
    "# Section 2: Bayesian vs. Frequentist (counts example)\n",
    "\n",
    "# Section 3: Fitting a line\n",
    "\n",
    "# Section 4: Bayes factors (briefly)"
   ]
  },
  {
   "cell_type": "code",
   "execution_count": null,
   "id": "c5208f82",
   "metadata": {},
   "outputs": [],
   "source": []
  }
 ],
 "metadata": {
  "kernelspec": {
   "display_name": "Python (AstroStat24)",
   "language": "python",
   "name": "astrostat24"
  },
  "language_info": {
   "codemirror_mode": {
    "name": "ipython",
    "version": 3
   },
   "file_extension": ".py",
   "mimetype": "text/x-python",
   "name": "python",
   "nbconvert_exporter": "python",
   "pygments_lexer": "ipython3",
   "version": "3.9.16"
  }
 },
 "nbformat": 4,
 "nbformat_minor": 5
}
