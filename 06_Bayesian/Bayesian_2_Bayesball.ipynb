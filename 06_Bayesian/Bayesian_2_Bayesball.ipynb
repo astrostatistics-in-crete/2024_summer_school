{
 "cells": [
  {
   "cell_type": "code",
   "execution_count": null,
   "id": "a9b33d70",
   "metadata": {},
   "outputs": [],
   "source": [
    "from IPython.display import display, HTML\n",
    "display(HTML(\"<style>.container { width:100% !important; }</style>\"))\n",
    "\n",
    "import numpy as np\n",
    "# import scipy.stats as st\n",
    "import matplotlib.pyplot as plt\n",
    "import matplotlib.animation as animation\n",
    "%matplotlib inline"
   ]
  },
  {
   "cell_type": "markdown",
   "id": "3b95c919",
   "metadata": {},
   "source": [
    "<font size=6>**Bayesball: updating beliefs**</font>\n",
    "\n",
    "The Bayes rule introduces the prior using just math! This is intuitively interpreted as the necessecity to think about any prior beliefs before making any assessment. And it's not something we do not all think in everyday life! Let's play a game!\n",
    "\n",
    "# 1. Hitting a table with a ball"
   ]
  },
  {
   "cell_type": "code",
   "execution_count": null,
   "id": "cea30450",
   "metadata": {
    "scrolled": false
   },
   "outputs": [],
   "source": [
    "table_resolution = 20\n",
    "example_prior = np.ones((table_resolution, table_resolution))\n",
    "\n",
    "def show_table(probability, target=None, hits=None, title=None, showfig=True):\n",
    "    plt.figure()\n",
    "    plt.title(title)\n",
    "    plt.imshow(probability, cmap=\"Wistia\", origin=\"lower\", extent=(0, 1, 0, 1), vmin=0.0, vmax=1.0)\n",
    "    for pos in np.linspace(0.0, 1.0, table_resolution+1):\n",
    "        plt.axvline(pos, color=\"maroon\", alpha=0.3)\n",
    "        plt.axhline(pos, color=\"maroon\", alpha=0.3)\n",
    "    if target is not None:\n",
    "        plt.plot(*target, marker=\"X\", color=\"k\")\n",
    "    if hits is not None:\n",
    "        hits_x, hits_y = zip(*hits)\n",
    "        plt.plot(hits_x, hits_y, \"b.\")\n",
    "    plt.colorbar()\n",
    "    if showfig:\n",
    "        plt.show()\n",
    "    \n",
    "def throw(size=1):\n",
    "    return np.squeeze(np.random.rand(size, 2))\n",
    "\n",
    "\n",
    "show_table(probability=example_prior)\n",
    "\n",
    "example_target = throw()\n",
    "show_table(probability=example_prior, target=example_target)\n",
    "\n",
    "example_hits = throw(size=10)\n",
    "show_table(probability=example_prior, target=example_target, hits=example_hits)"
   ]
  },
  {
   "cell_type": "markdown",
   "id": "d189eb8b",
   "metadata": {},
   "source": [
    "# 2. A practical likelihood on the target from verbal descriptions"
   ]
  },
  {
   "cell_type": "code",
   "execution_count": null,
   "id": "c4ed4892",
   "metadata": {
    "scrolled": false
   },
   "outputs": [],
   "source": [
    "def seems_like(response):\n",
    "    like = np.ones((table_resolution, table_resolution))\n",
    "    if \"left\" in response:\n",
    "        for col in range(table_resolution):\n",
    "            like[:, col] *= 1.0 - col / table_resolution\n",
    "    if \"right\" in response:\n",
    "        for col in range(table_resolution):\n",
    "            like[:, col] *= col / table_resolution\n",
    "    if \"upper\" in response:\n",
    "        for row in range(table_resolution):\n",
    "            like[row, :] *= row / table_resolution\n",
    "    if \"lower\" in response:\n",
    "        for row in range(table_resolution):\n",
    "            like[row, :] *= 1.0 - row / table_resolution\n",
    "    like /= np.max(like)\n",
    "    return like\n",
    "# show_table()\n",
    "\n",
    "example_responses = [\"left\", \"right\", \"upper\", \"lower\", \"upper left\", \"lower right\"]\n",
    "for where in example_responses:\n",
    "    show_table(seems_like(where), title=where)"
   ]
  },
  {
   "cell_type": "markdown",
   "id": "5a9cd838",
   "metadata": {},
   "source": [
    "# 3. Playing the game"
   ]
  },
  {
   "cell_type": "code",
   "execution_count": null,
   "id": "2aa17458",
   "metadata": {},
   "outputs": [],
   "source": [
    "%matplotlib notebook\n",
    "\n",
    "prior = np.ones((table_resolution, table_resolution))\n",
    "\n",
    "def response(position, target):\n",
    "    x_pos, y_pos = position\n",
    "    x_tar, y_tar = target\n",
    "    reply = \"upper \" if y_pos <= y_tar else \"lower \"\n",
    "    reply += \"right\" if x_pos <= x_tar else \"left\"\n",
    "    return reply\n",
    "\n",
    "verbose = False\n",
    "n_steps = 100\n",
    "\n",
    "target = throw()\n",
    "print(\"TARGET : ({:.3f}, {:.3f})\".format(*target))\n",
    "\n",
    "hits = []\n",
    "\n",
    "likelihoods = [prior]\n",
    "titles = [\"Prior\"]\n",
    "for i in range(n_steps):\n",
    "    hit = throw()\n",
    "    hits.append(hit)\n",
    "    reply = response(hit, target)\n",
    "    likelihood = likelihoods[-1] * seems_like(reply)\n",
    "    likelihood /= np.max(likelihood)\n",
    "    likelihoods.append(likelihood)\n",
    "    titles.append(reply)\n",
    "\n",
    "x_estimate = np.sum(likelihood * np.linspace(0, 1, table_resolution)) / np.sum(likelihood)\n",
    "y_estimate = np.sum(likelihood.T * np.linspace(0, 1, table_resolution)) / np.sum(likelihood)\n",
    "print(f\"Final estimate: ({x_estimate:.3f}, {y_estimate:.3f})\")\n",
    "\n",
    "import matplotlib.animation as animation\n",
    "\n",
    "fig, ax = plt.subplots(1, 1)\n",
    "ax.set_xlim(0, 1)\n",
    "ax.set_ylim(0, 1)\n",
    "\n",
    "def animate(step):\n",
    "    ax.clear()\n",
    "    hits_x, hits_y = zip(*hits[:step+1])\n",
    "    plt.imshow(likelihoods[step], cmap=\"Wistia\", origin=\"lower\", extent=(0, 1, 0, 1), vmin=0.0, vmax=1.0)\n",
    "    plt.plot(hits_x, hits_y, \"k.\", alpha=0.7)\n",
    "    plt.plot(*target, marker=\"X\", markersize=12, color=\"b\")\n",
    "    plt.title(titles[step])\n",
    "    \n",
    "\n",
    "ani = animation.FuncAnimation(fig, func=animate, frames=n_steps, interval=20, repeat=True, blit=False)\n",
    "plt.show()"
   ]
  }
 ],
 "metadata": {
  "kernelspec": {
   "display_name": "Python (AstroStat24)",
   "language": "python",
   "name": "astrostat24"
  },
  "language_info": {
   "codemirror_mode": {
    "name": "ipython",
    "version": 3
   },
   "file_extension": ".py",
   "mimetype": "text/x-python",
   "name": "python",
   "nbconvert_exporter": "python",
   "pygments_lexer": "ipython3",
   "version": "3.9.16"
  }
 },
 "nbformat": 4,
 "nbformat_minor": 5
}
