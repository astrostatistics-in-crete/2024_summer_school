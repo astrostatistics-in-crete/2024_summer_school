{
 "cells": [
  {
   "cell_type": "code",
   "execution_count": null,
   "metadata": {},
   "outputs": [],
   "source": [
    "!pip install bdsf\n",
    "!pip install pyregion"
   ]
  },
  {
   "cell_type": "code",
   "execution_count": null,
   "metadata": {},
   "outputs": [],
   "source": [
    "import numpy as np\n",
    "from astropy.io import fits\n",
    "from astropy.utils.data import get_pkg_data_filename\n",
    "import matplotlib.pyplot as plt\n",
    "import matplotlib.colors as colors\n",
    "import bdsf as sf\n",
    "import pyregion\n",
    "from astropy.wcs import WCS"
   ]
  },
  {
   "cell_type": "code",
   "execution_count": null,
   "metadata": {
    "scrolled": false
   },
   "outputs": [],
   "source": [
    "# image to be used for source identification - cutout from 144MHz COSMOS (PI: Vardoulaki)\n",
    "# let's see what we are working with \n",
    "\n",
    "# Load the image data from the local file\n",
    "image_file = get_pkg_data_filename('cosmos144MHz_zoom_2naxis.fits')\n",
    "image_data = fits.getdata(image_file, ext=0)\n",
    "image_header = fits.getheader(image_file, ext=0)\n",
    "\n",
    "\n",
    "plt.figure()\n",
    "plt.imshow(image_data,vmin=1e-5, vmax=1e-3,origin='lower',interpolation='nearest', aspect='auto',cmap='inferno')\n",
    "plt.title(r'COSMOS 144 MHz')\n",
    "plt.xlabel('Right Ascension (J2000)')\n",
    "plt.ylabel('Declination (J2000)')"
   ]
  },
  {
   "cell_type": "code",
   "execution_count": null,
   "metadata": {
    "scrolled": false
   },
   "outputs": [],
   "source": [
    "#run pybdsf code with default settings\n",
    "sf.process_image(\"./cosmos144MHz_zoom.fits\", thresh_isl=4.0, thresh_pix=5.0, rms_box=(150, 15), \n",
    "                 rms_map=True, mean_map='zero', ini_method='intensity', adaptive_rms_box=True, \n",
    "                 adaptive_thresh=150, rms_box_bright=(60, 15), group_by_isl=False, \n",
    "                 group_tol=10.0, output_opts=True, output_all=True, atrous_do=True,atrous_jmax=4, \n",
    "                 flagging_opts=True, flag_maxsize_fwhm=0.5,advanced_opts=True, blank_limit=None)"
   ]
  },
  {
   "cell_type": "markdown",
   "metadata": {},
   "source": [
    "PyBDSF creates a folder with all results of the fitting, and the final catalogues plus locations for the identified radio islands. \n",
    "\n",
    "cosmos144MHz_zoom_pybdsf: \n",
    "\n",
    "background\n",
    "catalogues\n",
    "misc\n",
    "model\n",
    "residual\n",
    "wavelet\n",
    "\n",
    "In catalogues, we can find the locations of the islands and mark them on the radio image. We also find the source catalogue. For more info on PyBDSF https://pybdsf.readthedocs.io/en/latest/"
   ]
  },
  {
   "cell_type": "code",
   "execution_count": null,
   "metadata": {
    "scrolled": true
   },
   "outputs": [],
   "source": [
    "# plot the radio map\n",
    "image_file2 = fits.open('cosmos144MHz_zoom_2naxis.fits', memmap=True) \n",
    "image_data2 = image_file2[0].data\n",
    "image_header2 = image_file2[0].header\n",
    "\n",
    "wcs = WCS(image_header,naxis=2)\n",
    "print('---------',wcs)\n",
    "\n",
    "plt.figure()\n",
    "\n",
    "fig, ax = plt.subplots(figsize=(8,6))\n",
    "ax = plt.subplot(projection=wcs)\n",
    "    \n",
    "plt.imshow(image_data,vmin=1e-5, vmax=1e-3,origin='lower',interpolation='nearest', aspect='auto',cmap='gray')\n",
    "\n",
    "plt.title(r'COSMOS 144 MHz')\n",
    "plt.xlabel('Right Ascension (J2000)')\n",
    "plt.ylabel('Declination (J2000)')\n",
    "\n",
    "\n",
    "# get the regions from the file\n",
    "region_name = \"cosmos144MHz_zoom_pybdsf/catalogues/cosmos144MHz_zoom.pybdsf.srl.ds9.reg\"\n",
    "\n",
    "r = pyregion.open(region_name).as_imagecoord(header=image_header2)\n",
    "\n",
    "patch_list, artist_list = r.get_mpl_patches_texts()\n",
    "\n",
    "\n",
    "# ax is a mpl Axes object\n",
    "for p in patch_list:\n",
    "    ax.add_patch(p)\n",
    "# for t in artist_list:\n",
    "#     ax.add_artist(t)\n",
    "\n",
    "# Save the figure to a PNG file\n",
    "output_file = 'cosmos144MHz_zoom.png'\n",
    "plt.savefig(output_file, dpi=300, bbox_inches='tight')"
   ]
  },
  {
   "cell_type": "markdown",
   "metadata": {},
   "source": [
    "Let's see what is in the catalogue"
   ]
  },
  {
   "cell_type": "code",
   "execution_count": null,
   "metadata": {},
   "outputs": [],
   "source": [
    "pybdsf_cat = fits.open('cosmos144MHz_zoom_pybdsf/catalogues/cosmos144MHz_zoom.pybdsf.srl.FITS')\n",
    "pybdsf_cat.info()"
   ]
  },
  {
   "cell_type": "code",
   "execution_count": null,
   "metadata": {
    "scrolled": true
   },
   "outputs": [],
   "source": [
    "print(pybdsf_cat[1].columns)"
   ]
  },
  {
   "cell_type": "code",
   "execution_count": null,
   "metadata": {},
   "outputs": [],
   "source": [
    "pybdsf_data = pybdsf_cat[1].data\n",
    "\n",
    "# make histogram of flux density of islands identified\n",
    "\n",
    "# Create logarithmically spaced bins\n",
    "min_flux = np.nanmin(pybdsf_data['Total_flux'])\n",
    "max_flux = np.nanmax(pybdsf_data['Total_flux'])\n",
    "bins = np.logspace(np.log10(min_flux), np.log10(max_flux), num=50)  # Adjust num for the number of bins you want\n",
    "\n",
    "# Create the histogram\n",
    "plt.figure()\n",
    "flux_hist = plt.hist(pybdsf_data['Total_flux'], bins=bins, edgecolor='black', color='green')\n",
    "\n",
    "# Set the x-axis to logarithmic scale\n",
    "plt.xscale('log')\n",
    "\n",
    "# Set the labels and title\n",
    "plt.xlabel('Flux density (Jy)', fontsize=20)\n",
    "plt.ylabel('Number of Sources', fontsize=20)\n",
    "plt.title('Histogram of Flux Density', fontsize=20)"
   ]
  },
  {
   "cell_type": "code",
   "execution_count": null,
   "metadata": {},
   "outputs": [],
   "source": []
  },
  {
   "cell_type": "code",
   "execution_count": null,
   "metadata": {},
   "outputs": [],
   "source": []
  }
 ],
 "metadata": {
  "kernelspec": {
   "display_name": "Python (AstroStat24)",
   "language": "python",
   "name": "astrostat24"
  },
  "language_info": {
   "codemirror_mode": {
    "name": "ipython",
    "version": 3
   },
   "file_extension": ".py",
   "mimetype": "text/x-python",
   "name": "python",
   "nbconvert_exporter": "python",
   "pygments_lexer": "ipython3",
   "version": "3.9.16"
  }
 },
 "nbformat": 4,
 "nbformat_minor": 4
}
